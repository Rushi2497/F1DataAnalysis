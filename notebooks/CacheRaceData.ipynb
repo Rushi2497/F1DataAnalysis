{
 "cells": [
  {
   "cell_type": "code",
   "execution_count": null,
   "id": "a9648050",
   "metadata": {},
   "outputs": [],
   "source": [
    "import fastf1"
   ]
  },
  {
   "cell_type": "code",
   "execution_count": null,
   "id": "4273ec96",
   "metadata": {},
   "outputs": [],
   "source": [
    "fastf1.Cache.enable_cache('./f1_cache')\n",
    "fastf1.Cache.get_cache_info()"
   ]
  },
  {
   "cell_type": "code",
   "execution_count": null,
   "id": "3d9d9433",
   "metadata": {},
   "outputs": [],
   "source": [
    "fastf1.get_event_schedule(2024,include_testing=False).RoundNumber.nunique()"
   ]
  },
  {
   "cell_type": "code",
   "execution_count": null,
   "id": "e19df716",
   "metadata": {},
   "outputs": [],
   "source": [
    "for i in range(1,25):\n",
    "    qualifying = fastf1.get_session(2024,i,'Q')\n",
    "    race = fastf1.get_session(2024,i,'R')\n",
    "\n",
    "    qualifying.load()\n",
    "    race.load()"
   ]
  }
 ],
 "metadata": {
  "kernelspec": {
   "display_name": ".venv",
   "language": "python",
   "name": "python3"
  },
  "language_info": {
   "codemirror_mode": {
    "name": "ipython",
    "version": 3
   },
   "file_extension": ".py",
   "mimetype": "text/x-python",
   "name": "python",
   "nbconvert_exporter": "python",
   "pygments_lexer": "ipython3",
   "version": "3.13.5"
  }
 },
 "nbformat": 4,
 "nbformat_minor": 5
}

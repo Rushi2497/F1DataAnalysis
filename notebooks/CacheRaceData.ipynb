{
 "cells": [
  {
   "cell_type": "code",
   "execution_count": null,
   "id": "a9648050",
   "metadata": {},
   "outputs": [],
   "source": [
    "import fastf1"
   ]
  },
  {
   "cell_type": "code",
   "execution_count": null,
   "id": "4273ec96",
   "metadata": {},
   "outputs": [],
   "source": [
    "fastf1.Cache.enable_cache('./f1_cache')\n",
    "fastf1.Cache.get_cache_info()"
   ]
  },
  {
   "cell_type": "code",
   "execution_count": null,
   "id": "e19df716",
   "metadata": {},
   "outputs": [],
   "source": [
    "for i in range(1,13):\n",
    "    qualifying = fastf1.get_session(2025,i,'Q')\n",
    "    race = fastf1.get_session(2025,i,'R')\n",
    "\n",
    "    qualifying.load()\n",
    "    race.load()\n"
   ]
  },
  {
   "cell_type": "code",
   "execution_count": null,
   "id": "da4aed6c",
   "metadata": {},
   "outputs": [],
   "source": [
    "for i in [2,6]:\n",
    "    sprint = fastf1.get_session(2025,i,'Sprint')\n",
    "    sprint.load()"
   ]
  },
  {
   "cell_type": "code",
   "execution_count": null,
   "id": "b241b4e6",
   "metadata": {},
   "outputs": [],
   "source": []
  }
 ],
 "metadata": {
  "kernelspec": {
   "display_name": ".venv",
   "language": "python",
   "name": "python3"
  },
  "language_info": {
   "codemirror_mode": {
    "name": "ipython",
    "version": 3
   },
   "file_extension": ".py",
   "mimetype": "text/x-python",
   "name": "python",
   "nbconvert_exporter": "python",
   "pygments_lexer": "ipython3",
   "version": "3.13.5"
  }
 },
 "nbformat": 4,
 "nbformat_minor": 5
}

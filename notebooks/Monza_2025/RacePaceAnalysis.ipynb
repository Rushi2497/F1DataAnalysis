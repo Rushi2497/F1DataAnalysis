{
 "cells": [
  {
   "cell_type": "code",
   "execution_count": null,
   "id": "0c91ed23",
   "metadata": {},
   "outputs": [],
   "source": [
    "import numpy as np\n",
    "import pandas as pd\n",
    "import fastf1\n",
    "from src.plotset import setup_plot, save_fig\n",
    "\n",
    "from fastf1 import plotting\n",
    "import matplotlib.pyplot as plt\n",
    "import seaborn as sns\n",
    "\n",
    "setup_plot()"
   ]
  },
  {
   "cell_type": "code",
   "execution_count": null,
   "id": "faec77e1",
   "metadata": {},
   "outputs": [],
   "source": [
    "fastf1.Cache.enable_cache('./f1_cache')\n",
    "fastf1.Cache.get_cache_info()"
   ]
  },
  {
   "cell_type": "code",
   "execution_count": null,
   "id": "0f7fad10",
   "metadata": {},
   "outputs": [],
   "source": [
    "session = fastf1.get_session(2025,16,'R')\n",
    "session.load()"
   ]
  },
  {
   "cell_type": "code",
   "execution_count": null,
   "id": "5e5305d3",
   "metadata": {},
   "outputs": [],
   "source": [
    "drivers = session.drivers\n",
    "drivers = [session.get_driver(drv).Abbreviation for drv in drivers]"
   ]
  },
  {
   "cell_type": "code",
   "execution_count": null,
   "id": "6afdc3c9",
   "metadata": {},
   "outputs": [],
   "source": [
    "temp = session.laps.pick_drivers('PIA').pick_quicklaps().copy()\n",
    "temp['Stint_Compound'] = temp.apply(lambda x: str(int(x['Stint'])) + '_'+ x['Compound'],axis=1)"
   ]
  },
  {
   "cell_type": "code",
   "execution_count": null,
   "id": "9ed2be10",
   "metadata": {},
   "outputs": [],
   "source": [
    "comp_palette = {'1_SOFT': '#da291c',\n",
    "                '2_SOFT': '#da291c',\n",
    "                '3_SOFT': '#da291c',\n",
    "                '1_MEDIUM': '#ffd12e',\n",
    "                '2_MEDIUM': '#ffd12e',\n",
    "                '3_MEDIUM': '#ffd12e',\n",
    "                '1_HARD': '#f0f0ec',\n",
    "                '2_HARD': '#f0f0ec',\n",
    "                '3_HARD': '#f0f0ec'\n",
    "}"
   ]
  },
  {
   "cell_type": "code",
   "execution_count": null,
   "id": "8dfd6ab9",
   "metadata": {},
   "outputs": [],
   "source": [
    "setup_plot(xyticksize=24,axeslabel=28, figtitle=40)\n",
    "\n",
    "fig, ax = plt.subplots(figsize=(15,8))\n",
    "\n",
    "for drv in drivers[:5]:\n",
    "\n",
    "    df = session.laps.pick_drivers(drv).pick_quicklaps(1.05).copy()\n",
    "    df['LapTime'] = df['LapTime'].dt.total_seconds()\n",
    "    df['Stint_Compound'] = df.apply(lambda x: str(int(x['Stint'])) + '_'+ x['Compound'],axis=1)\n",
    "\n",
    "    color = plotting.get_driver_color(session=session,identifier=drv)\n",
    "\n",
    "    sns.violinplot(df,x='Driver',y='LapTime',hue='Stint_Compound',palette=[color]*df.Stint.nunique(),\n",
    "                inner=None,linecolor='w',legend=False)\n",
    "    sns.stripplot(df,x='Driver',y='LapTime',hue='Stint_Compound',palette=comp_palette\n",
    "                ,jitter=0.08,linewidth=1,size=15,edgecolor='k',dodge=True,legend=False)\n",
    "\n",
    "# Collect laps\n",
    "mean_laps = (\n",
    "    session.laps.pick_drivers(drivers[:5])\n",
    "    .pick_quicklaps(1.05)\n",
    "    .copy()\n",
    ")\n",
    "mean_laps['LapTime'] = mean_laps['LapTime'].dt.total_seconds()\n",
    "\n",
    "# Mean per driver+stint\n",
    "driver_stint_means = mean_laps.groupby([\"Driver\", \"Stint\"])[\"LapTime\"].mean().reset_index()\n",
    "\n",
    "# Pivot: rows=Driver, cols=Stint\n",
    "pivot_means = driver_stint_means.pivot(index=\"Driver\", columns=\"Stint\", values=\"LapTime\")\n",
    "pivot_means = pivot_means.loc[['VER','NOR','PIA','LEC','RUS']]\n",
    "\n",
    "# Plot one line per stint across drivers\n",
    "for stint in pivot_means.columns[:1]:\n",
    "    ax.plot(\n",
    "        [-0.2,0.8,1.8,2.8,3.8],            # x = driver index\n",
    "        pivot_means[stint].values,          # y = mean laptimes for that stint\n",
    "        marker=\"o\", linestyle=\"--\", linewidth=2, markersize=10,\n",
    "        label=f\"Stint {stint} Mean Lap Time\"\n",
    "    )\n",
    "\n",
    "# Plot one line per stint across drivers\n",
    "for stint in pivot_means.columns[1:]:\n",
    "    ax.plot(\n",
    "        [0.2,1.2,2.2,3.2,4.2],            # x = driver index\n",
    "        pivot_means[stint].values,          # y = mean laptimes for that stint\n",
    "        marker=\"o\", linestyle=\"--\", linewidth=2, markersize=10,\n",
    "        label=f\"Stint {stint} Mean Lap Time\"\n",
    "    )\n",
    "\n",
    "ax.legend()\n",
    "ax.set_ylim(80,86)\n",
    "ax.set_ylabel(\"Lap Time (sec)\")\n",
    "ax.set_xlabel(\"\")\n",
    "ax.set_xticks([])\n",
    "ax.set_title('Race Pace (lower laptime is better)',pad=30)\n",
    "\n",
    "ax.grid(visible=False)"
   ]
  },
  {
   "cell_type": "code",
   "execution_count": null,
   "id": "d1335205",
   "metadata": {},
   "outputs": [],
   "source": [
    "save_fig(fig=fig, name='race_pace',loc='Reel18')"
   ]
  }
 ],
 "metadata": {
  "kernelspec": {
   "display_name": ".venv",
   "language": "python",
   "name": "python3"
  },
  "language_info": {
   "codemirror_mode": {
    "name": "ipython",
    "version": 3
   },
   "file_extension": ".py",
   "mimetype": "text/x-python",
   "name": "python",
   "nbconvert_exporter": "python",
   "pygments_lexer": "ipython3",
   "version": "3.13.5"
  }
 },
 "nbformat": 4,
 "nbformat_minor": 5
}

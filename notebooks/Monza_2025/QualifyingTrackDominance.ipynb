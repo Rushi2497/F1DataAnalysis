{
 "cells": [
  {
   "cell_type": "code",
   "execution_count": null,
   "id": "0c91ed23",
   "metadata": {},
   "outputs": [],
   "source": [
    "import numpy as np\n",
    "import pandas as pd\n",
    "import fastf1\n",
    "from src.utils import compute_track_dominance_multi, quali_track_evolution\n",
    "from src.plotset import setup_plot, save_fig, plot_track_dominance, plot_quali_track_evolution\n",
    "\n",
    "from fastf1 import plotting\n",
    "import matplotlib.pyplot as plt\n",
    "import seaborn as sns\n",
    "\n",
    "setup_plot()"
   ]
  },
  {
   "cell_type": "code",
   "execution_count": null,
   "id": "faec77e1",
   "metadata": {},
   "outputs": [],
   "source": [
    "fastf1.Cache.enable_cache('./f1_cache')\n",
    "fastf1.Cache.get_cache_info()"
   ]
  },
  {
   "cell_type": "code",
   "execution_count": null,
   "id": "63b581a0",
   "metadata": {},
   "outputs": [],
   "source": [
    "session = fastf1.get_session(2025,16,'Q')\n",
    "session.load()"
   ]
  },
  {
   "cell_type": "code",
   "execution_count": null,
   "id": "752177f7",
   "metadata": {},
   "outputs": [],
   "source": [
    "points, segments, colors = compute_track_dominance_multi(session=session,drivers=['VER','NOR'],circuit_length=5793,window_size=300,rotation=95)"
   ]
  },
  {
   "cell_type": "code",
   "execution_count": null,
   "id": "7236a740",
   "metadata": {},
   "outputs": [],
   "source": [
    "fig = plot_track_dominance(points=points, segments=segments, colors=colors,figsize=(12,7))"
   ]
  },
  {
   "cell_type": "code",
   "execution_count": null,
   "id": "0d26463d",
   "metadata": {},
   "outputs": [],
   "source": [
    "save_fig(fig=fig, name='track_dominance', loc='Reel17')"
   ]
  },
  {
   "cell_type": "code",
   "execution_count": null,
   "id": "e1d059de",
   "metadata": {},
   "outputs": [],
   "source": [
    "df = quali_track_evolution(session=session)"
   ]
  },
  {
   "cell_type": "code",
   "execution_count": null,
   "id": "8aea85f7",
   "metadata": {},
   "outputs": [],
   "source": [
    "round(df.Q2.mean() - df.Q1.mean(),1), round(df.Q3.mean() - df.Q2.mean(),1)"
   ]
  },
  {
   "cell_type": "code",
   "execution_count": null,
   "id": "81f4b23c",
   "metadata": {},
   "outputs": [],
   "source": [
    "setup_plot(xyticksize=22,axeslabel=24,figtitle=30)\n",
    "fig = plot_quali_track_evolution(df)"
   ]
  },
  {
   "cell_type": "code",
   "execution_count": null,
   "id": "e6b497ad",
   "metadata": {},
   "outputs": [],
   "source": [
    "save_fig(fig=fig, name='quali_evolution', loc='Reel17')"
   ]
  }
 ],
 "metadata": {
  "kernelspec": {
   "display_name": ".venv",
   "language": "python",
   "name": "python3"
  },
  "language_info": {
   "codemirror_mode": {
    "name": "ipython",
    "version": 3
   },
   "file_extension": ".py",
   "mimetype": "text/x-python",
   "name": "python",
   "nbconvert_exporter": "python",
   "pygments_lexer": "ipython3",
   "version": "3.13.5"
  }
 },
 "nbformat": 4,
 "nbformat_minor": 5
}

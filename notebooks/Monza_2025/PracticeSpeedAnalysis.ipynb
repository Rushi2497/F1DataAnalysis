{
 "cells": [
  {
   "cell_type": "code",
   "execution_count": null,
   "id": "0c91ed23",
   "metadata": {},
   "outputs": [],
   "source": [
    "import numpy as np\n",
    "import pandas as pd\n",
    "import matplotlib.pyplot as plt\n",
    "import seaborn as sns\n",
    "import fastf1\n",
    "from src.plotset import setup_plot, save_fig\n",
    "from src.utils import compare_car_speeds\n",
    "from fastf1 import plotting\n",
    "import matplotlib as mpl\n",
    "from matplotlib.collections import LineCollection\n",
    "\n",
    "setup_plot()"
   ]
  },
  {
   "cell_type": "code",
   "execution_count": null,
   "id": "faec77e1",
   "metadata": {},
   "outputs": [],
   "source": [
    "fastf1.Cache.enable_cache('./f1_cache')\n",
    "fastf1.Cache.get_cache_info()"
   ]
  },
  {
   "cell_type": "code",
   "execution_count": null,
   "id": "195fdb12",
   "metadata": {},
   "outputs": [],
   "source": [
    "session = fastf1.get_session(2025,16,'FP2')\n",
    "session.load()"
   ]
  },
  {
   "cell_type": "code",
   "execution_count": null,
   "id": "3692fd59",
   "metadata": {},
   "outputs": [],
   "source": [
    "drivers = session.drivers\n",
    "drivers = [session.get_driver(drv).Abbreviation for drv in drivers]"
   ]
  },
  {
   "cell_type": "code",
   "execution_count": null,
   "id": "9bc30654",
   "metadata": {},
   "outputs": [],
   "source": [
    "drivers"
   ]
  },
  {
   "cell_type": "code",
   "execution_count": null,
   "id": "1531b4f5",
   "metadata": {},
   "outputs": [],
   "source": [
    "corner_inputs = {'low':[2],\n",
    "                 'med':[6,7],\n",
    "                 'high':[3]}\n",
    "car_perf = compare_car_speeds(session=session,drivers=drivers,corner_inputs=corner_inputs,delta=15)"
   ]
  },
  {
   "cell_type": "code",
   "execution_count": null,
   "id": "9a43b614",
   "metadata": {},
   "outputs": [],
   "source": [
    "car_perf"
   ]
  },
  {
   "cell_type": "code",
   "execution_count": null,
   "id": "32396fa9",
   "metadata": {},
   "outputs": [],
   "source": [
    "def assign_colors(x):\n",
    "    if x == 'ARO':\n",
    "        return '#ff87bc'\n",
    "    if x == 'DUN':\n",
    "        return '#FF8000'\n",
    "    else:\n",
    "        return plotting.get_driver_color(session=session,identifier=x)"
   ]
  },
  {
   "cell_type": "code",
   "execution_count": null,
   "id": "ce38073a",
   "metadata": {},
   "outputs": [],
   "source": [
    "car_perf['color'] = car_perf.index.to_series().apply(lambda x: assign_colors(x))"
   ]
  },
  {
   "cell_type": "code",
   "execution_count": null,
   "id": "bd5dc313",
   "metadata": {},
   "outputs": [],
   "source": [
    "# --- 1️⃣ Define ceilings (fastest driver speeds) ---\n",
    "min_speed_ceiling = car_perf['LowSpeedAvg'].max()\n",
    "max_speed_ceiling = car_perf['TopSpeed'].max()\n",
    "\n",
    "# --- 2️⃣ Calculate negative gaps (driver deficit) ---\n",
    "car_perf['min_gap'] = car_perf['LowSpeedAvg'] - min_speed_ceiling  # ≤ 0\n",
    "car_perf['max_gap'] = car_perf['TopSpeed'] - max_speed_ceiling  # ≤ 0\n",
    "\n",
    "# --- 3️⃣ Sort dataframe based on gaps (best performer first) ---\n",
    "car_perf_sorted = car_perf.sort_values(by='min_gap', ascending=False)\n",
    "\n",
    "# ----4️⃣ Sort again for max_gap (might differ from min_gap order) ----\n",
    "car_perf_sorted2 = car_perf.sort_values(by='max_gap', ascending=False)\n",
    "\n",
    "# Top driver in slow speeds\n",
    "best_driver = car_perf_sorted.index[0]\n",
    "best_speed = car_perf_sorted['LowSpeedAvg'].iloc[0]\n",
    "best_color = car_perf_sorted['color'].iloc[0]\n",
    "\n",
    "# Top driver in straights\n",
    "best_driver2 = car_perf_sorted2.index[0]\n",
    "best_speed2 = car_perf_sorted2['TopSpeed'].iloc[0]\n",
    "best_color2 = car_perf_sorted2['color'].iloc[0]"
   ]
  },
  {
   "cell_type": "code",
   "execution_count": null,
   "id": "525cb9ed",
   "metadata": {},
   "outputs": [],
   "source": [
    "# --- Plotting ---\n",
    "\n",
    "setup_plot(xyticksize=20,axeslabel=24,figtitle=30)\n",
    "\n",
    "fig, axes = plt.subplots(2, 1, figsize=(16, 10))\n",
    "\n",
    "# ---- Plot 1: Slow corner speed gaps ----\n",
    "axes[0].bar(car_perf_sorted.index,\n",
    "            car_perf_sorted['min_gap'],\n",
    "            color=car_perf_sorted['color'])\n",
    "axes[0].set_ylabel('Δ Speed (km/h)')\n",
    "axes[0].set_title(f'Slow Speed Corner Deficit (compared to Best, {int(car_perf_sorted['LowSpeedAvg'].values[0])} km/h)')\n",
    "axes[0].axhline(0, color='black', linewidth=10)\n",
    "\n",
    "# ---- Plot 2: Straight-line speed gaps ----\n",
    "axes[1].bar(car_perf_sorted2.index,\n",
    "            car_perf_sorted2['max_gap'],\n",
    "            color=car_perf_sorted2['color'])\n",
    "axes[1].set_ylabel('Δ Speed (km/h)')\n",
    "axes[1].set_title(f'Top Speed Deficit (compared to Best, {int(car_perf_sorted2['TopSpeed'].values[0])} km/h)')\n",
    "axes[1].axhline(0, color='black', linewidth=10)\n",
    "\n",
    "axes[0].set_xlim(-0.5, len(car_perf_sorted) - 0.5)\n",
    "axes[1].set_xlim(-0.5, len(car_perf_sorted2) - 0.5)\n",
    "\n",
    "axes[0].text(\n",
    "    x=0, y=-2,                     # position (x = bar index, y = just below axhline)\n",
    "    s=f\"{best_speed:.0f}\",           # text to display\n",
    "    color=best_color, fontsize=24,\n",
    "    ha='center', va='bottom', fontweight='bold'\n",
    ")\n",
    "\n",
    "axes[1].text(\n",
    "    x=0, y=-1.5,                      # position (x = bar index, y = just below axhline)\n",
    "    s=f\"{best_speed2:.0f}\",           # text to display\n",
    "    color=best_color2, fontsize=24,\n",
    "    ha='center', va='bottom', fontweight='bold'\n",
    ")\n",
    "\n",
    "plt.tight_layout()\n",
    "plt.show()"
   ]
  },
  {
   "cell_type": "code",
   "execution_count": null,
   "id": "31bb2fb9",
   "metadata": {},
   "outputs": [],
   "source": [
    "save_fig(fig=fig,name='speed_deficit',loc='Reel16')"
   ]
  },
  {
   "cell_type": "code",
   "execution_count": null,
   "id": "09a49a62",
   "metadata": {},
   "outputs": [],
   "source": [
    "lap = session.laps.pick_fastest()"
   ]
  },
  {
   "cell_type": "code",
   "execution_count": null,
   "id": "f30dacfa",
   "metadata": {},
   "outputs": [],
   "source": [
    "x = lap.telemetry['X']\n",
    "y = lap.telemetry['Y']\n",
    "color = lap.telemetry['Speed']"
   ]
  },
  {
   "cell_type": "code",
   "execution_count": null,
   "id": "7776c7e4",
   "metadata": {},
   "outputs": [],
   "source": [
    "theta = np.deg2rad(session.get_circuit_info().rotation)  # Convert 45° to radians\n",
    "x_rot = x * np.cos(theta) - y * np.sin(theta)\n",
    "y_rot = x * np.sin(theta) + y * np.cos(theta)"
   ]
  },
  {
   "cell_type": "code",
   "execution_count": null,
   "id": "71b53527",
   "metadata": {},
   "outputs": [],
   "source": [
    "points = np.array([x_rot, y_rot]).T.reshape(-1,1,2)\n",
    "segments = np.concatenate([points[:-1], points[1:]], axis=1)"
   ]
  },
  {
   "cell_type": "code",
   "execution_count": null,
   "id": "818f4f07",
   "metadata": {},
   "outputs": [],
   "source": [
    "fig, ax = plt.subplots(figsize=(12, 6))\n",
    "fig.set_facecolor('#000000')\n",
    "ax.axis('off')\n",
    "ax.plot(x_rot, y_rot,\n",
    "        color='#000000', linestyle='-', linewidth=16, zorder=0)\n",
    "\n",
    "norm = plt.Normalize(color.min(), color.max())\n",
    "colormap = mpl.cm.plasma\n",
    "lc = LineCollection(segments, cmap=colormap, norm=norm,\n",
    "                    linestyle='-', linewidth=14)\n",
    "\n",
    "lc.set_array(color)\n",
    "\n",
    "line = ax.add_collection(lc)\n",
    "\n",
    "cbaxes = fig.add_axes([0.5, 0.9, 0.5, 0.05])\n",
    "normlegend = mpl.colors.Normalize(vmin=color.min(), vmax=color.max())\n",
    "legend = mpl.colorbar.ColorbarBase(cbaxes, norm=normlegend, cmap=colormap,\n",
    "                                   orientation=\"horizontal\")\n",
    "\n",
    "for label in legend.ax.get_xticklabels():\n",
    "    label.set_fontsize(16)\n",
    "    label.set_fontweight('bold')\n",
    "    label.set_color('w')\n",
    "\n",
    "legend.ax.set_title('Speed (kmph)',color='w',fontdict=dict(fontsize=18,fontweight='bold'))\n",
    "plt.tight_layout()\n",
    "plt.show()"
   ]
  },
  {
   "cell_type": "code",
   "execution_count": null,
   "id": "7df6635d",
   "metadata": {},
   "outputs": [],
   "source": [
    "save_fig(fig=fig,name='speed_map',loc='Reel16')"
   ]
  },
  {
   "cell_type": "code",
   "execution_count": null,
   "id": "139c6d34",
   "metadata": {},
   "outputs": [],
   "source": [
    "drs_gain  = {}\n",
    "\n",
    "for drv in drivers:\n",
    "    laps = session.laps.pick_drivers(drv).pick_quicklaps()\n",
    "    best_DRS_speed, drs_lap = 0, 0\n",
    "    best_noDRS_speed, nodrs_lap = 0, 0\n",
    "    for i, lap in laps.iterrows():\n",
    "        lapnumber = lap['LapNumber']\n",
    "        speed_tel = lap.get_car_data()[['Speed','DRS']]\n",
    "        if speed_tel.DRS.nunique() > 1:\n",
    "            if speed_tel.Speed.max() > best_DRS_speed:\n",
    "                drs_lap = lapnumber\n",
    "            best_DRS_speed = max(best_DRS_speed, speed_tel.Speed.max())\n",
    "        else:\n",
    "            if speed_tel.Speed.max() > best_noDRS_speed:\n",
    "                nodrs_lap = lapnumber\n",
    "            best_noDRS_speed = max(best_noDRS_speed, speed_tel.Speed.max())\n",
    "    drs_gain[drv] = [best_DRS_speed, best_noDRS_speed, drs_lap, nodrs_lap]"
   ]
  },
  {
   "cell_type": "code",
   "execution_count": null,
   "id": "c3760b06",
   "metadata": {},
   "outputs": [],
   "source": [
    "drs_gain_df = pd.DataFrame(drs_gain).T.set_axis(['DRS','noDRS','drs_lap','nodrs_lap'],axis=1)"
   ]
  },
  {
   "cell_type": "code",
   "execution_count": null,
   "id": "df388ac8",
   "metadata": {},
   "outputs": [],
   "source": [
    "drs_gain_df['gain'] = drs_gain_df['DRS'] - drs_gain_df['noDRS']\n",
    "drs_gain_df.loc[['ANT'],'gain'] = 0\n",
    "drs_gain_df['color'] = drs_gain_df.index.to_series().apply(lambda x: assign_colors(x))\n",
    "drs_gain_df"
   ]
  },
  {
   "cell_type": "code",
   "execution_count": null,
   "id": "384b6fb6",
   "metadata": {},
   "outputs": [],
   "source": [
    "import matplotlib.colors as mcolors\n",
    "\n",
    "def lighten_color(color, amount=0.3):\n",
    "    \"\"\"\n",
    "    Lightens the given color by multiplying (1-luminosity).\n",
    "    amount=0 returns original color, amount=1 returns white.\n",
    "    \"\"\"\n",
    "    try:\n",
    "        c = mcolors.cnames[color]\n",
    "    except:\n",
    "        c = color\n",
    "    c = mcolors.to_rgb(c)\n",
    "    return (1 - amount) + amount * c[0], (1 - amount) + amount * c[1], (1 - amount) + amount * c[2]"
   ]
  },
  {
   "cell_type": "code",
   "execution_count": null,
   "id": "89551eb8",
   "metadata": {},
   "outputs": [],
   "source": [
    "car_perf.drop('ANT',inplace=True)\n",
    "drs_gain_df.drop('ANT',inplace=True)"
   ]
  },
  {
   "cell_type": "code",
   "execution_count": null,
   "id": "c1a1a9b1",
   "metadata": {},
   "outputs": [],
   "source": [
    "# --- Sort data by absolute speeds ---\n",
    "car_perf_sorted_low = car_perf.sort_values(by='LowSpeedAvg', ascending=False)\n",
    "# car_perf_sorted_top = car_perf.sort_values(by='TopSpeed', ascending=False)\n",
    "drs_gain_sorted = drs_gain_df.sort_values(by='DRS', ascending=False)\n",
    "\n",
    "# --- 1) Slow speed absolute plot ---\n",
    "fig, axes = plt.subplots(2, 1, figsize=(16, 10))\n",
    "\n",
    "axes[0].bar(\n",
    "    car_perf_sorted_low.index,\n",
    "    car_perf_sorted_low['LowSpeedAvg'],\n",
    "    color=car_perf_sorted_low['color']\n",
    ")\n",
    "axes[0].set_ylabel('Speed (km/h)')\n",
    "axes[0].set_title('Slowest Corner Speeds (Turn 2)')\n",
    "axes[0].set_ylim(70, 85)\n",
    "\n",
    "# --- 2) Top speed with DRS contribution ---\n",
    "# Merge in drs_gain data so each driver has TopSpeed, NoDRS, Gain\n",
    "car_perf['NoDRS_TopSpeed'] = car_perf['TopSpeed'] - drs_gain_df['gain']\n",
    "\n",
    "# Re-sort by actual TopSpeed\n",
    "car_perf_sorted_top = car_perf.sort_values(by='TopSpeed', ascending=False)\n",
    "\n",
    "# Plot base (no-DRS) top speed\n",
    "axes[1].bar(\n",
    "    drs_gain_sorted.index,\n",
    "    drs_gain_sorted['noDRS'],\n",
    "    color=drs_gain_sorted['color']\n",
    ")\n",
    "\n",
    "# Plot DRS contribution stacked on top (hatched)\n",
    "axes[1].bar(\n",
    "    drs_gain_sorted.index,\n",
    "    drs_gain_sorted['gain'],\n",
    "    bottom=drs_gain_sorted['noDRS'],\n",
    "    color=[lighten_color(c, 0.5) for c in drs_gain_sorted['color']],\n",
    "    hatch='//',\n",
    "    edgecolor='k'\n",
    ")\n",
    "\n",
    "axes[1].set_ylabel('Speed (km/h)')\n",
    "axes[1].set_title('Top Speed (Main Straight)')\n",
    "axes[1].set_ylim(300, 360)\n",
    "\n",
    "fig.align_labels(axs=axes)\n",
    "\n",
    "plt.tight_layout()\n",
    "plt.show()\n"
   ]
  },
  {
   "cell_type": "code",
   "execution_count": null,
   "id": "cd66770d",
   "metadata": {},
   "outputs": [],
   "source": [
    "save_fig(fig=fig,name='speed_analysis_DRS',loc='Reel16')"
   ]
  }
 ],
 "metadata": {
  "kernelspec": {
   "display_name": ".venv",
   "language": "python",
   "name": "python3"
  },
  "language_info": {
   "codemirror_mode": {
    "name": "ipython",
    "version": 3
   },
   "file_extension": ".py",
   "mimetype": "text/x-python",
   "name": "python",
   "nbconvert_exporter": "python",
   "pygments_lexer": "ipython3",
   "version": "3.13.5"
  }
 },
 "nbformat": 4,
 "nbformat_minor": 5
}

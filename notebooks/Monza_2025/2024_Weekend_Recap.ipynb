{
 "cells": [
  {
   "cell_type": "code",
   "execution_count": null,
   "id": "0c91ed23",
   "metadata": {},
   "outputs": [],
   "source": [
    "import numpy as np\n",
    "import pandas as pd\n",
    "import fastf1\n",
    "from src.plotset import setup_plot, save_fig\n",
    "\n",
    "from fastf1 import plotting\n",
    "import matplotlib.pyplot as plt\n",
    "import seaborn as sns\n",
    "\n",
    "setup_plot()"
   ]
  },
  {
   "cell_type": "code",
   "execution_count": null,
   "id": "faec77e1",
   "metadata": {},
   "outputs": [],
   "source": [
    "fastf1.Cache.enable_cache('./f1_cache')\n",
    "fastf1.Cache.get_cache_info()"
   ]
  },
  {
   "cell_type": "code",
   "execution_count": null,
   "id": "afc0214a",
   "metadata": {},
   "outputs": [],
   "source": [
    "session = fastf1.get_session(2024,16,'R')\n",
    "session.load()"
   ]
  },
  {
   "cell_type": "code",
   "execution_count": null,
   "id": "a51ea68f",
   "metadata": {},
   "outputs": [],
   "source": [
    "laps = session.laps\n",
    "drivers = session.drivers\n",
    "drivers = [session.get_driver(i).Abbreviation for i in session.drivers]"
   ]
  },
  {
   "cell_type": "code",
   "execution_count": null,
   "id": "019491aa",
   "metadata": {},
   "outputs": [],
   "source": [
    "stints = laps[[\"Driver\", \"Stint\", \"Compound\", \"LapNumber\"]]\n",
    "stints = stints.groupby([\"Driver\", \"Stint\", \"Compound\"])\n",
    "stints = stints.count().reset_index()\n",
    "stints = stints.rename(columns={\"LapNumber\": \"StintLength\"})"
   ]
  },
  {
   "cell_type": "code",
   "execution_count": null,
   "id": "16e82883",
   "metadata": {},
   "outputs": [],
   "source": [
    "fig, ax = plt.subplots(figsize=(15, 10))\n",
    "\n",
    "for driver in drivers[:8]:\n",
    "    driver_stints = stints.loc[stints[\"Driver\"] == driver]\n",
    "\n",
    "    previous_stint_end = 0\n",
    "    for idx, row in driver_stints.iterrows():\n",
    "        # each row contains the compound name and stint length\n",
    "        # we can use these information to draw horizontal bars\n",
    "        compound_color = fastf1.plotting.get_compound_color(row[\"Compound\"],\n",
    "                                                            session=session)\n",
    "        plt.barh(\n",
    "            y=driver,\n",
    "            width=row[\"StintLength\"],\n",
    "            left=previous_stint_end,\n",
    "            color=compound_color,\n",
    "            edgecolor=\"black\",\n",
    "            fill=True\n",
    "        )\n",
    "\n",
    "        previous_stint_end += row[\"StintLength\"]\n",
    "\n",
    "\n",
    "# plt.title(\"2024 Dutch Grand Prix Tire Strategies\")\n",
    "plt.xlabel(\"Lap Number\")\n",
    "plt.grid(False)\n",
    "# invert the y-axis so drivers that finish higher are closer to the top\n",
    "ax.invert_yaxis()\n",
    "\n",
    "ax.spines['top'].set_visible(False)\n",
    "ax.spines['right'].set_visible(False)\n",
    "ax.spines['left'].set_visible(False)\n",
    "\n",
    "plt.tight_layout()\n",
    "plt.show()"
   ]
  },
  {
   "cell_type": "code",
   "execution_count": null,
   "id": "3616f70e",
   "metadata": {},
   "outputs": [],
   "source": [
    "comp_palette = {'PIA_1_MEDIUM': '#ffd12e',\n",
    "                'LEC_1_MEDIUM': '#ffd12e',\n",
    "                'PIA_2_HARD': '#f0f0ec',\n",
    "                'PIA_3_HARD': '#f0f0ec',\n",
    "                'LEC_2_HARD': '#f0f0ec'\n",
    "}"
   ]
  },
  {
   "cell_type": "code",
   "execution_count": null,
   "id": "a423c845",
   "metadata": {},
   "outputs": [],
   "source": [
    "line_comp_palette = {\n",
    "                        'PIA_1_MEDIUM': '#FF8000',\n",
    "                        'LEC_1_MEDIUM': '#FF0000',\n",
    "                        'PIA_2_HARD': \"#FF8000\",\n",
    "                        'PIA_3_HARD': '#FF8000',\n",
    "                        'LEC_2_HARD': '#FF0000'\n",
    "    }"
   ]
  },
  {
   "cell_type": "code",
   "execution_count": null,
   "id": "f9224e07",
   "metadata": {},
   "outputs": [],
   "source": [
    "lec_df = session.laps.pick_drivers('LEC').copy()\n",
    "lec_df['LapEndTime'] = lec_df['Time'].dt.total_seconds()\n",
    "lec_df = lec_df.set_index('LapNumber')['LapEndTime']\n",
    "\n",
    "pia_df = session.laps.pick_drivers('PIA').copy()\n",
    "pia_df['LapEndTime'] = pia_df['Time'].dt.total_seconds()\n",
    "pia_df = pia_df.set_index('LapNumber')['LapEndTime']\n"
   ]
  },
  {
   "cell_type": "code",
   "execution_count": null,
   "id": "8413bbac",
   "metadata": {},
   "outputs": [],
   "source": [
    "gap_to_lec = pia_df - lec_df"
   ]
  },
  {
   "cell_type": "code",
   "execution_count": null,
   "id": "320b0c7b",
   "metadata": {},
   "outputs": [],
   "source": [
    "setup_plot(xyticksize=20, axeslabel=24)\n",
    "\n",
    "fig, ax = plt.subplots(2,1, figsize=(15,12), sharex=True)\n",
    "\n",
    "for drv in drivers[:2]:\n",
    "    # drv_color = plotting.get_driver_color(session=session,identifier=drv)\n",
    "    drv_color = {'LEC': 'red', 'PIA': '#FF8000'}\n",
    "    laps = session.laps.pick_drivers(drv).pick_quicklaps(1.05).copy()\n",
    "    laps['LapTime'] = laps['LapTime'].dt.total_seconds()\n",
    "    laps['Driver_Stint_Compound'] = laps.apply(lambda x: x['Driver'] + '_' + str(int(x['Stint'])) + '_' + x['Compound'], axis=1)\n",
    "    sns.lineplot(data=laps, x='LapNumber', y='LapTime', linewidth=4,\n",
    "                 hue='Driver_Stint_Compound', palette=line_comp_palette, legend=False, ax=ax[0])\n",
    "\n",
    "    sns.lineplot(data=laps, x='LapNumber', y='LapTime', linewidth=0, marker='o', markersize=12, markeredgecolor=None,\n",
    "                 hue='Driver_Stint_Compound', palette=comp_palette, legend=False, ax=ax[0])\n",
    "\n",
    "ax2 = ax[1].twinx()\n",
    "\n",
    "ax[1].axhline(linewidth=1,linestyle='--',color='w')\n",
    "ax[1].plot(gap_to_lec[gap_to_lec < 0], color='#FF8000', lw=4)\n",
    "ax[1].plot(gap_to_lec[gap_to_lec > -1.2].loc[35:], color='red', lw=4)\n",
    "ax[0].set_ylabel('Lap Time (sec)', labelpad=20)\n",
    "ax[1].set_ylabel('Gap to Leclerc (sec)')\n",
    "ax[1].set_xlabel('Lap Number')\n",
    "ax2.set_yticks([])\n",
    "ax2.set_ylabel('..',color=\"#00000000\",labelpad=55)\n",
    "# fig.align_ylabels(ax)\n",
    "\n",
    "ax[0].set_xlim(0,55)\n",
    "ax[0].set_ylim(81.5,86.5)\n",
    "ax[1].set_xlim(0,55)\n",
    "ax[1].set_ylim(-25,25)"
   ]
  },
  {
   "cell_type": "code",
   "execution_count": null,
   "id": "f9e87a4b",
   "metadata": {},
   "outputs": [],
   "source": [
    "save_fig(fig=fig,name='race_trace',loc='Post7')"
   ]
  }
 ],
 "metadata": {
  "kernelspec": {
   "display_name": ".venv",
   "language": "python",
   "name": "python3"
  },
  "language_info": {
   "codemirror_mode": {
    "name": "ipython",
    "version": 3
   },
   "file_extension": ".py",
   "mimetype": "text/x-python",
   "name": "python",
   "nbconvert_exporter": "python",
   "pygments_lexer": "ipython3",
   "version": "3.13.5"
  }
 },
 "nbformat": 4,
 "nbformat_minor": 5
}

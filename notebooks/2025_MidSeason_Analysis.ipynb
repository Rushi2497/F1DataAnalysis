{
 "cells": [
  {
   "cell_type": "code",
   "execution_count": null,
   "id": "a9648050",
   "metadata": {},
   "outputs": [],
   "source": [
    "import numpy as np\n",
    "import pandas as pd\n",
    "import matplotlib.pyplot as plt\n",
    "import matplotlib as mpl\n",
    "from matplotlib.animation import FuncAnimation\n",
    "from IPython.display import HTML\n",
    "import fastf1\n",
    "from src.plotset import setup_plot\n",
    "from fastf1 import plotting\n",
    "\n",
    "setup_plot()"
   ]
  },
  {
   "cell_type": "code",
   "execution_count": null,
   "id": "4273ec96",
   "metadata": {},
   "outputs": [],
   "source": [
    "fastf1.Cache.enable_cache('./f1_cache')\n",
    "fastf1.Cache.get_cache_info()"
   ]
  },
  {
   "cell_type": "code",
   "execution_count": null,
   "id": "58925f21",
   "metadata": {},
   "outputs": [],
   "source": [
    "events_df = fastf1.get_event_schedule(2025,include_testing=False)"
   ]
  },
  {
   "cell_type": "code",
   "execution_count": null,
   "id": "a068cec5",
   "metadata": {},
   "outputs": [],
   "source": [
    "pia, nor, ver = [], [], []\n",
    "\n",
    "for i in range(1,13):\n",
    "   \n",
    "    race = fastf1.get_session(2025,i,'R')\n",
    "    race.load(laps=False,telemetry=False,weather=False,messages=False)\n",
    "\n",
    "    if i in [2,6]:\n",
    "        sprint = fastf1.get_session(2025,i,'S')\n",
    "        sprint.load(laps=False,telemetry=False,weather=False,messages=False)\n",
    "    else:\n",
    "        sprint = None\n",
    "    \n",
    "    pia.append(race.get_driver('PIA').Points + (sprint.get_driver('PIA').Points if sprint is not None else 0))\n",
    "    nor.append(race.get_driver('NOR').Points + (sprint.get_driver('NOR').Points if sprint is not None else 0))\n",
    "    ver.append(race.get_driver('VER').Points + (sprint.get_driver('VER').Points if sprint is not None else 0))"
   ]
  },
  {
   "cell_type": "code",
   "execution_count": null,
   "id": "1e3de0ff",
   "metadata": {},
   "outputs": [],
   "source": [
    "standings_df = pd.DataFrame({'Round':range(13),\n",
    "                             'PIA':[0] + pia,\n",
    "                             'NOR':[0] + nor,\n",
    "                             'VER':[0] + ver})"
   ]
  },
  {
   "cell_type": "code",
   "execution_count": null,
   "id": "418124b5",
   "metadata": {},
   "outputs": [],
   "source": [
    "standings_df[['PIA','NOR','VER']] = standings_df[['PIA','NOR','VER']].cumsum()"
   ]
  },
  {
   "cell_type": "code",
   "execution_count": null,
   "id": "8766fe37",
   "metadata": {},
   "outputs": [],
   "source": [
    "standings_df"
   ]
  },
  {
   "cell_type": "code",
   "execution_count": null,
   "id": "292c5bf8",
   "metadata": {},
   "outputs": [],
   "source": [
    "rounds_data = np.linspace(0,12,601)\n",
    "smooth_standings_df = pd.DataFrame({'Round': np.round(rounds_data,2),\n",
    "                                 'PIA': np.round(np.interp(x=rounds_data,xp=range(0,13),fp=standings_df.PIA.values),2),\n",
    "                                 'NOR': np.round(np.interp(x=rounds_data,xp=range(0,13),fp=standings_df.NOR.values),2),\n",
    "                                 'VER': np.round(np.interp(x=rounds_data,xp=range(0,13),fp=standings_df.VER.values),2)})\n",
    "\n",
    "smooth_standings_df"
   ]
  },
  {
   "cell_type": "code",
   "execution_count": null,
   "id": "546b75d8",
   "metadata": {},
   "outputs": [],
   "source": [
    "fig, ax = plt.subplots(figsize=(12,8))\n",
    "\n",
    "# Create empty line objects\n",
    "drivers = ['PIA', 'NOR', 'VER']\n",
    "lines = {}\n",
    "marker_lines = {}\n",
    "\n",
    "for drv in drivers:\n",
    "    style = plotting.get_driver_style(identifier=drv, session=race, style=['color', 'linestyle'])\n",
    "    \n",
    "    # Line placement\n",
    "    if drv=='PIA':\n",
    "        style['linestyle'] = 'solid'\n",
    "    elif drv=='NOR':\n",
    "        style['color'] = \"#CCFF00\"\n",
    "    line, = ax.plot([], [], label=drv, lw=3, **style)\n",
    "    lines[drv] = line\n",
    "\n",
    "    # Marker placement\n",
    "    marker_line, = ax.plot([], [], lw=0, marker='o', color=style['color'], markersize=8)\n",
    "    marker_lines[drv] = marker_line\n",
    "\n",
    "# Axis labels and legend\n",
    "ax.set_xticks(range(1, 13))\n",
    "ax.set_xticklabels(ax.get_xticklabels())\n",
    "#ax.set_xlabel('.',color=\"#00000000\")\n",
    "#ax.set_xlim([0,13])\n",
    "\n",
    "ax.set_yticks(range(0,325,25))\n",
    "ax.set_yticklabels(ax.get_yticklabels())\n",
    "#ax.set_ylabel('Championship Points')\n",
    "#ax.set_ylim([0,300])\n",
    "\n",
    "ax.set_title('Driver Championship Points')\n",
    "\n",
    "h, l = ax.get_legend_handles_labels()\n",
    "ax.legend(handles=h,labels=['Oscar Piastri','Lando Norris','Max Verstappen'],fontsize=16,loc='upper left')\n",
    "\n",
    "# Update function\n",
    "def update(frame):\n",
    "    ymin, ymax = 0, 25\n",
    "    xmin, xmax = 0, 2\n",
    "\n",
    "    for drv in drivers:\n",
    "        line = lines[drv]\n",
    "        xdata = smooth_standings_df['Round'][:frame]\n",
    "        ydata = smooth_standings_df[drv][:frame]\n",
    "        line.set_data(xdata, ydata)\n",
    "\n",
    "        marker_line = marker_lines[drv]\n",
    "        x_markers = xdata[xdata.isin(range(1, 13))]\n",
    "        y_markers = ydata[xdata.isin(range(1, 13))]\n",
    "        marker_line.set_data(x_markers, y_markers)\n",
    "\n",
    "        # Update ymin and ymax based on current data\n",
    "        if len(ydata) > 0:\n",
    "            ymin = min(ymin, ydata.min())\n",
    "            ymax = max(ymax, ydata.max())\n",
    "        \n",
    "        if len(xdata) > 0:\n",
    "            xmin = min(xmin, xdata.min())\n",
    "            xmax = max(xmax, xdata.max())\n",
    "\n",
    "    # Add some padding so lines don’t touch axis edges\n",
    "    padding = (ymax - ymin) * 0.25 if ymax > ymin else 10\n",
    "    ax.set_ylim(ymin, ymax + padding)\n",
    "    ax.set_xlim(xmin, xmax + 1)\n",
    "\n",
    "    return list(lines.values())\n",
    "\n",
    "# Create animation\n",
    "ani = FuncAnimation(\n",
    "    fig,\n",
    "    update,\n",
    "    frames=len(smooth_standings_df)+1,\n",
    "    interval=30,\n",
    "    blit=True,\n",
    "    repeat=False\n",
    ")\n",
    "\n",
    "HTML(ani.to_jshtml())\n",
    "\n",
    "# # Save the animation as MP4 video\n",
    "# ani.save('./media/driver_standings_Long.mp4', writer='ffmpeg', fps=30, dpi=300, bitrate=8000)"
   ]
  },
  {
   "cell_type": "code",
   "execution_count": null,
   "id": "de47bb0e",
   "metadata": {},
   "outputs": [],
   "source": [
    "# Qualifying Results\n",
    "\n",
    "pia, nor, ver = [], [], []\n",
    "\n",
    "for i in range(1,13):\n",
    "   \n",
    "    quali = fastf1.get_session(2025,i,'Q')\n",
    "    quali.load(laps=False,telemetry=False,weather=False,messages=False)\n",
    "    \n",
    "    pia.append(quali.get_driver('PIA').Position)\n",
    "    nor.append(quali.get_driver('NOR').Position)\n",
    "    ver.append(quali.get_driver('VER').Position)\n",
    "\n",
    "quali_df = pd.DataFrame({'Round':range(13),\n",
    "                         'PIA':[0] + pia,\n",
    "                         'NOR':[0] + nor,\n",
    "                         'VER':[0] + ver})"
   ]
  },
  {
   "cell_type": "code",
   "execution_count": null,
   "id": "713a0d3d",
   "metadata": {},
   "outputs": [],
   "source": [
    "quali_df"
   ]
  },
  {
   "cell_type": "code",
   "execution_count": null,
   "id": "74c2176c",
   "metadata": {},
   "outputs": [],
   "source": [
    "poles_df = quali_df.copy()\n",
    "poles_df[['PIA','NOR','VER']] = quali_df.drop('Round',axis=1)[quali_df == 1].fillna(0).cumsum()\n",
    "poles_df"
   ]
  },
  {
   "cell_type": "code",
   "execution_count": null,
   "id": "682c944e",
   "metadata": {},
   "outputs": [],
   "source": [
    "rounds_data = np.linspace(0,12,601)\n",
    "smooth_poles_df = pd.DataFrame({'Round': np.round(rounds_data,2),\n",
    "                                 'PIA': np.round(np.interp(x=rounds_data,xp=range(0,13),fp=poles_df.PIA.values),2),\n",
    "                                 'NOR': np.round(np.interp(x=rounds_data,xp=range(0,13),fp=poles_df.NOR.values),2),\n",
    "                                 'VER': np.round(np.interp(x=rounds_data,xp=range(0,13),fp=poles_df.VER.values),2)})\n",
    "\n",
    "smooth_poles_df"
   ]
  },
  {
   "cell_type": "code",
   "execution_count": null,
   "id": "de6ef300",
   "metadata": {},
   "outputs": [],
   "source": [
    "avgQ_df = quali_df.copy()\n",
    "avgQ_df.iloc[1:,1:] = avgQ_df[['PIA','NOR','VER']].drop(0).cumsum()\n",
    "avgQ_df.iloc[1:,1:] = np.round(avgQ_df.iloc[1:,1:].div(avgQ_df.Round.iloc[1:],axis=0),2)\n",
    "avgQ_df"
   ]
  },
  {
   "cell_type": "code",
   "execution_count": null,
   "id": "8a0ee9ba",
   "metadata": {},
   "outputs": [],
   "source": [
    "rounds_data = np.linspace(0,12,601)\n",
    "smooth_avgQ_df = pd.DataFrame({'Round': np.round(rounds_data,2),\n",
    "                                 'PIA': np.round(np.interp(x=rounds_data,xp=range(0,13),fp=avgQ_df.PIA.values),2),\n",
    "                                 'NOR': np.round(np.interp(x=rounds_data,xp=range(0,13),fp=avgQ_df.NOR.values),2),\n",
    "                                 'VER': np.round(np.interp(x=rounds_data,xp=range(0,13),fp=avgQ_df.VER.values),2)})\n",
    "\n",
    "smooth_avgQ_df"
   ]
  },
  {
   "cell_type": "code",
   "execution_count": null,
   "id": "49134c6e",
   "metadata": {},
   "outputs": [],
   "source": [
    "fig, ax = plt.subplots(figsize=(6,4))\n",
    "\n",
    "bars = ax.bar(x=['PIA','NOR','VER'],height=smooth_avgQ_df.drop('Round',axis=1).iloc[0],color=['#FF8000','#CCFF00','#0600EF'])\n",
    "ax.set_xticks(['PIA','NOR','VER'])\n",
    "ax.set_xticklabels(['','',''])\n",
    "ax.set_title('Average Qualifying Position',fontsize=16)\n",
    "\n",
    "# Update bar heights\n",
    "def update(frame):\n",
    "    levels = smooth_avgQ_df.drop('Round',axis=1).iloc[frame]\n",
    "    for bar, level in zip(bars,levels):\n",
    "        bar.set_height(level)\n",
    "\n",
    "    ymin, ymax = 0, 1\n",
    "    if min(levels) != max(levels):\n",
    "        ymin = 0\n",
    "        ymax = max(levels) * 1.2\n",
    "    ax.set_ylim(ymin,ymax)\n",
    "\n",
    "    return bars\n",
    "\n",
    "# Animate the chart\n",
    "ani = FuncAnimation(\n",
    "    fig, update, frames=len(smooth_avgQ_df),blit=True,interval=20,repeat=False\n",
    ")\n",
    "\n",
    "HTML(ani.to_jshtml())\n",
    "\n",
    "# Save the animation as MP4 video\n",
    "ani.save('./media/avgQPos.mp4', writer='ffmpeg', fps=30, dpi=300, bitrate=8000)"
   ]
  },
  {
   "cell_type": "code",
   "execution_count": null,
   "id": "fe464af3",
   "metadata": {},
   "outputs": [],
   "source": [
    "# Race Results\n",
    "\n",
    "pia, nor, ver = [], [], []\n",
    "\n",
    "for i in range(1,13):\n",
    "   \n",
    "    race = fastf1.get_session(2025,i,'R')\n",
    "    race.load(laps=False,telemetry=False,weather=False,messages=False)\n",
    "    \n",
    "    pia.append(race.get_driver('PIA').Position)\n",
    "    nor.append(race.get_driver('NOR').Position)\n",
    "    ver.append(race.get_driver('VER').Position)\n",
    "\n",
    "race_df = pd.DataFrame({'Round':range(13),\n",
    "                         'PIA':[0] + pia,\n",
    "                         'NOR':[0] + nor,\n",
    "                         'VER':[0] + ver})"
   ]
  },
  {
   "cell_type": "code",
   "execution_count": null,
   "id": "3166732c",
   "metadata": {},
   "outputs": [],
   "source": [
    "race_df"
   ]
  },
  {
   "cell_type": "code",
   "execution_count": null,
   "id": "29c2d79e",
   "metadata": {},
   "outputs": [],
   "source": [
    "wins_df = race_df.copy()\n",
    "wins_df[['PIA','NOR','VER']] = race_df.drop('Round',axis=1)[race_df == 1].fillna(0).cumsum()\n",
    "wins_df"
   ]
  },
  {
   "cell_type": "code",
   "execution_count": null,
   "id": "28ba2365",
   "metadata": {},
   "outputs": [],
   "source": [
    "rounds_data = np.linspace(0,12,601)\n",
    "smooth_wins_df = pd.DataFrame({'Round': np.round(rounds_data,2),\n",
    "                                 'PIA': np.round(np.interp(x=rounds_data,xp=range(0,13),fp=wins_df.PIA.values),2),\n",
    "                                 'NOR': np.round(np.interp(x=rounds_data,xp=range(0,13),fp=wins_df.NOR.values),2),\n",
    "                                 'VER': np.round(np.interp(x=rounds_data,xp=range(0,13),fp=wins_df.VER.values),2)})\n",
    "\n",
    "smooth_wins_df"
   ]
  },
  {
   "cell_type": "code",
   "execution_count": null,
   "id": "d9414047",
   "metadata": {},
   "outputs": [],
   "source": [
    "avgR_df = race_df.copy()\n",
    "avgR_df.iloc[1:,1:] = avgR_df[['PIA','NOR','VER']].drop(0).cumsum()\n",
    "avgR_df.iloc[1:,1:] = np.round(avgR_df.iloc[1:,1:].div(avgR_df.Round.iloc[1:],axis=0),2)\n",
    "avgR_df"
   ]
  },
  {
   "cell_type": "code",
   "execution_count": null,
   "id": "01d3280f",
   "metadata": {},
   "outputs": [],
   "source": [
    "rounds_data = np.linspace(0,12,601)\n",
    "smooth_avgR_df = pd.DataFrame({'Round': np.round(rounds_data,2),\n",
    "                                 'PIA': np.round(np.interp(x=rounds_data,xp=range(0,13),fp=avgR_df.PIA.values),2),\n",
    "                                 'NOR': np.round(np.interp(x=rounds_data,xp=range(0,13),fp=avgR_df.NOR.values),2),\n",
    "                                 'VER': np.round(np.interp(x=rounds_data,xp=range(0,13),fp=avgR_df.VER.values),2)})\n",
    "\n",
    "smooth_avgR_df"
   ]
  },
  {
   "cell_type": "code",
   "execution_count": null,
   "id": "f3646164",
   "metadata": {},
   "outputs": [],
   "source": [
    "fig, ax = plt.subplots(figsize=(6,4))\n",
    "\n",
    "bars = ax.bar(x=['PIA','NOR','VER'],height=smooth_avgR_df.drop('Round',axis=1).iloc[0],color=['#FF8000','#CCFF00','#0600EF'])\n",
    "ax.set_xticks(['PIA','NOR','VER'])\n",
    "ax.set_xticklabels(['','',''])\n",
    "ax.set_title('Average Race Finish Position',fontsize=16)\n",
    "\n",
    "# Update bar heights\n",
    "def update(frame):\n",
    "    levels = smooth_avgR_df.drop('Round',axis=1).iloc[frame]\n",
    "    for bar, level in zip(bars,levels):\n",
    "        bar.set_height(level)\n",
    "\n",
    "    ymin, ymax = 0, 1\n",
    "    if min(levels) != max(levels):\n",
    "        ymin = 0\n",
    "        ymax = max(levels) * 1.2\n",
    "    ax.set_ylim(ymin,ymax)\n",
    "\n",
    "    return bars\n",
    "\n",
    "# Animate the chart\n",
    "ani = FuncAnimation(\n",
    "    fig, update, frames=len(smooth_avgR_df),blit=True,interval=20,repeat=False\n",
    ")\n",
    "\n",
    "HTML(ani.to_jshtml())\n",
    "\n",
    "# Save the animation as MP4 video\n",
    "ani.save('./media/avgRPos.mp4', writer='ffmpeg', fps=30, dpi=300, bitrate=8000)"
   ]
  },
  {
   "cell_type": "code",
   "execution_count": null,
   "id": "d556f455",
   "metadata": {},
   "outputs": [],
   "source": [
    "# Q-->R Results\n",
    "\n",
    "pia, nor, ver = [], [], []\n",
    "\n",
    "for i in range(1,13):\n",
    "   \n",
    "    race = fastf1.get_session(2025,i,'R')\n",
    "    race.load(laps=False,telemetry=False,weather=False,messages=False)\n",
    "    \n",
    "    pia.append(- race.get_driver('PIA').Position + race.get_driver('PIA').GridPosition)\n",
    "    nor.append(- race.get_driver('NOR').Position + race.get_driver('NOR').GridPosition)\n",
    "    ver.append(- race.get_driver('VER').Position + race.get_driver('VER').GridPosition)\n",
    "\n",
    "gains_df = pd.DataFrame({'Round':range(13),\n",
    "                         'PIA':[0] + pia,\n",
    "                         'NOR':[0] + nor,\n",
    "                         'VER':[0] + ver})"
   ]
  },
  {
   "cell_type": "code",
   "execution_count": null,
   "id": "f35da304",
   "metadata": {},
   "outputs": [],
   "source": [
    "gains_df"
   ]
  },
  {
   "cell_type": "code",
   "execution_count": null,
   "id": "b190ac26",
   "metadata": {},
   "outputs": [],
   "source": [
    "avgG_df = gains_df.copy()\n",
    "avgG_df.iloc[1:,1:] = avgG_df[['PIA','NOR','VER']].drop(0).cumsum()\n",
    "avgG_df.iloc[1:,1:] = np.round(avgG_df.iloc[1:,1:].div(avgG_df.Round.iloc[1:],axis=0),2)\n",
    "avgG_df"
   ]
  },
  {
   "cell_type": "code",
   "execution_count": null,
   "id": "446dfeb5",
   "metadata": {},
   "outputs": [],
   "source": [
    "rounds_data = np.linspace(0,12,601)\n",
    "smooth_avgG_df = pd.DataFrame({'Round': np.round(rounds_data,2),\n",
    "                                 'PIA': np.round(np.interp(x=rounds_data,xp=range(0,13),fp=avgG_df.PIA.values),2),\n",
    "                                 'NOR': np.round(np.interp(x=rounds_data,xp=range(0,13),fp=avgG_df.NOR.values),2),\n",
    "                                 'VER': np.round(np.interp(x=rounds_data,xp=range(0,13),fp=avgG_df.VER.values),2)})\n",
    "\n",
    "smooth_avgG_df"
   ]
  },
  {
   "cell_type": "code",
   "execution_count": null,
   "id": "03030d40",
   "metadata": {},
   "outputs": [],
   "source": [
    "fig, ax = plt.subplots(figsize=(6,4))\n",
    "\n",
    "bars = ax.bar(x=['PIA','NOR','VER'],height=smooth_avgG_df.drop('Round',axis=1).iloc[0],color=['#FF8000','#CCFF00','#0600EF'])\n",
    "ax.set_xticks(['PIA','NOR','VER'])\n",
    "ax.set_xticklabels(['','',''])\n",
    "ax.set_title('Average Positions Gained',fontsize=16)\n",
    "\n",
    "# Update bar heights\n",
    "def update(frame):\n",
    "    levels = smooth_avgG_df.drop('Round',axis=1).iloc[frame]\n",
    "    for bar, level in zip(bars,levels):\n",
    "        bar.set_height(level)\n",
    "\n",
    "    ymin, ymax = -0.04, 0.04\n",
    "    if min(levels) != max(levels):\n",
    "        swing = max(abs(min(levels)),abs(max(levels)))\n",
    "        ymin, ymax = -swing*1.2, swing*1.2\n",
    "\n",
    "    ax.set_ylim(ymin,ymax)\n",
    "\n",
    "    return bars\n",
    "\n",
    "# Animate the chart\n",
    "ani = FuncAnimation(\n",
    "    fig, update, frames=len(smooth_avgG_df),blit=True,interval=20,repeat=False\n",
    ")\n",
    "\n",
    "HTML(ani.to_jshtml())\n",
    "\n",
    "# Save the animation as MP4 video\n",
    "ani.save('../media/avgPosG.mp4', writer='ffmpeg', fps=30, dpi=300, bitrate=8000)"
   ]
  },
  {
   "cell_type": "code",
   "execution_count": null,
   "id": "556338f9",
   "metadata": {},
   "outputs": [],
   "source": [
    "# %Laps Led Results\n",
    "\n",
    "pia, nor, ver, laps = [], [], [], []\n",
    "\n",
    "for i in range(1,13):\n",
    "   \n",
    "    race = fastf1.get_session(2025,i,'R')\n",
    "    race.load(laps=True,telemetry=False,weather=False,messages=False)\n",
    "    \n",
    "    pia.append(race.laps.pick_drivers('PIA').Position.value_counts().get(1,0))\n",
    "    nor.append(race.laps.pick_drivers('NOR').Position.value_counts().get(1,0))\n",
    "    ver.append(race.laps.pick_drivers('VER').Position.value_counts().get(1,0))\n",
    "    laps.append(race.results.iloc[0].Laps)\n",
    "\n",
    "laps_df = pd.DataFrame({'Round':range(13),\n",
    "                         'PIA':[0] + pia,\n",
    "                         'NOR':[0] + nor,\n",
    "                         'VER':[0] + ver,\n",
    "                         'laps': [0] + laps})"
   ]
  },
  {
   "cell_type": "code",
   "execution_count": null,
   "id": "cc210e99",
   "metadata": {},
   "outputs": [],
   "source": [
    "laps_df.PIA = laps_df.PIA.astype(float)\n",
    "laps_df.NOR = laps_df.NOR.astype(float)\n",
    "laps_df.VER = laps_df.VER.astype(float)"
   ]
  },
  {
   "cell_type": "code",
   "execution_count": null,
   "id": "7d080411",
   "metadata": {},
   "outputs": [],
   "source": [
    "laps_df"
   ]
  },
  {
   "cell_type": "code",
   "execution_count": null,
   "id": "49d70e74",
   "metadata": {},
   "outputs": [],
   "source": [
    "laps_percent_df = laps_df.copy()\n",
    "laps_percent_df.iloc[1:,1:] = laps_percent_df[['PIA','NOR','VER','laps']].drop(0).cumsum()\n",
    "laps_percent_df.iloc[1:,1:-1] = np.round(laps_percent_df.iloc[1:,1:-1].div(laps_percent_df.laps.iloc[1:],axis=0),2)*100\n",
    "laps_percent_df"
   ]
  },
  {
   "cell_type": "code",
   "execution_count": null,
   "id": "2f10e2df",
   "metadata": {},
   "outputs": [],
   "source": [
    "rounds_data = np.linspace(0,12,601)\n",
    "smooth_laps_percent_df = pd.DataFrame({'Round': np.round(rounds_data,2),\n",
    "                                 'PIA': np.round(np.interp(x=rounds_data,xp=range(0,13),fp=laps_percent_df.PIA.values),2),\n",
    "                                 'NOR': np.round(np.interp(x=rounds_data,xp=range(0,13),fp=laps_percent_df.NOR.values),2),\n",
    "                                 'VER': np.round(np.interp(x=rounds_data,xp=range(0,13),fp=laps_percent_df.VER.values),2)})\n",
    "\n",
    "smooth_laps_percent_df"
   ]
  },
  {
   "cell_type": "code",
   "execution_count": null,
   "id": "8744a35e",
   "metadata": {},
   "outputs": [],
   "source": [
    "fig, ax = plt.subplots(figsize=(6,4))\n",
    "\n",
    "bars = ax.bar(x=['PIA','NOR','VER'],height=smooth_laps_percent_df.drop('Round',axis=1).iloc[0],color=['#FF8000','#CCFF00','#0600EF'])\n",
    "ax.set_xticks(['PIA','NOR','VER'])\n",
    "ax.set_xticklabels(['','',''])\n",
    "ax.set_title('% of Laps Led',fontsize=16)\n",
    "ax.set_ylim(0,100)\n",
    "\n",
    "# Update bar heights\n",
    "def update(frame):\n",
    "    levels = smooth_laps_percent_df.drop('Round',axis=1).iloc[frame]\n",
    "    for bar, level in zip(bars,levels):\n",
    "        bar.set_height(level)\n",
    "\n",
    "    return bars\n",
    "\n",
    "# Animate the chart\n",
    "ani = FuncAnimation(\n",
    "    fig, update, frames=len(smooth_laps_percent_df),blit=True,interval=20,repeat=False\n",
    ")\n",
    "\n",
    "HTML(ani.to_jshtml())\n",
    "\n",
    "# Save the animation as MP4 video\n",
    "ani.save('../media/avgLapLed.mp4', writer='ffmpeg', fps=30, dpi=300, bitrate=8000)"
   ]
  }
 ],
 "metadata": {
  "kernelspec": {
   "display_name": ".venv",
   "language": "python",
   "name": "python3"
  },
  "language_info": {
   "codemirror_mode": {
    "name": "ipython",
    "version": 3
   },
   "file_extension": ".py",
   "mimetype": "text/x-python",
   "name": "python",
   "nbconvert_exporter": "python",
   "pygments_lexer": "ipython3",
   "version": "3.13.5"
  }
 },
 "nbformat": 4,
 "nbformat_minor": 5
}

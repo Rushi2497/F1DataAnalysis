{
 "cells": [
  {
   "cell_type": "code",
   "execution_count": null,
   "id": "8f80b05c",
   "metadata": {},
   "outputs": [],
   "source": [
    "import pandas as pd\n",
    "import fastf1\n",
    "from fastf1 import plotting\n",
    "import matplotlib.pyplot as plt\n",
    "import seaborn as sns\n",
    "from src.plotset import setup_plot\n",
    "from src.utils import fuel_correction\n",
    "\n",
    "setup_plot()"
   ]
  },
  {
   "cell_type": "code",
   "execution_count": null,
   "id": "fbf7521b",
   "metadata": {},
   "outputs": [],
   "source": [
    "fastf1.Cache.enable_cache('./f1_cache')\n",
    "fastf1.Cache.get_cache_info()"
   ]
  },
  {
   "cell_type": "code",
   "execution_count": null,
   "id": "b1986068",
   "metadata": {},
   "outputs": [],
   "source": [
    "race = fastf1.get_session(2025,'Spain','R')\n",
    "race.load()"
   ]
  },
  {
   "cell_type": "code",
   "execution_count": null,
   "id": "dacea8db",
   "metadata": {},
   "outputs": [],
   "source": [
    "ver_df = race.laps.pick_drivers('VER')"
   ]
  },
  {
   "cell_type": "code",
   "execution_count": null,
   "id": "52abe948",
   "metadata": {},
   "outputs": [],
   "source": [
    "df = pd.DataFrame(ver_df[['LapTime','LapNumber','Stint','Compound','TyreLife','TrackStatus','IsAccurate']])"
   ]
  },
  {
   "cell_type": "code",
   "execution_count": null,
   "id": "b1cc1989",
   "metadata": {},
   "outputs": [],
   "source": [
    "df['LapTime'] = df['LapTime'].dt.total_seconds()"
   ]
  },
  {
   "cell_type": "code",
   "execution_count": null,
   "id": "6bb6262e",
   "metadata": {},
   "outputs": [],
   "source": [
    "df_filtered = df[df.IsAccurate].reset_index(drop=True)"
   ]
  },
  {
   "cell_type": "code",
   "execution_count": null,
   "id": "6382ed91",
   "metadata": {},
   "outputs": [],
   "source": [
    "df_filtered['Compound_Stint'] = df_filtered.apply(lambda x: x['Compound'] + '_Stint' + str(x['Stint']),axis=1)"
   ]
  },
  {
   "cell_type": "code",
   "execution_count": null,
   "id": "ce4252fe",
   "metadata": {},
   "outputs": [],
   "source": [
    "df_filtered.Compound_Stint.unique()"
   ]
  },
  {
   "cell_type": "code",
   "execution_count": null,
   "id": "301a850c",
   "metadata": {},
   "outputs": [],
   "source": [
    "plotting.get_compound_mapping(race)"
   ]
  },
  {
   "cell_type": "code",
   "execution_count": null,
   "id": "30d062ee",
   "metadata": {},
   "outputs": [],
   "source": [
    "new_pallete = {'SOFT_Stint1.0': '#da291c',\n",
    " 'SOFT_Stint2.0': '#da291c',\n",
    " 'SOFT_Stint4.0': '#da291c',\n",
    " 'MEDIUM_Stint3.0': '#ffd12e',\n",
    " 'HARD_Stint5.0': '#f0f0ec'}"
   ]
  },
  {
   "cell_type": "code",
   "execution_count": null,
   "id": "2b9325a3",
   "metadata": {},
   "outputs": [],
   "source": [
    "fig, ax = plt.subplots(figsize=(12,6))\n",
    "\n",
    "sns.lineplot(data=df_filtered,x='LapNumber',y='LapTime',hue='Compound_Stint',\n",
    "             palette=new_pallete,marker='o',markeredgecolor=None,legend=False,ax=ax)"
   ]
  },
  {
   "cell_type": "code",
   "execution_count": null,
   "id": "2ba6b9e8",
   "metadata": {},
   "outputs": [],
   "source": [
    "df_filtered['FC_LapTime'] = fuel_correction(race,df_filtered)"
   ]
  },
  {
   "cell_type": "code",
   "execution_count": null,
   "id": "d70b2aee",
   "metadata": {},
   "outputs": [],
   "source": [
    "fig, ax = plt.subplots(figsize=(12,6))\n",
    "\n",
    "sns.lineplot(data=df_filtered,x='LapNumber',y='FC_LapTime',hue='Compound_Stint',\n",
    "             palette=new_pallete,marker='o',markeredgecolor=None,legend=False,ax=ax)"
   ]
  },
  {
   "cell_type": "code",
   "execution_count": null,
   "id": "7a3df10f",
   "metadata": {},
   "outputs": [],
   "source": [
    "df_stint = df_filtered.drop(['Compound_Stint','TrackStatus'],axis=1).groupby(['Stint','Compound','TyreLife']).mean()"
   ]
  },
  {
   "cell_type": "code",
   "execution_count": null,
   "id": "178482ff",
   "metadata": {},
   "outputs": [],
   "source": [
    "import statsmodels.api as sm"
   ]
  },
  {
   "cell_type": "code",
   "execution_count": null,
   "id": "1448ba46",
   "metadata": {},
   "outputs": [],
   "source": [
    "df_reg = df_stint.xs((3,'MEDIUM'))\n",
    "df_reg"
   ]
  },
  {
   "cell_type": "code",
   "execution_count": null,
   "id": "ca2867e1",
   "metadata": {},
   "outputs": [],
   "source": [
    "X = df_reg.index\n",
    "X = sm.add_constant(X)\n",
    "y = df_reg['FC_LapTime']"
   ]
  },
  {
   "cell_type": "code",
   "execution_count": null,
   "id": "5d695442",
   "metadata": {},
   "outputs": [],
   "source": [
    "model = sm.OLS(y, X).fit()"
   ]
  },
  {
   "cell_type": "code",
   "execution_count": null,
   "id": "e8dc21c2",
   "metadata": {},
   "outputs": [],
   "source": [
    "print(model.summary())"
   ]
  }
 ],
 "metadata": {
  "kernelspec": {
   "display_name": ".venv",
   "language": "python",
   "name": "python3"
  },
  "language_info": {
   "codemirror_mode": {
    "name": "ipython",
    "version": 3
   },
   "file_extension": ".py",
   "mimetype": "text/x-python",
   "name": "python",
   "nbconvert_exporter": "python",
   "pygments_lexer": "ipython3",
   "version": "3.13.5"
  }
 },
 "nbformat": 4,
 "nbformat_minor": 5
}

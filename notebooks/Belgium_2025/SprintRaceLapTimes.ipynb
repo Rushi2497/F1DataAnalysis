{
 "cells": [
  {
   "cell_type": "code",
   "execution_count": null,
   "id": "0c91ed23",
   "metadata": {},
   "outputs": [],
   "source": [
    "import numpy as np\n",
    "import pandas as pd\n",
    "import matplotlib.pyplot as plt\n",
    "import matplotlib as mpl\n",
    "from matplotlib.animation import FuncAnimation\n",
    "from IPython.display import HTML\n",
    "import seaborn as sns\n",
    "import fastf1\n",
    "from src.plotset import setup_plot\n",
    "from fastf1 import plotting\n",
    "\n",
    "setup_plot()"
   ]
  },
  {
   "cell_type": "code",
   "execution_count": null,
   "id": "faec77e1",
   "metadata": {},
   "outputs": [],
   "source": [
    "fastf1.Cache.enable_cache('./f1_cache')\n",
    "fastf1.Cache.get_cache_info()"
   ]
  },
  {
   "cell_type": "code",
   "execution_count": null,
   "id": "180fafff",
   "metadata": {},
   "outputs": [],
   "source": [
    "session = fastf1.get_session(2025,13,'Sprint')\n",
    "session.load()"
   ]
  },
  {
   "cell_type": "code",
   "execution_count": null,
   "id": "5668196c",
   "metadata": {},
   "outputs": [],
   "source": [
    "ver_df = session.laps.pick_drivers('VER')\n",
    "pia_df = session.laps.pick_drivers('PIA')\n",
    "nor_df = session.laps.pick_drivers('NOR')"
   ]
  },
  {
   "cell_type": "code",
   "execution_count": null,
   "id": "89240b29",
   "metadata": {},
   "outputs": [],
   "source": [
    "rbr_color = plotting.get_team_color('Redbull Racing',session)\n",
    "mcl_color = plotting.get_team_color('McLaren',session)\n",
    "\n",
    "styles = [{'linestyle':'-','color':\"#003cff\"},\n",
    "          {'linestyle':'-','color':mcl_color},\n",
    "          {'linestyle':'-','color':'yellow'}]"
   ]
  },
  {
   "cell_type": "code",
   "execution_count": null,
   "id": "78e4cca0",
   "metadata": {},
   "outputs": [],
   "source": [
    "fig, ax = plt.subplots(3,1,figsize=(12,12),sharex=True)\n",
    "\n",
    "labels = ['Verstappen', 'Piastri', 'Norris']\n",
    "lines = []\n",
    "\n",
    "for df,style in zip([ver_df,pia_df,nor_df],styles):\n",
    "    x = df.LapNumber.values\n",
    "    y = df.Sector1Time.dt.total_seconds().values\n",
    "    linestyle=style['linestyle']\n",
    "    color=style['color']\n",
    "    line, = ax[0].plot(x,y,marker='o',lw=3,linestyle=linestyle,color=color)\n",
    "    lines.append(line)\n",
    "\n",
    "for df,style in zip([ver_df,pia_df,nor_df],styles):\n",
    "    x = df.LapNumber.values\n",
    "    y = df.Sector2Time.dt.total_seconds().values\n",
    "    linestyle=style['linestyle']\n",
    "    color=style['color']\n",
    "    ax[1].plot(x,y,marker='o',lw=3,linestyle=linestyle,color=color)\n",
    "\n",
    "\n",
    "for df,style in zip([ver_df,pia_df,nor_df],styles):\n",
    "    x = df.LapNumber.values\n",
    "    y = df.Sector3Time.dt.total_seconds().values\n",
    "    linestyle=style['linestyle']\n",
    "    color=style['color']\n",
    "    ax[2].plot(x,y,marker='o',lw=3,linestyle=linestyle,color=color)\n",
    "\n",
    "for i in range(3):\n",
    "    ax[i].set_xticks([i for i in range(1,20)])\n",
    "    ax[i].set_xlim(0,16)\n",
    "\n",
    "fig.suptitle('Sector Times Comparison (Lap by Lap)',fontsize=24,fontweight='bold')\n",
    "\n",
    "ax[0].set_ylim(30,31.5)\n",
    "ax[0].set_yticks([30.2,30.5,30.8,31.1,31.4])\n",
    "ax[0].set_yticklabels(ax[0].get_yticks(),fontsize=12)\n",
    "ax[0].set_ylabel('Sector 1 Time (sec)')\n",
    "\n",
    "ax[1].set_ylim(46.3,48.5)\n",
    "ax[1].set_yticks([46.5,47,47.5,48,48.5])\n",
    "ax[1].set_yticklabels(ax[1].get_yticks(),fontsize=12)\n",
    "ax[1].set_ylabel('Sector 2 Time (sec)')\n",
    "\n",
    "ax[2].set_ylim(28.4,28.9)\n",
    "ax[2].set_yticks([28.4,28.5,28.6,28.7,28.8])\n",
    "ax[2].set_yticklabels(ax[2].get_yticks(),fontsize=12)\n",
    "ax[2].set_ylabel('Sector 3 Time (sec)')\n",
    "\n",
    "ax[0].legend(lines,labels,loc='upper center',ncol=3,fontsize=22)\n",
    "ax[2].set_xlabel('Lap Number')\n",
    "\n",
    "plt.tight_layout()"
   ]
  }
 ],
 "metadata": {
  "kernelspec": {
   "display_name": ".venv",
   "language": "python",
   "name": "python3"
  },
  "language_info": {
   "codemirror_mode": {
    "name": "ipython",
    "version": 3
   },
   "file_extension": ".py",
   "mimetype": "text/x-python",
   "name": "python",
   "nbconvert_exporter": "python",
   "pygments_lexer": "ipython3",
   "version": "3.13.5"
  }
 },
 "nbformat": 4,
 "nbformat_minor": 5
}

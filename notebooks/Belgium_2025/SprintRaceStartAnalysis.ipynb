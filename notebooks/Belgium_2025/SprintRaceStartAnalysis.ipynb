{
 "cells": [
  {
   "cell_type": "code",
   "execution_count": null,
   "id": "0c91ed23",
   "metadata": {},
   "outputs": [],
   "source": [
    "import numpy as np\n",
    "import pandas as pd\n",
    "import matplotlib.pyplot as plt\n",
    "import matplotlib as mpl\n",
    "from matplotlib.animation import FuncAnimation\n",
    "from IPython.display import HTML\n",
    "import seaborn as sns\n",
    "import fastf1\n",
    "from src.plotset import setup_plot\n",
    "from fastf1 import plotting\n",
    "\n",
    "setup_plot()"
   ]
  },
  {
   "cell_type": "code",
   "execution_count": null,
   "id": "faec77e1",
   "metadata": {},
   "outputs": [],
   "source": [
    "fastf1.Cache.enable_cache('./f1_cache')\n",
    "fastf1.Cache.get_cache_info()"
   ]
  },
  {
   "cell_type": "code",
   "execution_count": null,
   "id": "180fafff",
   "metadata": {},
   "outputs": [],
   "source": [
    "session = fastf1.get_session(2025,13,'Sprint')\n",
    "session.load()"
   ]
  },
  {
   "cell_type": "code",
   "execution_count": null,
   "id": "b1f77172",
   "metadata": {},
   "outputs": [],
   "source": [
    "df = session.laps.pick_laps(1).pick_drivers('PIA').get_car_data()[['Time','Speed']].add_distance()\n",
    "df['Time'] = df['Time'].dt.total_seconds()"
   ]
  },
  {
   "cell_type": "code",
   "execution_count": null,
   "id": "b67d5395",
   "metadata": {},
   "outputs": [],
   "source": [
    "def acc_time(df,target_speed):\n",
    "    \n",
    "    t1, s1 = df.iloc[df[df.Speed > target_speed].index[0] - 1].Time, df.iloc[df[df.Speed > target_speed].index[0] - 1].Speed\n",
    "    t2, s2 = df.iloc[df[df.Speed > target_speed].index[0]].Time, df.iloc[df[df.Speed > target_speed].index[0]].Speed\n",
    "\n",
    "    t_target = t1 + (t2 - t1)*(target_speed - s1)/(s2 - s1)\n",
    "\n",
    "    acc_time = t_target - df.iloc[df[df.Distance > 0].index[0] - 1].Time\n",
    "\n",
    "    return round(acc_time,2)"
   ]
  },
  {
   "cell_type": "code",
   "execution_count": null,
   "id": "a73bd2f7",
   "metadata": {},
   "outputs": [],
   "source": [
    "drivers = session.drivers\n",
    "driver_dict = {}\n",
    "for driver in drivers:\n",
    "    df = session.laps.pick_laps(1).pick_drivers(driver).get_car_data()[['Time','Speed']].add_distance()\n",
    "    df['Time'] = df['Time'].dt.total_seconds()\n",
    "    driver_dict[session.get_driver(driver).Abbreviation] = [acc_time(df,100),round(acc_time(df,200)-acc_time(df,100),2)]"
   ]
  },
  {
   "cell_type": "code",
   "execution_count": null,
   "id": "b3a2998a",
   "metadata": {},
   "outputs": [],
   "source": [
    "acc_df = pd.DataFrame(driver_dict).T.set_axis(labels=['0-100','100-200'],axis=1)"
   ]
  },
  {
   "cell_type": "code",
   "execution_count": null,
   "id": "2105e500",
   "metadata": {},
   "outputs": [],
   "source": [
    "acc_df.drop(['COL','GAS'],inplace=True)"
   ]
  },
  {
   "cell_type": "code",
   "execution_count": null,
   "id": "4f408f89",
   "metadata": {},
   "outputs": [],
   "source": [
    "# Sort drivers by 0–100 time\n",
    "sorted_df = acc_df.sort_values(by='0-100')\n",
    "\n",
    "drivers = sorted_df.index.tolist()\n",
    "zero_to_hundred = sorted_df['0-100'].values\n",
    "hundred_to_two = sorted_df['100-200'].values\n",
    "\n",
    "# Compute relative deltas\n",
    "delta_0_100 = zero_to_hundred - zero_to_hundred.min()\n",
    "delta_100_200 = hundred_to_two - hundred_to_two.min()\n",
    "\n",
    "gap = 0.04  # Adjust this to control the spacing between bars\n",
    "y = np.arange(len(drivers))"
   ]
  },
  {
   "cell_type": "code",
   "execution_count": null,
   "id": "610db29a",
   "metadata": {},
   "outputs": [],
   "source": [
    "fig, ax = plt.subplots(figsize=(12, 10))\n",
    "ax.axis('off')\n",
    "\n",
    "for i in range(len(drivers)):\n",
    "    color = plotting.get_driver_style(drivers[i],style=['color'],session=session)['color']\n",
    "    ax.barh(y[i], -delta_0_100[i], left=-gap, color=color)  # Left bar\n",
    "    ax.barh(y[i], delta_100_200[i], left=gap, color=color)  # Right bar\n",
    "\n",
    "ax.set_xlim(-0.6,0.6)\n",
    "ax.invert_yaxis()  # Fastest driver at top\n",
    "\n",
    "# Add absolute time labels on each bar, and driver name in center\n",
    "for i, (driver, t1, d1, t2, d2) in enumerate(zip(drivers, zero_to_hundred, delta_0_100, hundred_to_two, delta_100_200)):\n",
    "    # Left label (0–100 absolute time)\n",
    "    ax.text(-d1 - 0.05, i, f'{t1:.2f}', va='center', ha='right', fontsize=16, color='w')\n",
    "    # Right label (100–200 absolute time)\n",
    "    ax.text(d2 + 0.05, i, f'{t2:.2f}', va='center', ha='left', fontsize=16, color='w')\n",
    "    # Center driver name\n",
    "    ax.text(0, i, driver, va='center', ha='center', fontsize=16, fontweight='bold', color='w')\n",
    "\n",
    "plt.tight_layout()\n",
    "plt.show()"
   ]
  },
  {
   "cell_type": "code",
   "execution_count": null,
   "id": "7492bee2",
   "metadata": {},
   "outputs": [],
   "source": []
  }
 ],
 "metadata": {
  "kernelspec": {
   "display_name": ".venv",
   "language": "python",
   "name": "python3"
  },
  "language_info": {
   "codemirror_mode": {
    "name": "ipython",
    "version": 3
   },
   "file_extension": ".py",
   "mimetype": "text/x-python",
   "name": "python",
   "nbconvert_exporter": "python",
   "pygments_lexer": "ipython3",
   "version": "3.13.5"
  }
 },
 "nbformat": 4,
 "nbformat_minor": 5
}

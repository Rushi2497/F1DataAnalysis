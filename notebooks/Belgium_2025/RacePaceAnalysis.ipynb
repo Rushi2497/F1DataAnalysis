{
 "cells": [
  {
   "cell_type": "code",
   "execution_count": null,
   "id": "0c91ed23",
   "metadata": {},
   "outputs": [],
   "source": [
    "import matplotlib.pyplot as plt\n",
    "import seaborn as sns\n",
    "import fastf1\n",
    "from src.plotset import setup_plot\n",
    "from fastf1 import plotting\n",
    "\n",
    "setup_plot()"
   ]
  },
  {
   "cell_type": "code",
   "execution_count": null,
   "id": "faec77e1",
   "metadata": {},
   "outputs": [],
   "source": [
    "fastf1.Cache.enable_cache('./f1_cache')\n",
    "fastf1.Cache.get_cache_info()"
   ]
  },
  {
   "cell_type": "code",
   "execution_count": null,
   "id": "94905e92",
   "metadata": {},
   "outputs": [],
   "source": [
    "session = fastf1.get_session(2025,13,'Race')\n",
    "session.load()"
   ]
  },
  {
   "cell_type": "code",
   "execution_count": null,
   "id": "6263e5fd",
   "metadata": {},
   "outputs": [],
   "source": [
    "drivers = session.results.Abbreviation.values[:10]"
   ]
  },
  {
   "cell_type": "code",
   "execution_count": null,
   "id": "d85634ed",
   "metadata": {},
   "outputs": [],
   "source": [
    "df = session.laps.pick_drivers(drivers).pick_quicklaps()[['Driver','LapTime','LapNumber','Stint','Compound']]\n",
    "df['LapTime'] = df['LapTime'].dt.total_seconds()"
   ]
  },
  {
   "cell_type": "code",
   "execution_count": null,
   "id": "52340d7b",
   "metadata": {},
   "outputs": [],
   "source": [
    "driver_palette = plotting.get_driver_color_mapping(session=session)"
   ]
  },
  {
   "cell_type": "code",
   "execution_count": null,
   "id": "c7444a94",
   "metadata": {},
   "outputs": [],
   "source": [
    "fig, ax = plt.subplots(figsize=(10,8))\n",
    "sns.boxplot(df,x='Driver',y='LapTime',hue='Driver',palette=driver_palette,fliersize=0,linecolor='w',boxprops=dict(alpha=0.5),order=drivers)\n",
    "sns.stripplot(df,x='Driver',y='LapTime',hue='Driver',palette=driver_palette,linewidth=1,size=8,edgecolor='#666666',jitter=0.1)\n",
    "\n",
    "ax.set_ylim(105,111)\n",
    "ax.set_xticks([])\n",
    "ax.set_yticks([i for i in range(105,112)])\n",
    "ax.set_yticklabels(ax.get_yticks(),fontsize=18,fontweight='bold')\n",
    "ax.set_xlabel('')\n",
    "ax.set_ylabel('')"
   ]
  },
  {
   "cell_type": "code",
   "execution_count": null,
   "id": "f33350e5",
   "metadata": {},
   "outputs": [],
   "source": [
    "fig.savefig('race_pace.png',dpi=300, bbox_inches='tight')"
   ]
  }
 ],
 "metadata": {
  "kernelspec": {
   "display_name": ".venv",
   "language": "python",
   "name": "python3"
  },
  "language_info": {
   "codemirror_mode": {
    "name": "ipython",
    "version": 3
   },
   "file_extension": ".py",
   "mimetype": "text/x-python",
   "name": "python",
   "nbconvert_exporter": "python",
   "pygments_lexer": "ipython3",
   "version": "3.13.5"
  }
 },
 "nbformat": 4,
 "nbformat_minor": 5
}

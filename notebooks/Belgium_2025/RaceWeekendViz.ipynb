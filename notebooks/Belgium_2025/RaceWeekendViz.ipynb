{
 "cells": [
  {
   "cell_type": "code",
   "execution_count": null,
   "id": "0c91ed23",
   "metadata": {},
   "outputs": [],
   "source": [
    "import numpy as np\n",
    "import pandas as pd\n",
    "import matplotlib.pyplot as plt\n",
    "import matplotlib as mpl\n",
    "from matplotlib.collections import LineCollection\n",
    "from matplotlib.animation import FuncAnimation\n",
    "from IPython.display import HTML\n",
    "import seaborn as sns\n",
    "import fastf1\n",
    "from src.plotset import setup_plot\n",
    "from fastf1 import plotting\n",
    "\n",
    "#setup_plot()"
   ]
  },
  {
   "cell_type": "code",
   "execution_count": null,
   "id": "faec77e1",
   "metadata": {},
   "outputs": [],
   "source": [
    "fastf1.Cache.enable_cache('./f1_cache')\n",
    "fastf1.Cache.get_cache_info()"
   ]
  },
  {
   "cell_type": "code",
   "execution_count": null,
   "id": "a465fa84",
   "metadata": {},
   "outputs": [],
   "source": [
    "session = fastf1.get_session(2024, 14, 'R')\n",
    "weekend = session.event\n",
    "session.load()"
   ]
  },
  {
   "cell_type": "code",
   "execution_count": null,
   "id": "fbfe5554",
   "metadata": {},
   "outputs": [],
   "source": [
    "lap = session.laps.pick_fastest()"
   ]
  },
  {
   "cell_type": "code",
   "execution_count": null,
   "id": "93bef141",
   "metadata": {},
   "outputs": [],
   "source": [
    "x = lap.telemetry['X']\n",
    "y = lap.telemetry['Y']\n",
    "color = lap.telemetry['Speed']"
   ]
  },
  {
   "cell_type": "code",
   "execution_count": null,
   "id": "84d950b8",
   "metadata": {},
   "outputs": [],
   "source": [
    "points = np.array([-y, x]).T.reshape(-1,1,2)\n",
    "segments = np.concatenate([points[:-1], points[1:]], axis=1)"
   ]
  },
  {
   "cell_type": "code",
   "execution_count": null,
   "id": "88fdd9b8",
   "metadata": {},
   "outputs": [],
   "source": [
    "fig, ax = plt.subplots(figsize=(12, 8))\n",
    "fig.set_facecolor('#333333')\n",
    "ax.axis('off')\n",
    "ax.plot(-y, x,\n",
    "        color='#000000', linestyle='-', linewidth=16, zorder=0)\n",
    "\n",
    "norm = plt.Normalize(color.min(), color.max())\n",
    "colormap = mpl.cm.plasma\n",
    "lc = LineCollection(segments, cmap=colormap, norm=norm,\n",
    "                    linestyle='-', linewidth=10)\n",
    "\n",
    "lc.set_array(color)\n",
    "\n",
    "# line = ax.add_collection(lc)\n",
    "\n",
    "# cbaxes = fig.add_axes([0.15, 0.05, 0.5, 0.05])\n",
    "# normlegend = mpl.colors.Normalize(vmin=color.min(), vmax=color.max())\n",
    "# legend = mpl.colorbar.ColorbarBase(cbaxes, norm=normlegend, cmap=colormap,\n",
    "#                                    orientation=\"horizontal\")\n",
    "\n",
    "# for label in legend.ax.get_xticklabels():\n",
    "#     label.set_fontsize(16)\n",
    "#     label.set_fontweight('bold')\n",
    "#     label.set_color('w')\n",
    "\n",
    "# legend.ax.set_title('Speed (kmph)',color='w',fontdict=dict(fontsize=18,fontweight='bold'))\n",
    "plt.tight_layout()\n",
    "plt.show()"
   ]
  },
  {
   "cell_type": "code",
   "execution_count": null,
   "id": "4d2eb8b2",
   "metadata": {},
   "outputs": [],
   "source": [
    "# Set animation size limit\n",
    "from matplotlib import rcParams\n",
    "rcParams['animation.embed_limit'] = 200\n",
    "\n",
    "# Enable ffmpeg\n",
    "rcParams['animation.ffmpeg_path'] = r\"C:\\Users\\rushi\\AppData\\Local\\ffmpeg-7.1.1-essentials_build\\bin\\ffmpeg.exe\""
   ]
  },
  {
   "cell_type": "code",
   "execution_count": null,
   "id": "6d3fdff7",
   "metadata": {},
   "outputs": [],
   "source": [
    "len(segments)"
   ]
  },
  {
   "cell_type": "code",
   "execution_count": null,
   "id": "99c3d5bf",
   "metadata": {},
   "outputs": [],
   "source": [
    "fig, ax = plt.subplots(figsize=(12, 8))\n",
    "ax.axis('off')\n",
    "fig.set_facecolor('#333333')\n",
    "ax.plot(-y, x,\n",
    "        color='#000000', linestyle='-', linewidth=16, zorder=0)\n",
    "\n",
    "norm = plt.Normalize(color.min(), color.max())\n",
    "colormap = mpl.cm.plasma\n",
    "\n",
    "lc = LineCollection([], cmap=colormap, norm=norm, linestyle='-', linewidth=10)\n",
    "line = ax.add_collection(lc)\n",
    "\n",
    "car, = ax.plot([], [], marker='^',color='w', markersize=24)\n",
    "\n",
    "def update(frame):\n",
    "    lc.set_segments(segments[:frame])\n",
    "    lc.set_array(color[:frame])\n",
    "\n",
    "    if frame < len(x):\n",
    "        car.set_data([-y.values[frame]], [x.values[frame]])\n",
    "        dx = x.values[frame+1] - x.values[frame]\n",
    "        dy = y.values[frame+1] - y.values[frame]\n",
    "        angle = np.degrees(np.arctan2(dx, -dy) + np.pi/6)\n",
    "        car.set_marker((3,0,angle))\n",
    "    return lc,car\n",
    "\n",
    "ani = FuncAnimation(\n",
    "    fig, update, frames=len(segments), interval=26, repeat=False, blit=True\n",
    ")\n",
    "\n",
    "plt.tight_layout()\n",
    "\n",
    "# HTML(ani.to_jshtml())\n",
    "\n",
    "# Save the animation as MP4 video\n",
    "ani.save('./media/Reel2/circuit_animation_reel.mp4', writer='ffmpeg', dpi=300, bitrate=8000)"
   ]
  }
 ],
 "metadata": {
  "kernelspec": {
   "display_name": ".venv",
   "language": "python",
   "name": "python3"
  },
  "language_info": {
   "codemirror_mode": {
    "name": "ipython",
    "version": 3
   },
   "file_extension": ".py",
   "mimetype": "text/x-python",
   "name": "python",
   "nbconvert_exporter": "python",
   "pygments_lexer": "ipython3",
   "version": "3.13.5"
  }
 },
 "nbformat": 4,
 "nbformat_minor": 5
}

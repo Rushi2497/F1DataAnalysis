{
 "cells": [
  {
   "cell_type": "code",
   "execution_count": null,
   "id": "0c91ed23",
   "metadata": {},
   "outputs": [],
   "source": [
    "import numpy as np\n",
    "import pandas as pd\n",
    "import matplotlib.pyplot as plt\n",
    "import seaborn as sns\n",
    "import fastf1\n",
    "from src.plotset import setup_plot\n",
    "from fastf1 import plotting\n",
    "import statsmodels.api as sm\n",
    "\n",
    "setup_plot()"
   ]
  },
  {
   "cell_type": "code",
   "execution_count": null,
   "id": "faec77e1",
   "metadata": {},
   "outputs": [],
   "source": [
    "fastf1.Cache.enable_cache('./f1_cache')\n",
    "fastf1.Cache.get_cache_info()"
   ]
  },
  {
   "cell_type": "code",
   "execution_count": null,
   "id": "1ae5c327",
   "metadata": {},
   "outputs": [],
   "source": [
    "session = fastf1.get_session(2025,13,'R')\n",
    "session.load()"
   ]
  },
  {
   "cell_type": "code",
   "execution_count": null,
   "id": "0abf19e4",
   "metadata": {},
   "outputs": [],
   "source": [
    "drivers = session.drivers[:10]"
   ]
  },
  {
   "cell_type": "code",
   "execution_count": null,
   "id": "ad104fd4",
   "metadata": {},
   "outputs": [],
   "source": [
    "total_laps = 44\n",
    "race_dict = {}\n",
    "for driver_number in drivers:\n",
    "    df = session.laps.pick_drivers(driver_number)\n",
    "    inter_laps = df[df.Compound == 'INTERMEDIATE'].Compound.count()\n",
    "\n",
    "    df_tel_wet = df.pick_laps([i for i in range(1,inter_laps+1)]).pick_fastest().get_car_data()\n",
    "    throt_wet = (df_tel_wet.Throttle >= 95).sum()/df_tel_wet.shape[0]\n",
    "\n",
    "    df_tel_dry = df.pick_laps([i for i in range(inter_laps+1,total_laps+1)]).pick_fastest().get_car_data()\n",
    "    throt_dry = (df_tel_dry.Throttle >= 95).sum()/df_tel_dry.shape[0]\n",
    "\n",
    "    race_dict[session.get_driver(driver_number).Abbreviation] = [inter_laps, total_laps - inter_laps, throt_wet, throt_dry]"
   ]
  },
  {
   "cell_type": "code",
   "execution_count": null,
   "id": "be687669",
   "metadata": {},
   "outputs": [],
   "source": [
    "race_df = pd.DataFrame(race_dict).T.set_axis(['WetLaps','DryLaps','WetThrottle%','DryThrottle%'],axis=1)"
   ]
  },
  {
   "cell_type": "code",
   "execution_count": null,
   "id": "246b311c",
   "metadata": {},
   "outputs": [],
   "source": [
    "race_df.mean()"
   ]
  },
  {
   "cell_type": "code",
   "execution_count": null,
   "id": "de1bca67",
   "metadata": {},
   "outputs": [],
   "source": [
    "sc_laps = 4\n",
    "wet_laps = 12\n",
    "dry_laps = 32\n",
    "margin_laps = 5\n",
    "\n",
    "sc_fuel_cons = 1\n",
    "dry_fuel_cons = 2.4\n",
    "wet_by_dry = 0.485/0.616\n",
    "wet_fuel_cons = round(dry_fuel_cons * wet_by_dry,1)"
   ]
  },
  {
   "cell_type": "code",
   "execution_count": null,
   "id": "23233afc",
   "metadata": {},
   "outputs": [],
   "source": [
    "avg_fuel_cons = sc_laps * sc_fuel_cons + (wet_laps - sc_laps) * wet_fuel_cons + dry_laps * dry_fuel_cons\n",
    "est_fuel_load = avg_fuel_cons + margin_laps * dry_fuel_cons\n",
    "est_fuel_load"
   ]
  },
  {
   "cell_type": "code",
   "execution_count": null,
   "id": "0e37b47d",
   "metadata": {},
   "outputs": [],
   "source": [
    "drivers"
   ]
  },
  {
   "cell_type": "code",
   "execution_count": null,
   "id": "5f4a6b54",
   "metadata": {},
   "outputs": [],
   "source": [
    "def tire_deg(driver_number,skip_age):\n",
    "    df = session.laps.pick_drivers(driver_number)[['LapNumber','LapTime','Compound','TyreLife']].pick_quicklaps().copy()\n",
    "    df['LapTime'] = df['LapTime'].dt.total_seconds()\n",
    "    df['FC_LapTime'] = df['LapTime'] - round((44 - df['LapNumber'])*dry_fuel_cons*0.035,2)\n",
    "\n",
    "    x = df.iloc[skip_age:].TyreLife\n",
    "    x = sm.add_constant(x)\n",
    "    y = df.iloc[skip_age:].FC_LapTime\n",
    "\n",
    "    model = sm.OLS(y, x).fit()\n",
    "    return df.iloc[skip_age:], model.params['TyreLife'], model.rsquared"
   ]
  },
  {
   "cell_type": "code",
   "execution_count": null,
   "id": "195aa60c",
   "metadata": {},
   "outputs": [],
   "source": [
    "fig, ax = plt.subplots(2,5,figsize=(15,6),sharex=True,sharey=True)\n",
    "\n",
    "dc = 0\n",
    "i = 0\n",
    "while i <= 1:\n",
    "    j = 0\n",
    "    while j <= 4:\n",
    "        dc += 1\n",
    "        driver_number = drivers[dc-1]\n",
    "        df, td, r2 = tire_deg(driver_number,4)\n",
    "        color = plotting.get_driver_color(identifier=session.get_driver(driver_number).Abbreviation,session=session)\n",
    "        sns.regplot(x=df.TyreLife,y=df.FC_LapTime,ax=ax[i][j],color=color)\n",
    "        ax[i][j].set_ylim(104,109)\n",
    "        ax[i][j].set_xlabel('')\n",
    "        ax[i][j].set_ylabel('')\n",
    "        ax[i][j].text(18.5,108.5,session.get_driver(driver_number).Abbreviation,color=color,fontsize=14,fontweight='bold')\n",
    "        ax[i][j].text(10.5,107.5,f'Tire Deg: {td:0.3f} s/lap\\n    R-squared: {r2:0.2f}',fontsize=12)\n",
    "        j+=1\n",
    "    i+=1\n",
    "\n",
    "\n",
    "plt.show()"
   ]
  },
  {
   "cell_type": "code",
   "execution_count": null,
   "id": "e0ff70da",
   "metadata": {},
   "outputs": [],
   "source": []
  }
 ],
 "metadata": {
  "kernelspec": {
   "display_name": ".venv",
   "language": "python",
   "name": "python3"
  },
  "language_info": {
   "codemirror_mode": {
    "name": "ipython",
    "version": 3
   },
   "file_extension": ".py",
   "mimetype": "text/x-python",
   "name": "python",
   "nbconvert_exporter": "python",
   "pygments_lexer": "ipython3",
   "version": "3.13.5"
  }
 },
 "nbformat": 4,
 "nbformat_minor": 5
}

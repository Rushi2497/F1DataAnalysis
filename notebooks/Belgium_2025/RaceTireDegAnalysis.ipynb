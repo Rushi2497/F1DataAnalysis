{
 "cells": [
  {
   "cell_type": "code",
   "execution_count": null,
   "id": "0c91ed23",
   "metadata": {},
   "outputs": [],
   "source": [
    "import numpy as np\n",
    "import pandas as pd\n",
    "import matplotlib.pyplot as plt\n",
    "import seaborn as sns\n",
    "import fastf1\n",
    "from src.plotset import setup_plot\n",
    "from fastf1 import plotting\n",
    "import statsmodels.api as sm"
   ]
  },
  {
   "cell_type": "code",
   "execution_count": null,
   "id": "faec77e1",
   "metadata": {},
   "outputs": [],
   "source": [
    "fastf1.Cache.enable_cache('./f1_cache')\n",
    "fastf1.Cache.get_cache_info()"
   ]
  },
  {
   "cell_type": "code",
   "execution_count": null,
   "id": "1ae5c327",
   "metadata": {},
   "outputs": [],
   "source": [
    "session = fastf1.get_session(2025,13,'R')\n",
    "session.load()"
   ]
  },
  {
   "cell_type": "code",
   "execution_count": null,
   "id": "0abf19e4",
   "metadata": {},
   "outputs": [],
   "source": [
    "drivers = session.drivers[:10]"
   ]
  },
  {
   "cell_type": "code",
   "execution_count": null,
   "id": "ad104fd4",
   "metadata": {},
   "outputs": [],
   "source": [
    "total_laps = 44\n",
    "race_dict = {}\n",
    "for driver_number in drivers:\n",
    "    df = session.laps.pick_drivers(driver_number)\n",
    "    inter_laps = df[df.Compound == 'INTERMEDIATE'].Compound.count()\n",
    "\n",
    "    df_tel_wet = df.pick_laps([i for i in range(1,inter_laps+1)]).pick_fastest().get_car_data()\n",
    "    throt_wet = (df_tel_wet.Throttle >= 95).sum()/df_tel_wet.shape[0]\n",
    "\n",
    "    df_tel_dry = df.pick_laps([i for i in range(inter_laps+1,total_laps+1)]).pick_fastest().get_car_data()\n",
    "    throt_dry = (df_tel_dry.Throttle >= 95).sum()/df_tel_dry.shape[0]\n",
    "\n",
    "    race_dict[session.get_driver(driver_number).Abbreviation] = [inter_laps, total_laps - inter_laps, throt_wet, throt_dry]"
   ]
  },
  {
   "cell_type": "code",
   "execution_count": null,
   "id": "be687669",
   "metadata": {},
   "outputs": [],
   "source": [
    "race_df = pd.DataFrame(race_dict).T.set_axis(['WetLaps','DryLaps','WetThrottle%','DryThrottle%'],axis=1)"
   ]
  },
  {
   "cell_type": "code",
   "execution_count": null,
   "id": "246b311c",
   "metadata": {},
   "outputs": [],
   "source": [
    "race_df.mean()"
   ]
  },
  {
   "cell_type": "code",
   "execution_count": null,
   "id": "de1bca67",
   "metadata": {},
   "outputs": [],
   "source": [
    "sc_laps = 4\n",
    "wet_laps = 12\n",
    "dry_laps = 32\n",
    "margin_laps = 5\n",
    "\n",
    "sc_fuel_cons = 1\n",
    "dry_fuel_cons = 2.4\n",
    "wet_by_dry = 0.485/0.616\n",
    "wet_fuel_cons = round(dry_fuel_cons * wet_by_dry,1)"
   ]
  },
  {
   "cell_type": "code",
   "execution_count": null,
   "id": "23233afc",
   "metadata": {},
   "outputs": [],
   "source": [
    "avg_fuel_cons = sc_laps * sc_fuel_cons + (wet_laps - sc_laps) * wet_fuel_cons + dry_laps * dry_fuel_cons\n",
    "est_fuel_load = avg_fuel_cons + margin_laps * dry_fuel_cons\n",
    "est_fuel_load"
   ]
  },
  {
   "cell_type": "code",
   "execution_count": null,
   "id": "5f4a6b54",
   "metadata": {},
   "outputs": [],
   "source": [
    "def tire_deg(driver_number,nlaps):\n",
    "    df = session.laps.pick_drivers(driver_number)[['LapNumber','LapTime','Compound','TyreLife']].pick_quicklaps().copy()\n",
    "    df['LapTime'] = df['LapTime'].dt.total_seconds()\n",
    "    df['FC_LapTime'] = df['LapTime'] - round((44 - df['LapNumber'])*dry_fuel_cons*0.035,2)\n",
    "\n",
    "    x = df.iloc[nlaps:].TyreLife\n",
    "    x = sm.add_constant(x)\n",
    "    y = df.iloc[nlaps:].FC_LapTime\n",
    "\n",
    "    model = sm.OLS(y, x).fit()\n",
    "    return df.iloc[nlaps:], model"
   ]
  },
  {
   "cell_type": "code",
   "execution_count": null,
   "id": "195aa60c",
   "metadata": {},
   "outputs": [],
   "source": [
    "setup_plot()\n",
    "fig, ax = plt.subplots(2,5,figsize=(15,6),sharex=True,sharey=True)\n",
    "\n",
    "tires_dict = {}\n",
    "\n",
    "dc = 0\n",
    "i = 0\n",
    "while i <= 1:\n",
    "    j = 0\n",
    "    while j <= 4:\n",
    "\n",
    "        dc += 1\n",
    "        driver_number = drivers[dc-1]\n",
    "        dabb = session.get_driver(driver_number).Abbreviation\n",
    "        df, m = tire_deg(driver_number,-25)\n",
    "\n",
    "        if dabb == 'NOR':\n",
    "            color = 'yellow'\n",
    "        elif dabb == 'HAM':\n",
    "            color = 'brown'\n",
    "        elif dabb == 'LAW':\n",
    "            color = '#888888'\n",
    "        else:\n",
    "            color = plotting.get_driver_color(identifier=dabb,session=session)\n",
    "        \n",
    "        td, r2, icpt, resid = m.params['TyreLife'], m.rsquared, m.params['const'], m.resid\n",
    "\n",
    "        tires_dict[dabb] = [icpt, td, r2, resid, color]\n",
    "\n",
    "        sns.regplot(x=df.TyreLife,y=df.FC_LapTime,ax=ax[i][j],color=color)\n",
    "        ax[i][j].set_ylim(103,108)\n",
    "        ax[i][j].set_yticks([104,105,106,107,108,109])\n",
    "        ax[i][j].set_yticklabels(['',105,106,107,108,''])\n",
    "        ax[i][j].set_xlim(6,34)\n",
    "        ax[i][j].set_xlabel('')\n",
    "        ax[i][j].set_ylabel('')\n",
    "        ax[i][j].set_xticks([])\n",
    "        ax[i][j].set_yticks([])\n",
    "        ax[i][j].text(17,108,dabb,color=color,fontsize=20,fontweight='bold')\n",
    "        # ax[i][j].text(8,107.5,f'Tire Deg: {m.params['TyreLife']:0.3f} s/lap\\n    R-squared: {m.rsquared:0.2f}',fontsize=14)\n",
    "\n",
    "        j+=1\n",
    "    i+=1\n",
    "\n",
    "\n",
    "plt.show()"
   ]
  },
  {
   "cell_type": "code",
   "execution_count": null,
   "id": "3d245e79",
   "metadata": {},
   "outputs": [],
   "source": [
    "setup_plot()\n",
    "fig, ax = plt.subplots(1,2,figsize=(15,6),sharey=True)\n",
    "\n",
    "pia_df, pia_m = tire_deg('81',-25)\n",
    "pia_color = plotting.get_driver_color(identifier='PIA',session=session)\n",
    "pia_reg = [pia_m.params['TyreLife'], pia_m.rsquared, pia_m.params['const'], pia_m.resid]\n",
    "\n",
    "nor_df, nor_m = tire_deg('4',-25)\n",
    "nor_color = 'yellow'\n",
    "nor_reg = [nor_m.params['TyreLife'], nor_m.rsquared, nor_m.params['const'], nor_m.resid]\n",
    "\n",
    "sns.regplot(x=pia_df.TyreLife,y=pia_df.FC_LapTime,color=pia_color,ax=ax[0])\n",
    "sns.regplot(x=nor_df.TyreLife,y=nor_df.FC_LapTime,color=nor_color,ax=ax[1])\n",
    "\n",
    "ax[0].set_ylim(103,108)\n",
    "ax[0].set_yticks([103,104,105,106,107,108,108])\n",
    "# ax[0].set_yticklabels([104,105,106,107,108,109])\n",
    "ax[0].set_xlim(6,34)\n",
    "ax[1].set_xlim(6,34)\n",
    "ax[0].set_xlabel('Tire Life (in laps)')\n",
    "ax[1].set_xlabel('Tire Life (in laps)')\n",
    "ax[0].set_ylabel('Fuel Corrected Lap Times (in sec)')\n",
    "ax[1].set_ylabel('')\n",
    "\n",
    "ax[0].text(17.5,107.5,'PIASTRI',color=pia_color,fontsize=24,fontweight='bold')\n",
    "ax[1].text(17.5,107.5,'NORRIS',color=nor_color,fontsize=24,fontweight='bold')\n",
    "\n",
    "ax[0].text(16,107.1,f'R-squared: {pia_reg[1]:0.2f}',fontsize=20)\n",
    "ax[1].text(16,107.1,f'R-squared: {nor_reg[1]:0.2f}',fontsize=20)\n",
    "\n",
    "ax[0].text(11.5,103.5,f' (Slope) Tire Deg: {pia_reg[0]:0.3f} s/lap\\n(Intercept) Baseline: {pia_reg[2]:0.2f} s',fontsize=20)\n",
    "ax[1].text(11.5,103.5,f' (Slope) Tire Deg: {nor_reg[0]:0.3f} s/lap\\n(Intercept) Baseline: {nor_reg[2]:0.2f} s',fontsize=20)\n",
    "\n",
    "plt.show()"
   ]
  },
  {
   "cell_type": "code",
   "execution_count": null,
   "id": "e0ff70da",
   "metadata": {},
   "outputs": [],
   "source": [
    "tires_df = pd.DataFrame(tires_dict).T.set_axis(['intercept','slope','r2','residual','color'],axis=1)"
   ]
  },
  {
   "cell_type": "code",
   "execution_count": null,
   "id": "c681df26",
   "metadata": {},
   "outputs": [],
   "source": [
    "tires_df['StintTime'] = tires_df.apply(lambda x: 25*x['intercept'] + (25*13)*x['slope'],axis=1)"
   ]
  },
  {
   "cell_type": "code",
   "execution_count": null,
   "id": "e4365b6e",
   "metadata": {},
   "outputs": [],
   "source": [
    "# Font sizes\n",
    "setup_plot(xyticksize=18,legendfont=20,legendtitle=24,axeslabel=24)\n",
    "\n",
    "fig, ax = plt.subplots(figsize=(15,10))\n",
    "sns.scatterplot(data=tires_df,x='intercept',y='slope',hue=tires_df.index,palette=tires_df.color.values.tolist(),s=1000,ax=ax)\n",
    "ax.set_ylabel('LOWER <-- Tire Degradation (sec/lap) --> HIGHER')\n",
    "ax.set_xlabel('FASTER <-- Baseline Lap Time (sec) --> SLOWER')\n",
    "ax.set_xticks([])\n",
    "ax.set_yticks([])\n",
    "ax.legend(title='DRIVER',fontsize=20)\n",
    "ax.grid(visible=False)\n",
    "\n",
    "plt.show()"
   ]
  },
  {
   "cell_type": "code",
   "execution_count": null,
   "id": "b3818134",
   "metadata": {},
   "outputs": [],
   "source": [
    "tires_df['RelStintTime'] = tires_df.StintTime - tires_df.StintTime.min()"
   ]
  },
  {
   "cell_type": "code",
   "execution_count": null,
   "id": "5bca6242",
   "metadata": {},
   "outputs": [],
   "source": [
    "fig, ax = plt.subplots(figsize=(15,8))\n",
    "sns.barplot(x=tires_df.index,y=tires_df.RelStintTime,hue=tires_df.index,palette=tires_df.color.values.tolist(),ax=ax)\n",
    "ax.set_ylabel('Relative Stint Time (sec)',fontsize=18)\n",
    "ax.set_xlabel('')\n",
    "plt.show()"
   ]
  }
 ],
 "metadata": {
  "kernelspec": {
   "display_name": ".venv",
   "language": "python",
   "name": "python3"
  },
  "language_info": {
   "codemirror_mode": {
    "name": "ipython",
    "version": 3
   },
   "file_extension": ".py",
   "mimetype": "text/x-python",
   "name": "python",
   "nbconvert_exporter": "python",
   "pygments_lexer": "ipython3",
   "version": "3.13.5"
  }
 },
 "nbformat": 4,
 "nbformat_minor": 5
}

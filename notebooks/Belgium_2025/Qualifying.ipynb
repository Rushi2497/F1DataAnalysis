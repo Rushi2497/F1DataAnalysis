{
 "cells": [
  {
   "cell_type": "code",
   "execution_count": null,
   "id": "0c91ed23",
   "metadata": {},
   "outputs": [],
   "source": [
    "import numpy as np\n",
    "import pandas as pd\n",
    "import matplotlib.pyplot as plt\n",
    "from matplotlib.collections import LineCollection\n",
    "import fastf1\n",
    "from fastf1 import plotting\n",
    "from scipy.interpolate import interp1d"
   ]
  },
  {
   "cell_type": "code",
   "execution_count": null,
   "id": "faec77e1",
   "metadata": {},
   "outputs": [],
   "source": [
    "fastf1.Cache.enable_cache('./f1_cache')\n",
    "fastf1.Cache.get_cache_info()"
   ]
  },
  {
   "cell_type": "code",
   "execution_count": null,
   "id": "191b88ed",
   "metadata": {},
   "outputs": [],
   "source": [
    "session = fastf1.get_session(2025, 13, 'Qualifying')\n",
    "session.load()"
   ]
  },
  {
   "cell_type": "code",
   "execution_count": null,
   "id": "35b3924b",
   "metadata": {},
   "outputs": [],
   "source": [
    "pia_color = plotting.get_driver_color(session=session,identifier='PIA')\n",
    "nor_color = 'yellow'"
   ]
  },
  {
   "cell_type": "code",
   "execution_count": null,
   "id": "cf982a1d",
   "metadata": {},
   "outputs": [],
   "source": [
    "nor_df = session.laps.pick_drivers('NOR').pick_fastest().telemetry[['Time','Distance','X','Y','Speed']].copy()\n",
    "pia_df = session.laps.pick_drivers('PIA').pick_fastest().telemetry[['Time','Distance','X','Y','Speed']].copy()"
   ]
  },
  {
   "cell_type": "code",
   "execution_count": null,
   "id": "8efea528",
   "metadata": {},
   "outputs": [],
   "source": [
    "nor_df['Seconds'] = nor_df['Time'].dt.total_seconds()\n",
    "pia_df['Seconds'] = pia_df['Time'].dt.total_seconds()"
   ]
  },
  {
   "cell_type": "code",
   "execution_count": null,
   "id": "0937bdab",
   "metadata": {},
   "outputs": [],
   "source": [
    "# Norris\n",
    "nor_time_interp = interp1d(nor_df['Distance'], nor_df['Seconds'], kind='linear', bounds_error=False, fill_value=\"extrapolate\")\n",
    "nor_x_interp    = interp1d(nor_df['Distance'], nor_df['X'], kind='linear', bounds_error=False, fill_value=\"extrapolate\")\n",
    "nor_y_interp    = interp1d(nor_df['Distance'], nor_df['Y'], kind='linear', bounds_error=False, fill_value=\"extrapolate\")\n",
    "\n",
    "# Piastri\n",
    "pia_time_interp = interp1d(pia_df['Distance'], pia_df['Seconds'], kind='linear', bounds_error=False, fill_value=\"extrapolate\")\n",
    "pia_x_interp    = interp1d(pia_df['Distance'], pia_df['X'], kind='linear', bounds_error=False, fill_value=\"extrapolate\")\n",
    "pia_y_interp    = interp1d(pia_df['Distance'], pia_df['Y'], kind='linear', bounds_error=False, fill_value=\"extrapolate\")"
   ]
  },
  {
   "cell_type": "code",
   "execution_count": null,
   "id": "882b2d26",
   "metadata": {},
   "outputs": [],
   "source": [
    "min_dist = max(pia_df['Distance'].min(), nor_df['Distance'].min())\n",
    "max_dist = min(pia_df['Distance'].max(), nor_df['Distance'].max())\n",
    "\n",
    "distance_grid = np.linspace(min_dist, max_dist, num=1000)"
   ]
  },
  {
   "cell_type": "code",
   "execution_count": null,
   "id": "b481b687",
   "metadata": {},
   "outputs": [],
   "source": [
    "# Interpolated cumulative time\n",
    "nor_time = pd.Series(nor_time_interp(distance_grid)).diff().dropna()\n",
    "pia_time = pd.Series(pia_time_interp(distance_grid)).diff().dropna()\n",
    "\n",
    "# Interpolated positions\n",
    "y = (nor_x_interp(distance_grid) + pia_x_interp(distance_grid)) / 2\n",
    "x = -(nor_y_interp(distance_grid) + pia_y_interp(distance_grid)) / 2"
   ]
  },
  {
   "cell_type": "code",
   "execution_count": null,
   "id": "d08ff01d",
   "metadata": {},
   "outputs": [],
   "source": [
    "delta = pia_time - nor_time\n",
    "\n",
    "# Assign colors\n",
    "colors = np.where(delta < 0, pia_color, nor_color)"
   ]
  },
  {
   "cell_type": "code",
   "execution_count": null,
   "id": "05f74a15",
   "metadata": {},
   "outputs": [],
   "source": [
    "# Create line segments\n",
    "points = np.array([x, y]).T.reshape(-1, 1, 2)\n",
    "segments = np.concatenate([points[:-1], points[1:]], axis=1)"
   ]
  },
  {
   "cell_type": "code",
   "execution_count": null,
   "id": "ece61738",
   "metadata": {},
   "outputs": [],
   "source": [
    "import matplotlib.patches as mpatches\n",
    "\n",
    "# Create legend handles manually\n",
    "pia_patch = mpatches.Patch(color=pia_color, label='Piastri faster')\n",
    "nor_patch = mpatches.Patch(color=nor_color, label='Norris faster')"
   ]
  },
  {
   "cell_type": "code",
   "execution_count": null,
   "id": "88fdd9b8",
   "metadata": {},
   "outputs": [],
   "source": [
    "fig, ax = plt.subplots(figsize=(12, 8))\n",
    "fig.set_facecolor('#000000')\n",
    "ax.axis('off')\n",
    "\n",
    "# Color per segment (drop last color to match segments length)\n",
    "lc = LineCollection(segments, colors=colors, linewidth=8)\n",
    "\n",
    "ax.add_collection(lc)\n",
    "ax.autoscale()\n",
    "\n",
    "# Add legend to your axes\n",
    "ax.legend(handles=[pia_patch, nor_patch],\n",
    "          loc='upper left',  # or any location you prefer\n",
    "          bbox_to_anchor=(0.04,1),\n",
    "          frameon=True,\n",
    "          facecolor='k',\n",
    "          fontsize=20,\n",
    "          labelcolor='white')\n",
    "\n",
    "plt.tight_layout()\n",
    "plt.show()"
   ]
  }
 ],
 "metadata": {
  "kernelspec": {
   "display_name": ".venv",
   "language": "python",
   "name": "python3"
  },
  "language_info": {
   "codemirror_mode": {
    "name": "ipython",
    "version": 3
   },
   "file_extension": ".py",
   "mimetype": "text/x-python",
   "name": "python",
   "nbconvert_exporter": "python",
   "pygments_lexer": "ipython3",
   "version": "3.13.5"
  }
 },
 "nbformat": 4,
 "nbformat_minor": 5
}

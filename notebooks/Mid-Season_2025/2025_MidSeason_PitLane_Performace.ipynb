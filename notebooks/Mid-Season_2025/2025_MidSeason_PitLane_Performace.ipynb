{
 "cells": [
  {
   "cell_type": "code",
   "execution_count": null,
   "id": "0c91ed23",
   "metadata": {},
   "outputs": [],
   "source": [
    "import numpy as np\n",
    "import pandas as pd\n",
    "import matplotlib.pyplot as plt\n",
    "import seaborn as sns\n",
    "import fastf1\n",
    "from src.plotset import setup_plot\n",
    "from fastf1 import plotting\n",
    "\n",
    "setup_plot()"
   ]
  },
  {
   "cell_type": "code",
   "execution_count": null,
   "id": "faec77e1",
   "metadata": {},
   "outputs": [],
   "source": [
    "fastf1.Cache.enable_cache('./f1_cache')\n",
    "fastf1.Cache.get_cache_info()"
   ]
  },
  {
   "cell_type": "code",
   "execution_count": null,
   "id": "a124f3c1",
   "metadata": {},
   "outputs": [],
   "source": [
    "team_names = ['McLaren', 'Ferrari', 'Mercedes', 'Red Bull Racing', 'Williams',\n",
    "              'Kick Sauber', 'Racing Bulls', 'Aston Martin', 'Haas F1 Team', 'Alpine']"
   ]
  },
  {
   "cell_type": "code",
   "execution_count": null,
   "id": "73e5b27f",
   "metadata": {},
   "outputs": [],
   "source": [
    "def mean_pit_time(session,team_names=team_names):\n",
    "    pit_times = []\n",
    "    for team in team_names:\n",
    "        df = pd.DataFrame(session.laps.pick_teams(team))\n",
    "        df['PitTotalTime'] = df.PitOutTime.shift(-1) - df.PitInTime\n",
    "        df['PitTotalTime'] = df['PitTotalTime'].dt.total_seconds()\n",
    "        pit_times.append(round(df.PitTotalTime.mean(),3))\n",
    "    return pit_times"
   ]
  },
  {
   "cell_type": "code",
   "execution_count": null,
   "id": "70ef8020",
   "metadata": {},
   "outputs": [],
   "source": [
    "pit_perf = {}\n",
    "for i in range(1,13):\n",
    "    race = fastf1.get_session(2025,i,'R')\n",
    "    race.load(laps=True,telemetry=False,weather=False,messages=False)\n",
    "    if i == 12:\n",
    "        pit_perf[i] = np.float64(28.991)\n",
    "    else:\n",
    "        pit_perf[i] = mean_pit_time(race)"
   ]
  },
  {
   "cell_type": "code",
   "execution_count": null,
   "id": "cc85e6cb",
   "metadata": {},
   "outputs": [],
   "source": [
    "pits_df = pd.DataFrame(pit_perf).T\n",
    "team_names = ['McLaren', 'Ferrari', 'Mercedes', 'RedBull\\nRacing', 'Williams',\n",
    "              'Kick\\nSauber', 'Racing\\nBulls', 'Aston\\nMartin', 'Haas\\nF1 Team', 'Alpine']\n",
    "pits_df.columns = team_names"
   ]
  },
  {
   "cell_type": "code",
   "execution_count": null,
   "id": "25ca6a13",
   "metadata": {},
   "outputs": [],
   "source": [
    "rel_pits_df = round(pits_df.div(pits_df.min(axis=1),axis=0),3)"
   ]
  },
  {
   "cell_type": "code",
   "execution_count": null,
   "id": "b6119ef6",
   "metadata": {},
   "outputs": [],
   "source": [
    "driver_names = ['NOR','LEC','RUS','VER','ALB',\n",
    "                'HUL','LAW','ALO','OCO','GAS']"
   ]
  },
  {
   "cell_type": "code",
   "execution_count": null,
   "id": "40e1265d",
   "metadata": {},
   "outputs": [],
   "source": [
    "driver_palette = plotting.get_driver_color_mapping(session=race)\n",
    "team_palette = {}\n",
    "for i,j in zip(team_names,driver_names):\n",
    "    team_palette[i] = driver_palette[j]"
   ]
  },
  {
   "cell_type": "code",
   "execution_count": null,
   "id": "f0dbc758",
   "metadata": {},
   "outputs": [],
   "source": [
    "rel_pits_df.columns = team_names"
   ]
  },
  {
   "cell_type": "code",
   "execution_count": null,
   "id": "3b1872bb",
   "metadata": {},
   "outputs": [],
   "source": [
    "scores_df = 0.8*rel_pits_df.median() + 0.2*(rel_pits_df.quantile(0.75) - rel_pits_df.quantile(0.25))\n",
    "scores_df.sort_values(inplace=True)"
   ]
  },
  {
   "cell_type": "code",
   "execution_count": null,
   "id": "445eefc3",
   "metadata": {},
   "outputs": [],
   "source": [
    "fig,ax = plt.subplots(figsize=(10,10))\n",
    "\n",
    "sns.boxplot(data=rel_pits_df,orient='h',width=0.8,linecolor='w',linewidth=1,fliersize=0,\n",
    "            order=scores_df.index,palette=team_palette,ax=ax,boxprops=dict(alpha=0.2))\n",
    "sns.stripplot(data=rel_pits_df,orient='h',linewidth=1,size=10,edgecolor='#666666',\n",
    "              order=scores_df.index,palette=team_palette,ax=ax)\n",
    "\n",
    "ax.set_xlim(left=0.99,right=1.35)\n",
    "ax.set_xlabel('Gap (%)')\n",
    "ax.set_xticks([i/100 for i in range(100,140,5)])\n",
    "ax.set_xticklabels(['Least\\nTime Spent']+[str(i) for i in range(5,40,5)])\n",
    "ax.set_title('Time Spent in Pit Lane (Relative)')\n",
    "ax.axvline(1.0, color='white', linestyle='--', linewidth=1)\n",
    "ax.grid(axis='x', linestyle='--')\n",
    "\n",
    "plt.show()"
   ]
  },
  {
   "cell_type": "code",
   "execution_count": null,
   "id": "494aeb9a",
   "metadata": {},
   "outputs": [],
   "source": [
    "fig.savefig('pitstop_plot.png',dpi=300, bbox_inches='tight')"
   ]
  }
 ],
 "metadata": {
  "kernelspec": {
   "display_name": ".venv",
   "language": "python",
   "name": "python3"
  },
  "language_info": {
   "codemirror_mode": {
    "name": "ipython",
    "version": 3
   },
   "file_extension": ".py",
   "mimetype": "text/x-python",
   "name": "python",
   "nbconvert_exporter": "python",
   "pygments_lexer": "ipython3",
   "version": "3.13.5"
  }
 },
 "nbformat": 4,
 "nbformat_minor": 5
}

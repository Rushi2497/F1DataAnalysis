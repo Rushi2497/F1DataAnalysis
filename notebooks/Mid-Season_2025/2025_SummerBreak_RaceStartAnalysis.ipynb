{
 "cells": [
  {
   "cell_type": "code",
   "execution_count": null,
   "id": "0c91ed23",
   "metadata": {},
   "outputs": [],
   "source": [
    "import numpy as np\n",
    "import pandas as pd\n",
    "import matplotlib.pyplot as plt\n",
    "import seaborn as sns\n",
    "import fastf1\n",
    "from src.utils import get_acc_df\n",
    "from src.plotset import setup_plot\n",
    "from fastf1 import plotting\n",
    "\n",
    "setup_plot()"
   ]
  },
  {
   "cell_type": "code",
   "execution_count": null,
   "id": "faec77e1",
   "metadata": {},
   "outputs": [],
   "source": [
    "fastf1.Cache.enable_cache('./f1_cache')\n",
    "fastf1.Cache.get_cache_info()"
   ]
  },
  {
   "cell_type": "code",
   "execution_count": null,
   "id": "8ce457e1",
   "metadata": {},
   "outputs": [],
   "source": [
    "df100, df200 = pd.DataFrame(), pd.DataFrame()\n",
    "for i in range(1,15):\n",
    "    session = fastf1.get_session(2025,i,'Race')\n",
    "    session.load(laps=True,telemetry=True,messages=False,weather=False)\n",
    "    if i == 13:\n",
    "        continue\n",
    "    acc_df = get_acc_df(session)\n",
    "    df100 = pd.concat([df100,acc_df['0-100'].rename(str(i))],axis=1)\n",
    "    df200 = pd.concat([df200,acc_df['100-200'].rename(str(i))],axis=1)"
   ]
  },
  {
   "cell_type": "code",
   "execution_count": null,
   "id": "d9f4e0c5",
   "metadata": {},
   "outputs": [],
   "source": [
    "start_df = df100.T.copy()"
   ]
  },
  {
   "cell_type": "code",
   "execution_count": null,
   "id": "73dcd603",
   "metadata": {},
   "outputs": [],
   "source": [
    "start_df.loc[['7','9','14'],'TSU'] = np.nan\n",
    "start_df.loc[['1','2','10'],'LAW'] = np.nan\n",
    "start_df.loc[['1','12'],'BEA'] = np.nan\n",
    "start_df.loc[['6','10'],'GAS'] = np.nan\n",
    "start_df.loc['12','RUS'] = np.nan\n",
    "start_df.loc['12','LEC'] = np.nan\n",
    "start_df.loc['12','BOR'] = np.nan\n",
    "start_df.loc['12','HAD'] = np.nan"
   ]
  },
  {
   "cell_type": "code",
   "execution_count": null,
   "id": "41ca2fb0",
   "metadata": {},
   "outputs": [],
   "source": [
    "rel_start_df = round(start_df.div(start_df.min(axis=1),axis=0),3)"
   ]
  },
  {
   "cell_type": "code",
   "execution_count": null,
   "id": "aa7b014e",
   "metadata": {},
   "outputs": [],
   "source": [
    "order = rel_start_df.median(axis=0).sort_values().index"
   ]
  },
  {
   "cell_type": "code",
   "execution_count": null,
   "id": "9b95bb53",
   "metadata": {},
   "outputs": [],
   "source": [
    "dcm = plotting.get_driver_color_mapping(session)\n",
    "dcm['DOO'] = '#ff87bc'"
   ]
  },
  {
   "cell_type": "code",
   "execution_count": null,
   "id": "3e813f8c",
   "metadata": {},
   "outputs": [],
   "source": [
    "setup_plot(xyticksize=20,axeslabel=20)\n",
    "\n",
    "fig, ax = plt.subplots(figsize=(15,15))\n",
    "\n",
    "sns.boxplot(data=rel_start_df, orient='h', order=order, fliersize=0, palette=dcm,\n",
    "            linecolor='w', boxprops=dict(alpha=0.2),ax=ax)\n",
    "sns.stripplot(data=rel_start_df, orient='h', order=order, size=10, palette=dcm, ax=ax)\n",
    "\n",
    "ax.set_xlim(left=0.99,right=1.35)\n",
    "ax.set_xlabel('Gap (%)')\n",
    "ax.set_xticks([i/100 for i in range(100,140,5)])\n",
    "ax.set_xticklabels(['Fastest']+[str(i) for i in range(5,40,5)])\n",
    "ax.set_title('Race Start 0-100 Times (Relative)')\n",
    "ax.axvline(1.0, color='white', linestyle='--', linewidth=1)\n",
    "ax.grid(axis='x', linestyle='--')"
   ]
  },
  {
   "cell_type": "code",
   "execution_count": null,
   "id": "e47a8d08",
   "metadata": {},
   "outputs": [],
   "source": [
    "field_avg = rel_start_df.median().mean()\n",
    "field_avg"
   ]
  },
  {
   "cell_type": "code",
   "execution_count": null,
   "id": "da8455de",
   "metadata": {},
   "outputs": [],
   "source": [
    "mean_dev = (rel_start_df.median() - field_avg).sort_values()*100\n",
    "mean_dev"
   ]
  },
  {
   "cell_type": "code",
   "execution_count": null,
   "id": "4ea009a9",
   "metadata": {},
   "outputs": [],
   "source": [
    "setup_plot(xyticksize=24,figtitle=30)\n",
    "\n",
    "# Define the reference point of fastest driver\n",
    "fastest_line = round((1 - field_avg)*100,2)  # percent relative to field avg\n",
    "\n",
    "fig, ax = plt.subplots(figsize=(16, 18))\n",
    "bars = plt.barh(mean_dev.index, mean_dev.values, color=[dcm[driver] for driver in mean_dev.index])\n",
    "\n",
    "# Reference lines\n",
    "ax.axvline(x=0, color='w', linewidth=4, linestyle='-')  # Field avg\n",
    "# ax.axvline(x=fastest_line, color='w', linestyle='--', linewidth=2)\n",
    "# ax.text(fastest_line, -1.5, \"Fastest\\nStart\", color='w', ha='center', fontsize=20)\n",
    "\n",
    "# Add value labels\n",
    "for driver, value in mean_dev.items():\n",
    "    color = dcm[driver]\n",
    "    ax.text(\n",
    "        value + (0.2 if value >= 0 else -0.2),\n",
    "        mean_dev.index.get_loc(driver),\n",
    "        f\"{value:+.2f}%\",\n",
    "        va='center',\n",
    "        ha='left' if value >= 0 else 'right',\n",
    "        fontsize=20,\n",
    "        fontweight='bold',\n",
    "        color=color\n",
    "    )\n",
    "\n",
    "# Titles and labels\n",
    "ax.set_xlabel(\"\")\n",
    "# ax.set_title(\"Race Start Performance (-ve = Faster) wrt to Field Avg\",pad=20)\n",
    "ax.set_title(\"\")\n",
    "ax.set_xlim(-7,7)\n",
    "ax.set_xticks([])\n",
    "ax.invert_yaxis()\n",
    "ax.set_ymargin(0.01)\n",
    "ax.grid(axis='x', linestyle='--', alpha=0.3)\n",
    "\n",
    "plt.show()\n"
   ]
  },
  {
   "cell_type": "code",
   "execution_count": null,
   "id": "4288e1d1",
   "metadata": {},
   "outputs": [],
   "source": [
    "fig.savefig('./media/Post4/race_start.png',dpi=300, bbox_inches='tight')"
   ]
  },
  {
   "cell_type": "code",
   "execution_count": null,
   "id": "55b55a10",
   "metadata": {},
   "outputs": [],
   "source": [
    "best_starts_df = (rel_start_df == 1).sum(axis=0)\n",
    "best_starts_df[best_starts_df > 0].sort_values(ascending=False)"
   ]
  }
 ],
 "metadata": {
  "kernelspec": {
   "display_name": ".venv",
   "language": "python",
   "name": "python3"
  },
  "language_info": {
   "codemirror_mode": {
    "name": "ipython",
    "version": 3
   },
   "file_extension": ".py",
   "mimetype": "text/x-python",
   "name": "python",
   "nbconvert_exporter": "python",
   "pygments_lexer": "ipython3",
   "version": "3.13.5"
  }
 },
 "nbformat": 4,
 "nbformat_minor": 5
}

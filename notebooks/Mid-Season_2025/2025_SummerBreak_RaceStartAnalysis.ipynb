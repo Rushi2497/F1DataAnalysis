{
 "cells": [
  {
   "cell_type": "code",
   "execution_count": null,
   "id": "0c91ed23",
   "metadata": {},
   "outputs": [],
   "source": [
    "import numpy as np\n",
    "import pandas as pd\n",
    "import matplotlib.pyplot as plt\n",
    "import seaborn as sns\n",
    "import fastf1\n",
    "from src.utils import get_acc_df\n",
    "from src.plotset import setup_plot\n",
    "from fastf1 import plotting\n",
    "\n",
    "setup_plot()"
   ]
  },
  {
   "cell_type": "code",
   "execution_count": null,
   "id": "faec77e1",
   "metadata": {},
   "outputs": [],
   "source": [
    "fastf1.Cache.enable_cache('./f1_cache')\n",
    "fastf1.Cache.get_cache_info()"
   ]
  },
  {
   "cell_type": "code",
   "execution_count": null,
   "id": "8ce457e1",
   "metadata": {},
   "outputs": [],
   "source": [
    "df100, df200 = pd.DataFrame(), pd.DataFrame()\n",
    "for i in range(1,15):\n",
    "    session = fastf1.get_session(2025,i,'Race')\n",
    "    session.load(laps=True,telemetry=True,messages=False,weather=False)\n",
    "    if i == 13:\n",
    "        continue\n",
    "    acc_df = get_acc_df(session)\n",
    "    df100 = pd.concat([df100,acc_df['0-100'].rename(str(i))],axis=1)\n",
    "    df200 = pd.concat([df200,acc_df['100-200'].rename(str(i))],axis=1)"
   ]
  },
  {
   "cell_type": "code",
   "execution_count": null,
   "id": "103760a9",
   "metadata": {},
   "outputs": [],
   "source": [
    "session = fastf1.get_session(2025,12,'R')\n",
    "session.load(laps=True,telemetry=True,messages=False,weather=False)"
   ]
  },
  {
   "cell_type": "code",
   "execution_count": null,
   "id": "d9f4e0c5",
   "metadata": {},
   "outputs": [],
   "source": [
    "start_df = df100.T.copy()"
   ]
  },
  {
   "cell_type": "code",
   "execution_count": null,
   "id": "73dcd603",
   "metadata": {},
   "outputs": [],
   "source": [
    "start_df.loc[['7','9','14'],'TSU'] = np.nan\n",
    "start_df.loc[['1','2','10'],'LAW'] = np.nan\n",
    "start_df.loc[['1','12'],'BEA'] = np.nan\n",
    "start_df.loc[['6','10'],'GAS'] = np.nan\n",
    "start_df.loc['12','RUS'] = np.nan\n",
    "start_df.loc['12','LEC'] = np.nan\n",
    "start_df.loc['12','BOR'] = np.nan\n",
    "start_df.loc['12','HAD'] = np.nan"
   ]
  },
  {
   "cell_type": "code",
   "execution_count": null,
   "id": "41ca2fb0",
   "metadata": {},
   "outputs": [],
   "source": [
    "rel_start_df = round(start_df.div(start_df.min(axis=1),axis=0),3)"
   ]
  },
  {
   "cell_type": "code",
   "execution_count": null,
   "id": "aa7b014e",
   "metadata": {},
   "outputs": [],
   "source": [
    "order = rel_start_df.median(axis=0).sort_values().index"
   ]
  },
  {
   "cell_type": "code",
   "execution_count": null,
   "id": "3e813f8c",
   "metadata": {},
   "outputs": [],
   "source": [
    "fig, ax = plt.subplots(figsize=(15,15))\n",
    "\n",
    "sns.boxplot(data=rel_start_df,orient='h',order=order)\n",
    "\n",
    "ax.set_xlim(0.99,1.35)"
   ]
  },
  {
   "cell_type": "code",
   "execution_count": null,
   "id": "e47a8d08",
   "metadata": {},
   "outputs": [],
   "source": []
  }
 ],
 "metadata": {
  "kernelspec": {
   "display_name": ".venv",
   "language": "python",
   "name": "python3"
  },
  "language_info": {
   "codemirror_mode": {
    "name": "ipython",
    "version": 3
   },
   "file_extension": ".py",
   "mimetype": "text/x-python",
   "name": "python",
   "nbconvert_exporter": "python",
   "pygments_lexer": "ipython3",
   "version": "3.13.5"
  }
 },
 "nbformat": 4,
 "nbformat_minor": 5
}

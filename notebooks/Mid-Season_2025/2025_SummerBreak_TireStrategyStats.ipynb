{
 "cells": [
  {
   "cell_type": "code",
   "execution_count": null,
   "id": "0c91ed23",
   "metadata": {},
   "outputs": [],
   "source": [
    "import numpy as np\n",
    "import pandas as pd\n",
    "import fastf1\n",
    "from collections import defaultdict, Counter"
   ]
  },
  {
   "cell_type": "code",
   "execution_count": null,
   "id": "faec77e1",
   "metadata": {},
   "outputs": [],
   "source": [
    "fastf1.Cache.enable_cache('./f1_cache')\n",
    "fastf1.Cache.get_cache_info()"
   ]
  },
  {
   "cell_type": "code",
   "execution_count": null,
   "id": "eb530223",
   "metadata": {},
   "outputs": [],
   "source": [
    "# Dictionary to hold strategy -> total points\n",
    "strategy_points = defaultdict(int)\n",
    "\n",
    "# Counter for compound usage across all races\n",
    "compound_counter = Counter()\n",
    "\n",
    "# Counter for strategy types (1-stop, 2-stop, etc.)\n",
    "strategy_type_counter = Counter()"
   ]
  },
  {
   "cell_type": "code",
   "execution_count": null,
   "id": "1288db68",
   "metadata": {},
   "outputs": [],
   "source": [
    "# Loop over all completed races\n",
    "for rnd in range(1,15):  # adjust if more races are done\n",
    "    session = fastf1.get_session(2025, rnd, 'R')\n",
    "    session.load(laps=True, telemetry=False, weather=False)\n",
    "\n",
    "    # Results table with driver points + status\n",
    "    results = session.results.set_index('Abbreviation')\n",
    "\n",
    "    # Go through all drivers\n",
    "    for drv in session.drivers:\n",
    "        drv_abbr = session.get_driver(drv)['Abbreviation']\n",
    "        if rnd==10:\n",
    "            if drv == '14':\n",
    "                drv_laps = session.laps.pick_drivers(drv_abbr).iloc[:-4]\n",
    "            else:\n",
    "                drv_laps = session.laps.pick_drivers(drv_abbr).iloc[:-3]\n",
    "        else:\n",
    "            drv_laps = session.laps.pick_drivers(drv_abbr)\n",
    "            if rnd==6:\n",
    "                if drv_laps['Compound'].nunique() == 3:\n",
    "                    drv_laps['Compound'] = drv_laps['Compound'].apply(lambda x: np.nan if x == 'nan' else x)\n",
    "                    drv_laps['Stint'].bfill(inplace=True)\n",
    "                    drv_laps['Compound'].bfill(inplace=True)\n",
    "                else:\n",
    "                    drv_laps['Stint'].fillna(0)\n",
    "                    drv_laps['Compound'] = drv_laps['Compound'].apply(lambda x: 'MEDIUM' if x == 'nan' else x)\n",
    "            if rnd == 13:\n",
    "                drv_laps['Compound'] = drv_laps['Compound'].apply(lambda x: 'MEDIUM' if x == 'None' else x)\n",
    "\n",
    "        if drv_laps.empty:\n",
    "            continue\n",
    "\n",
    "        # Skip drivers who retired / did not finish\n",
    "        if drv_abbr in results.index:\n",
    "            status = results.loc[drv_abbr, 'Status']\n",
    "            if isinstance(status, str) and ('Retired' in status or 'DNF' in status or 'Did not start' in status or 'DNS' in status):\n",
    "                continue\n",
    "        else:\n",
    "            continue\n",
    "\n",
    "        # Count compounds (for global pie chart)\n",
    "        compound_counter.update(drv_laps['Compound'])\n",
    "\n",
    "        # Get stint info -> strategy string (SMH etc.)\n",
    "        stints = drv_laps[['Stint', 'Compound']].drop_duplicates(subset=['Stint'])\n",
    "        strategy_str = ''.join(stints['Compound'].str[0])  # e.g. SOFT->S\n",
    "\n",
    "        # Add to strategy type counter (#stops = len(stints)-1)\n",
    "        strategy_type = f\"{len(stints)-1}-stop\"\n",
    "        strategy_type_counter[strategy_type] += 1\n",
    "\n",
    "        # Assign points from results table\n",
    "        points = results.loc[drv_abbr, 'Points']\n",
    "        strategy_points[strategy_str] += points"
   ]
  },
  {
   "cell_type": "code",
   "execution_count": null,
   "id": "a8ea279d",
   "metadata": {},
   "outputs": [],
   "source": [
    "# ---- Final outputs ----\n",
    "\n",
    "# Strategy points table\n",
    "strategy_points_table = pd.DataFrame.from_dict(strategy_points, orient='index', columns=['Points'])\n",
    "strategy_points_table = strategy_points_table.sort_values(by='Points', ascending=False)\n",
    "\n",
    "# Compound usage counts\n",
    "compound_usage = pd.Series(compound_counter).sort_values(ascending=False)\n",
    "\n",
    "# Strategy type counts\n",
    "strategy_type_usage = pd.Series(strategy_type_counter).sort_index()"
   ]
  },
  {
   "cell_type": "code",
   "execution_count": null,
   "id": "3e32123b",
   "metadata": {},
   "outputs": [],
   "source": [
    "strategy_points_table"
   ]
  },
  {
   "cell_type": "code",
   "execution_count": null,
   "id": "ff892aa7",
   "metadata": {},
   "outputs": [],
   "source": [
    "compound_usage/compound_usage.sum()"
   ]
  },
  {
   "cell_type": "code",
   "execution_count": null,
   "id": "c4c6d831",
   "metadata": {},
   "outputs": [],
   "source": []
  },
  {
   "cell_type": "code",
   "execution_count": null,
   "id": "5bb62ce6",
   "metadata": {},
   "outputs": [],
   "source": [
    "strategy_type_usage"
   ]
  }
 ],
 "metadata": {
  "kernelspec": {
   "display_name": ".venv",
   "language": "python",
   "name": "python3"
  },
  "language_info": {
   "codemirror_mode": {
    "name": "ipython",
    "version": 3
   },
   "file_extension": ".py",
   "mimetype": "text/x-python",
   "name": "python",
   "nbconvert_exporter": "python",
   "pygments_lexer": "ipython3",
   "version": "3.13.5"
  }
 },
 "nbformat": 4,
 "nbformat_minor": 5
}

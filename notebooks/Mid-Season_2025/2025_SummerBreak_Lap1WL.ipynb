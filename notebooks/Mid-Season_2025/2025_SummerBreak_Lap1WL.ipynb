{
 "cells": [
  {
   "cell_type": "code",
   "execution_count": null,
   "id": "0c91ed23",
   "metadata": {},
   "outputs": [],
   "source": [
    "import numpy as np\n",
    "import pandas as pd\n",
    "import matplotlib.pyplot as plt\n",
    "import seaborn as sns\n",
    "import fastf1\n",
    "from src.plotset import setup_plot\n",
    "from fastf1 import plotting\n",
    "\n",
    "setup_plot()"
   ]
  },
  {
   "cell_type": "code",
   "execution_count": null,
   "id": "faec77e1",
   "metadata": {},
   "outputs": [],
   "source": [
    "fastf1.Cache.enable_cache('./f1_cache')\n",
    "fastf1.Cache.get_cache_info()"
   ]
  },
  {
   "cell_type": "markdown",
   "id": "006e706a",
   "metadata": {},
   "source": [
    "### LAP 1 POSTION DELTA"
   ]
  },
  {
   "cell_type": "code",
   "execution_count": null,
   "id": "2b8b68d4",
   "metadata": {},
   "outputs": [],
   "source": [
    "lap1df = pd.DataFrame()\n",
    "\n",
    "for i in range(1,15):\n",
    "\n",
    "    session = fastf1.get_session(2025,i,'R')\n",
    "    session.load(laps=True,telemetry=False,weather=False,messages=False)\n",
    "\n",
    "    left = session.results[['Abbreviation','GridPosition']].rename({'Abbreviation':'Driver'},axis=1)\n",
    "    right = session.laps.pick_laps(1)[['Driver','Position']]\n",
    "    temp = pd.merge(left=left,right=right,on='Driver',how='left')\n",
    "    temp['lap1gains'] = temp.GridPosition - temp.Position\n",
    "    temp = temp.set_index('Driver')[['lap1gains']].set_axis([str(i)],axis=1)\n",
    "\n",
    "    lap1df = pd.concat([lap1df,temp],axis=1)"
   ]
  },
  {
   "cell_type": "code",
   "execution_count": null,
   "id": "20f05553",
   "metadata": {},
   "outputs": [],
   "source": [
    "lap1df.sum(axis=1).sort_values(ascending=False)"
   ]
  },
  {
   "cell_type": "markdown",
   "id": "3cd671bf",
   "metadata": {},
   "source": [
    "### Quali --> RACE POSTION DELTA"
   ]
  },
  {
   "cell_type": "code",
   "execution_count": null,
   "id": "77702dc7",
   "metadata": {},
   "outputs": [],
   "source": [
    "lap1df = pd.DataFrame()\n",
    "\n",
    "for i in range(1,15):\n",
    "\n",
    "    session = fastf1.get_session(2025,i,'R')\n",
    "    session.load(laps=True,telemetry=False,weather=False,messages=False)\n",
    "\n",
    "    temp = session.results[['Abbreviation','GridPosition','ClassifiedPosition']].rename({'Abbreviation':'Driver'},axis=1)\n",
    "    temp['lap1gains'] = temp.GridPosition - temp.ClassifiedPosition.apply(lambda x: '20' if (x == 'R' or x == 'D' or x == 'W') else x).astype('int')\n",
    "    temp = temp.set_index('Driver')[['lap1gains']].set_axis([str(i)],axis=1)\n",
    "\n",
    "    lap1df = pd.concat([lap1df,temp],axis=1)"
   ]
  },
  {
   "cell_type": "code",
   "execution_count": null,
   "id": "86931eb3",
   "metadata": {},
   "outputs": [],
   "source": [
    "lap1df.sum(axis=1).sort_values(ascending=False)"
   ]
  }
 ],
 "metadata": {
  "kernelspec": {
   "display_name": ".venv",
   "language": "python",
   "name": "python3"
  },
  "language_info": {
   "codemirror_mode": {
    "name": "ipython",
    "version": 3
   },
   "file_extension": ".py",
   "mimetype": "text/x-python",
   "name": "python",
   "nbconvert_exporter": "python",
   "pygments_lexer": "ipython3",
   "version": "3.13.5"
  }
 },
 "nbformat": 4,
 "nbformat_minor": 5
}

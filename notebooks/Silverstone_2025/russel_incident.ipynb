{
 "cells": [
  {
   "cell_type": "code",
   "execution_count": null,
   "id": "56a42a50",
   "metadata": {},
   "outputs": [],
   "source": [
    "import numpy as np\n",
    "import matplotlib.pyplot as plt\n",
    "import fastf1\n",
    "from fastf1 import plotting\n",
    "from src.utils import get_driver_telemetry_for_laps\n",
    "\n",
    "# Enable FastF1's plotting style\n",
    "plotting.setup_mpl(color_scheme='fastf1')"
   ]
  },
  {
   "cell_type": "code",
   "execution_count": null,
   "id": "5102d4f2",
   "metadata": {},
   "outputs": [],
   "source": [
    "fastf1.Cache.enable_cache('./f1_cache')\n",
    "fastf1.Cache.get_cache_info()"
   ]
  },
  {
   "cell_type": "code",
   "execution_count": null,
   "id": "ee35461e",
   "metadata": {},
   "outputs": [],
   "source": [
    "race = fastf1.get_session(2025,'Canada','Race')"
   ]
  },
  {
   "cell_type": "code",
   "execution_count": null,
   "id": "93454043",
   "metadata": {},
   "outputs": [],
   "source": [
    "race.load()"
   ]
  },
  {
   "cell_type": "code",
   "execution_count": null,
   "id": "c7150a52",
   "metadata": {},
   "outputs": [],
   "source": [
    "# race.get_circuit_info().corners"
   ]
  },
  {
   "cell_type": "code",
   "execution_count": null,
   "id": "e69b16b0",
   "metadata": {},
   "outputs": [],
   "source": [
    "rus_car_tel = get_driver_telemetry_for_laps(race,'RUS',68,tel_type='car').add_distance()\n",
    "rus_car_tel['absolute_time'] = rus_car_tel.SessionTime.apply(lambda x: x.total_seconds()) - race.session_start_time.total_seconds()\n",
    "rus_subset_tel = rus_car_tel[(rus_car_tel.absolute_time < 5238) & (rus_car_tel.absolute_time > 5228)].copy()"
   ]
  },
  {
   "cell_type": "code",
   "execution_count": null,
   "id": "aa660481",
   "metadata": {},
   "outputs": [],
   "source": [
    "# rus_subset_tel.loc[347,'Brake'] = np.True_\n",
    "# rus_subset_tel.loc[354,'Brake'] = np.True_"
   ]
  },
  {
   "cell_type": "code",
   "execution_count": null,
   "id": "e07c1230",
   "metadata": {},
   "outputs": [],
   "source": [
    "ver_car_tel = get_driver_telemetry_for_laps(race,'VER',68,tel_type='car').add_distance()\n",
    "ver_car_tel['absolute_time'] = ver_car_tel.SessionTime.apply(lambda x: x.total_seconds()) - race.session_start_time.total_seconds()\n",
    "ver_subset_tel = ver_car_tel[(ver_car_tel.absolute_time < 5238) & (ver_car_tel.absolute_time > 5228)].copy()"
   ]
  },
  {
   "cell_type": "code",
   "execution_count": null,
   "id": "d72100ad",
   "metadata": {},
   "outputs": [],
   "source": [
    "# ver_subset_tel.loc[337,'Brake'] = np.True_\n",
    "# ver_subset_tel.loc[341,'Brake'] = np.True_\n",
    "# ver_subset_tel.loc[350,'Brake'] = np.True_"
   ]
  },
  {
   "cell_type": "code",
   "execution_count": null,
   "id": "20292aa6",
   "metadata": {},
   "outputs": [],
   "source": [
    "# Get team color\n",
    "merc_color = plotting.get_team_color('Mercedes',race)\n",
    "redbull_color = plotting.get_team_color('RedBull',race)\n",
    "\n",
    "fig, ax1 = plt.subplots(figsize=(12, 6))\n",
    "\n",
    "# Plot Speed on primary y-axis\n",
    "ax1.plot(rus_subset_tel['absolute_time'], rus_subset_tel['Speed'], color=merc_color, lw=3, label='RUS Speed')\n",
    "ax1.plot(ver_subset_tel['absolute_time'], ver_subset_tel['Speed'], color=redbull_color, lw=3, label='VER Speed')\n",
    "\n",
    "# Plot h/v lines on the figure\n",
    "# ax1.axvline(x=5229.38, ymin=0, ymax=1, color='cyan', linestyle='--', linewidth=0.5)\n",
    "# ax1.axvline(x=5230, ymin=0, ymax=1, color='cyan', linestyle='--', linewidth=0.5)\n",
    "\n",
    "# ax1.axhline(y=142, xmin=0.09, xmax=0.35, color='cyan', linestyle='--', linewidth=0.5)\n",
    "# ax1.axhline(y=82, xmin=0.2, xmax=0.35, color='cyan', linestyle='--', linewidth=0.5)\n",
    "\n",
    "# Create secondary y-axis\n",
    "ax2 = ax1.twinx()\n",
    "\n",
    "# Plot Brake on secondary y-axis\n",
    "# ax2.bar(rus_subset_tel['absolute_time'],rus_subset_tel['Brake']*1,width=0.1,color='green',alpha=1,label='RUS Brake')\n",
    "# ax2.bar(ver_subset_tel['absolute_time'],ver_subset_tel['Brake']*1,width=0.1,align='edge',color='w',alpha=1, label='VER Brake')\n",
    "\n",
    "ax2.plot(rus_subset_tel['absolute_time'],rus_subset_tel['Brake']*1,color=merc_color,alpha=1)\n",
    "ax2.plot(ver_subset_tel['absolute_time'],ver_subset_tel['Brake']*1,color='w',alpha=1)\n",
    "\n",
    "# Add shaded area under each line\n",
    "ax2.fill_between(rus_subset_tel['absolute_time'], rus_subset_tel['Brake'], color=merc_color, alpha=0.4, label='RUS Brake')\n",
    "ax2.fill_between(ver_subset_tel['absolute_time'], ver_subset_tel['Brake'], color='w', alpha=0.2, label='VER Brake')\n",
    "\n",
    "# Add ticks, labels and limits\n",
    "ax1.set_ylabel('Speed (km/h)',fontsize=16)\n",
    "ax1.set_xlabel('Relative Session Time (s)',fontsize=16)\n",
    "ax1.set_xticks(range(5228,5238))\n",
    "ax1.set_xticklabels(labels=['1h 27m 08s']+['+'+str(i) for i in range(1,10)],fontsize=14)\n",
    "ax1.set_yticks(range(0,200,25))\n",
    "ax1.set_yticklabels(labels=['']+[str(i) for i in range(25,200,25)],fontsize=14)\n",
    "ax1.set_xlim([5228,5237])\n",
    "ax1.set_ylim([0,175])\n",
    "\n",
    "ax2.set_axis_off()\n",
    "ax2.set_ylim([0,5])\n",
    "\n",
    "# Add Legends\n",
    "lines_1, labels_1 = ax1.get_legend_handles_labels()\n",
    "lines_2, labels_2 = ax2.get_legend_handles_labels()\n",
    "legend1 = ax1.legend(lines_1, labels_1, title='Speed (kmph)',loc=(0.63,0.06),fancybox=True,facecolor=\"#000000\",edgecolor='w',fontsize=14)\n",
    "legend2 = ax2.legend(lines_2, labels_2, title='Brakes (ON/OFF)',loc=(0.8,0.06),fancybox=True,facecolor=\"#000000\",edgecolor='w',fontsize=14)\n",
    "\n",
    "legend1.get_title().set_fontsize(16)\n",
    "legend2.get_title().set_fontsize(16)\n",
    "\n",
    "# Title\n",
    "ax1.set_title(\"Canada '25, Lap 68: Under Safety Car\",fontsize=24)\n",
    "\n",
    "# Show Plot\n",
    "ax1.grid(color=\"#333333\")\n",
    "plt.tight_layout()\n",
    "plt.show()"
   ]
  },
  {
   "cell_type": "code",
   "execution_count": null,
   "id": "efe5075f",
   "metadata": {},
   "outputs": [],
   "source": [
    "df = rus_subset_tel[['Speed','absolute_time']].copy()"
   ]
  },
  {
   "cell_type": "code",
   "execution_count": null,
   "id": "0e4bfab6",
   "metadata": {},
   "outputs": [],
   "source": [
    "df['long_g_force'] = df.diff().apply(lambda x: (x['Speed']*5/18)/(x['absolute_time']*9.8),axis=1)"
   ]
  },
  {
   "cell_type": "code",
   "execution_count": null,
   "id": "b49b23eb",
   "metadata": {},
   "outputs": [],
   "source": [
    "df.long_g_force.min()"
   ]
  }
 ],
 "metadata": {
  "kernelspec": {
   "display_name": ".venv",
   "language": "python",
   "name": "python3"
  },
  "language_info": {
   "codemirror_mode": {
    "name": "ipython",
    "version": 3
   },
   "file_extension": ".py",
   "mimetype": "text/x-python",
   "name": "python",
   "nbconvert_exporter": "python",
   "pygments_lexer": "ipython3",
   "version": "3.13.5"
  }
 },
 "nbformat": 4,
 "nbformat_minor": 5
}

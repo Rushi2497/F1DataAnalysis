{
 "cells": [
  {
   "cell_type": "code",
   "execution_count": null,
   "id": "0c91ed23",
   "metadata": {},
   "outputs": [],
   "source": [
    "import numpy as np\n",
    "import pandas as pd\n",
    "import fastf1\n",
    "from fastf1 import utils\n",
    "from collections import defaultdict, Counter\n",
    "import statsmodels.api as sm\n",
    "from src.utils import get_acc_df, fuel_correction, compare_car_speeds, compute_track_dominance_multi\n",
    "from src.plotset import setup_plot, save_fig, plot_track_dominance\n",
    "\n",
    "from fastf1 import plotting\n",
    "import matplotlib.pyplot as plt\n",
    "import matplotlib as mpl\n",
    "from matplotlib.animation import FuncAnimation\n",
    "from IPython.display import HTML\n",
    "from matplotlib.collections import LineCollection\n",
    "import seaborn as sns\n",
    "\n",
    "setup_plot()"
   ]
  },
  {
   "cell_type": "code",
   "execution_count": null,
   "id": "faec77e1",
   "metadata": {},
   "outputs": [],
   "source": [
    "fastf1.Cache.enable_cache('./f1_cache')\n",
    "fastf1.Cache.get_cache_info()"
   ]
  },
  {
   "cell_type": "code",
   "execution_count": null,
   "id": "b2737075",
   "metadata": {},
   "outputs": [],
   "source": [
    "session = fastf1.get_session(2025,16,'Q')\n",
    "session.load()"
   ]
  },
  {
   "cell_type": "code",
   "execution_count": null,
   "id": "8c3b8ed5",
   "metadata": {},
   "outputs": [],
   "source": [
    "corners = session.get_circuit_info().corners\n",
    "rotation = session.get_circuit_info().rotation"
   ]
  },
  {
   "cell_type": "code",
   "execution_count": null,
   "metadata": {},
   "outputs": [],
   "source": [
    "ref_lap = session.laps.pick_drivers('VER').pick_fastest().get_telemetry().copy()\n",
    "comp_lap = session.laps.pick_drivers('NOR').pick_fastest().get_telemetry().copy()"
   ]
  },
  {
   "cell_type": "code",
   "execution_count": null,
   "id": "40d9ee9c",
   "metadata": {},
   "outputs": [],
   "source": [
    "mult = ref_lap.Distance.iloc[-1]/comp_lap.Distance.iloc[-1]"
   ]
  },
  {
   "cell_type": "code",
   "execution_count": null,
   "id": "62b1095e",
   "metadata": {},
   "outputs": [],
   "source": [
    "ref_dist = ref_lap.Distance.to_numpy()\n",
    "ref_time = ref_lap.Time.dt.total_seconds().to_numpy()\n",
    "comp_dist = (comp_lap.Distance * mult).to_numpy()\n",
    "comp_time = comp_lap.Time.dt.total_seconds().to_numpy()"
   ]
  },
  {
   "cell_type": "code",
   "execution_count": null,
   "id": "63a4b830",
   "metadata": {},
   "outputs": [],
   "source": [
    "comp_time = np.interp(ref_dist, comp_dist, comp_time)"
   ]
  },
  {
   "cell_type": "code",
   "execution_count": null,
   "id": "31c3345c",
   "metadata": {},
   "outputs": [],
   "source": [
    "delta = comp_time - ref_time"
   ]
  },
  {
   "cell_type": "code",
   "execution_count": null,
   "id": "af95441c",
   "metadata": {},
   "outputs": [],
   "source": [
    "dominance = pd.Series(delta).diff().rolling(window=5,center=True).mean()"
   ]
  },
  {
   "cell_type": "code",
   "execution_count": null,
   "id": "20f883bd",
   "metadata": {},
   "outputs": [],
   "source": [
    "fig, ax = plt.subplots(figsize=(15,6))\n",
    "ax.plot(ref_lap['Distance'],ref_lap['Speed'],color=\"#0400FF\",linewidth=2)\n",
    "ax.plot(comp_lap['Distance'],comp_lap['Speed'],color=\"#FF8000\",linewidth=2)\n",
    "\n",
    "v_min = ref_lap['Speed'].min()\n",
    "v_max = ref_lap['Speed'].max()\n",
    "ax.vlines(x=corners['Distance'], ymin=v_min-50, ymax=v_max+30,\n",
    "          linestyles='dotted', colors='grey')\n",
    "for _, corner in corners.iterrows():\n",
    "    txt = f\"{corner['Number']}{corner['Letter']}\"\n",
    "    ax.text(corner['Distance'], v_max+30, txt,\n",
    "            va='center_baseline', ha='center', size=15)\n",
    "\n",
    "\n",
    "ax.set_xlim(ref_dist[0],ref_dist[-1])\n",
    "ax.set_ylim(ref_lap['Speed'].min() - 50, ref_lap['Speed'].max() + 50)\n",
    "ax.grid(visible=False)\n",
    "\n",
    "ax2 = ax.twinx()\n",
    "ax2.plot(ref_lap['Distance'],delta,ls='--',color='w')\n",
    "ax2.set_ylim(-0,1)\n",
    "ax2.grid(visible=False)\n",
    "ax2.axhline(y=0,lw=1,ls='--',color='#444444')"
   ]
  },
  {
   "cell_type": "code",
   "execution_count": null,
   "id": "07bd7945",
   "metadata": {},
   "outputs": [],
   "source": [
    "from scipy.signal import savgol_filter\n",
    "\n",
    "def long_acc(lap, window=6, polyorder=2):\n",
    "\n",
    "    dv = (lap.Speed * (5/18)).diff()\n",
    "    dt = lap.Time.dt.total_seconds().diff()\n",
    "    a = dv / dt\n",
    "    a_g = a / 9.81\n",
    "\n",
    "    # Smooth with Savitzky–Golay filter\n",
    "    return savgol_filter(a_g.fillna(0), window_length=window, polyorder=polyorder)"
   ]
  },
  {
   "cell_type": "code",
   "execution_count": null,
   "id": "7e7095f3",
   "metadata": {},
   "outputs": [],
   "source": [
    "comp_lap['Distance'] = comp_dist"
   ]
  },
  {
   "cell_type": "code",
   "execution_count": null,
   "id": "9561ff62",
   "metadata": {},
   "outputs": [],
   "source": [
    "ref_lap['LA'] = long_acc(ref_lap,window=11,polyorder=2)\n",
    "comp_lap['LA'] = long_acc(comp_lap,window=11,polyorder=2)"
   ]
  },
  {
   "cell_type": "code",
   "execution_count": null,
   "id": "08b3a141",
   "metadata": {},
   "outputs": [],
   "source": [
    "fig, ax = plt.subplots(figsize=(15,6))\n",
    "ax.plot(comp_lap['Distance'],comp_lap['LA'],color=\"#FF8000\",linewidth=3)\n",
    "ax.plot(ref_lap['Distance'],ref_lap['LA'],color=\"#0400FF\",linewidth=3)\n",
    "\n",
    "\n",
    "v_min = ref_lap['LA'].min()\n",
    "v_max = ref_lap['LA'].max()\n",
    "ax.vlines(x=corners['Distance'], ymin=v_min-1, ymax=v_max+1,\n",
    "          linestyles='dotted', colors='grey')\n",
    "for _, corner in corners.iterrows():\n",
    "    txt = f\"{corner['Number']}{corner['Letter']}\"\n",
    "    ax.text(corner['Distance'], v_max+1, txt,\n",
    "            va='center_baseline', ha='center', size=15)\n",
    "\n",
    "\n",
    "ax.set_xlim(ref_dist[0],ref_dist[-1])\n",
    "# ax.set_ylim(-6, 2)"
   ]
  },
  {
   "cell_type": "code",
   "execution_count": null,
   "id": "dbef3cca",
   "metadata": {},
   "outputs": [],
   "source": [
    "import numpy as np\n",
    "from scipy.signal import savgol_filter\n",
    "\n",
    "def compute_lateral_acc(df, window_length=21, polyorder=2, outlier_threshold=100, xy_window=21, xy_poly=2):\n",
    "\n",
    "    df = df.copy()\n",
    "\n",
    "    # --- Pre-filter X, Y, Distance ---\n",
    "    n = len(df)\n",
    "    w = min(xy_window, n if n % 2 == 1 else n-1)  # ensure odd, <= n\n",
    "    if w < 3:\n",
    "        w = 3\n",
    "\n",
    "    x = savgol_filter(df['X'].to_numpy(), w, xy_poly)\n",
    "    y = savgol_filter(df['Y'].to_numpy(), w, xy_poly)\n",
    "    s = savgol_filter(df['Distance'].to_numpy(), w, xy_poly)\n",
    "\n",
    "    # Step 1. Heading angle\n",
    "    delta_x = np.diff(x, prepend=x[0])\n",
    "    delta_y = np.diff(y, prepend=y[0])\n",
    "    heading = np.arctan2(delta_y, delta_x)\n",
    "\n",
    "    # Step 2. Heading change and distance delta\n",
    "    d_heading = np.diff(heading, prepend=heading[0])\n",
    "    ds = np.diff(s, prepend=s[0])\n",
    "\n",
    "    # Step 3. Radius of curvature\n",
    "    radius = np.divide(ds, d_heading, \n",
    "                       out=np.full_like(ds, np.nan, dtype=float), \n",
    "                       where=d_heading != 0)\n",
    "\n",
    "    # Step 4. Lateral acceleration (v²/R)\n",
    "    v = df['Speed'].to_numpy() / 3.6  # km/h → m/s\n",
    "    lat_acc = np.divide(v**2, radius, \n",
    "                        out=np.full_like(v, np.nan, dtype=float),\n",
    "                        where=~np.isnan(radius))\n",
    "\n",
    "    # Step 5. Remove unrealistic values\n",
    "    lat_acc[np.abs(lat_acc) > outlier_threshold] = np.nan\n",
    "\n",
    "    # Step 6. Smooth LatAcc and convert to g\n",
    "    lat_acc_filt = savgol_filter(np.nan_to_num(lat_acc), \n",
    "                                 window_length=window_length, \n",
    "                                 polyorder=polyorder)\n",
    "\n",
    "    return lat_acc_filt / 9.81  # in g"
   ]
  },
  {
   "cell_type": "code",
   "execution_count": null,
   "id": "13a6551f",
   "metadata": {},
   "outputs": [],
   "source": [
    "comp_lap['Distance'] = comp_dist"
   ]
  },
  {
   "cell_type": "code",
   "execution_count": null,
   "id": "a1e9b901",
   "metadata": {},
   "outputs": [],
   "source": [
    "ref_lap['lat_acc'] = compute_lateral_acc(ref_lap)\n",
    "comp_lap['lat_acc'] = compute_lateral_acc(comp_lap)"
   ]
  },
  {
   "cell_type": "code",
   "execution_count": null,
   "id": "fdb97073",
   "metadata": {},
   "outputs": [],
   "source": [
    "fig, ax = plt.subplots(figsize=(15,6))\n",
    "ax.plot(ref_lap['Distance'],ref_lap['lat_acc'],color=\"#FF8000\",linewidth=3)\n",
    "ax.plot(comp_lap['Distance'],comp_lap['lat_acc'],color=\"#0400FF\",linewidth=3)\n",
    "\n",
    "v_min = ref_lap['lat_acc'].min()\n",
    "v_max = ref_lap['lat_acc'].max()\n",
    "ax.vlines(x=corners['Distance'], ymin=v_min-2, ymax=v_max+2,\n",
    "          linestyles='dotted', colors='grey')\n",
    "for _, corner in corners.iterrows():\n",
    "    txt = f\"{corner['Number']}{corner['Letter']}\"\n",
    "    ax.text(corner['Distance'], v_max+1.6, txt,\n",
    "            va='center_baseline', ha='center', size=12)\n",
    "\n",
    "ax.set_xlim(ref_dist[0],ref_dist[-1])\n",
    "ax.set_ylim(-5,5)\n",
    "ax.grid(visible=False)"
   ]
  },
  {
   "cell_type": "code",
   "execution_count": null,
   "id": "7f5a5acc",
   "metadata": {},
   "outputs": [],
   "source": []
  }
 ],
 "metadata": {
  "kernelspec": {
   "display_name": ".venv",
   "language": "python",
   "name": "python3"
  },
  "language_info": {
   "codemirror_mode": {
    "name": "ipython",
    "version": 3
   },
   "file_extension": ".py",
   "mimetype": "text/x-python",
   "name": "python",
   "nbconvert_exporter": "python",
   "pygments_lexer": "ipython3",
   "version": "3.13.5"
  }
 },
 "nbformat": 4,
 "nbformat_minor": 5
}

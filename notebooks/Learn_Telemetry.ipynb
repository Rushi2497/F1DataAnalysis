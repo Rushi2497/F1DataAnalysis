{
 "cells": [
  {
   "cell_type": "code",
   "execution_count": null,
   "id": "0c91ed23",
   "metadata": {},
   "outputs": [],
   "source": [
    "import numpy as np\n",
    "import pandas as pd\n",
    "import fastf1\n",
    "from fastf1 import utils\n",
    "from collections import defaultdict, Counter\n",
    "import statsmodels.api as sm\n",
    "from src.utils import get_acc_df, fuel_correction, compare_car_speeds, compute_track_dominance_multi\n",
    "from src.plotset import setup_plot, save_fig, plot_track_dominance\n",
    "\n",
    "from fastf1 import plotting\n",
    "import matplotlib.pyplot as plt\n",
    "import matplotlib as mpl\n",
    "from matplotlib.animation import FuncAnimation\n",
    "from IPython.display import HTML\n",
    "from matplotlib.collections import LineCollection\n",
    "import seaborn as sns\n",
    "\n",
    "setup_plot()"
   ]
  },
  {
   "cell_type": "code",
   "execution_count": null,
   "id": "faec77e1",
   "metadata": {},
   "outputs": [],
   "source": [
    "fastf1.Cache.enable_cache('./f1_cache')\n",
    "fastf1.Cache.get_cache_info()"
   ]
  },
  {
   "cell_type": "code",
   "execution_count": null,
   "id": "b2737075",
   "metadata": {},
   "outputs": [],
   "source": [
    "session = fastf1.get_session(2025,16,'FP2')\n",
    "session.load()"
   ]
  },
  {
   "cell_type": "code",
   "execution_count": null,
   "id": "8c3b8ed5",
   "metadata": {},
   "outputs": [],
   "source": [
    "corners = session.get_circuit_info().corners\n",
    "rotation = session.get_circuit_info().rotation"
   ]
  },
  {
   "cell_type": "code",
   "execution_count": null,
   "metadata": {},
   "outputs": [],
   "source": [
    "ref_lap = session.laps.pick_drivers('NOR').pick_fastest().get_car_data(interpolate_edges=True).add_distance().copy()\n",
    "comp_lap = session.laps.pick_drivers('LEC').pick_fastest().get_car_data(interpolate_edges=True).add_distance().copy()"
   ]
  },
  {
   "cell_type": "code",
   "execution_count": null,
   "id": "40d9ee9c",
   "metadata": {},
   "outputs": [],
   "source": [
    "mult = ref_lap.Distance.iloc[-1]/comp_lap.Distance.iloc[-1]"
   ]
  },
  {
   "cell_type": "code",
   "execution_count": null,
   "id": "62b1095e",
   "metadata": {},
   "outputs": [],
   "source": [
    "ref_dist = ref_lap.Distance.to_numpy()\n",
    "ref_time = ref_lap.Time.dt.total_seconds().to_numpy()\n",
    "comp_dist = (comp_lap.Distance * mult).to_numpy()\n",
    "comp_time = comp_lap.Time.dt.total_seconds().to_numpy()"
   ]
  },
  {
   "cell_type": "code",
   "execution_count": null,
   "id": "63a4b830",
   "metadata": {},
   "outputs": [],
   "source": [
    "comp_time = np.interp(ref_dist, comp_dist, comp_time)"
   ]
  },
  {
   "cell_type": "code",
   "execution_count": null,
   "id": "31c3345c",
   "metadata": {},
   "outputs": [],
   "source": [
    "delta = comp_time - ref_time"
   ]
  },
  {
   "cell_type": "code",
   "execution_count": null,
   "id": "af95441c",
   "metadata": {},
   "outputs": [],
   "source": [
    "dominance = pd.Series(delta).diff().rolling(window=5,center=True).mean()"
   ]
  },
  {
   "cell_type": "code",
   "execution_count": null,
   "id": "20f883bd",
   "metadata": {},
   "outputs": [],
   "source": [
    "fig, ax = plt.subplots(figsize=(15,6))\n",
    "ax.plot(comp_lap['Distance'],comp_lap['Speed'],color=\"#FF0000\",linewidth=2)\n",
    "ax.plot(ref_lap['Distance'],ref_lap['Speed'],color='#FF8000',linewidth=2)\n",
    "\n",
    "v_min = ref_lap['Speed'].min()\n",
    "v_max = ref_lap['Speed'].max()\n",
    "ax.vlines(x=corners['Distance'], ymin=v_min-50, ymax=v_max+30,\n",
    "          linestyles='dotted', colors='grey')\n",
    "for _, corner in corners.iterrows():\n",
    "    txt = f\"{corner['Number']}{corner['Letter']}\"\n",
    "    ax.text(corner['Distance'], v_max+30, txt,\n",
    "            va='center_baseline', ha='center', size=15)\n",
    "\n",
    "\n",
    "ax.set_xlim(ref_dist[0],ref_dist[-1])\n",
    "ax.set_ylim(ref_lap['Speed'].min() - 50, ref_lap['Speed'].max() + 50)\n",
    "ax.grid(visible=False)\n",
    "\n",
    "ax2 = ax.twinx()\n",
    "ax2.plot(ref_lap['Distance'],delta,ls='--')\n",
    "ax2.set_ylim(-0.5,0.5)\n",
    "ax2.grid(visible=False)\n",
    "ax2.axhline(y=0,lw=1,ls='--',color='#444444')"
   ]
  },
  {
   "cell_type": "code",
   "execution_count": null,
   "id": "9561ff62",
   "metadata": {},
   "outputs": [],
   "source": [
    "from scipy.signal import savgol_filter\n",
    "\n",
    "# Convert speed to m/s\n",
    "v = ref_lap.Speed * (5/18)\n",
    "\n",
    "# Time deltas\n",
    "dt = ref_lap.Time.dt.total_seconds().diff()\n",
    "\n",
    "# Raw acceleration (m/s^2)\n",
    "a = v.diff() / dt\n",
    "\n",
    "# Convert to g (optional)\n",
    "a_g = a / 9.81\n",
    "\n",
    "# Smooth with Savitzky–Golay filter\n",
    "ref_lap['LA'] = savgol_filter(a_g.fillna(0), window_length=6, polyorder=2)\n",
    "\n",
    "\n",
    "# Convert speed to m/s\n",
    "v = comp_lap.Speed * (5/18)\n",
    "\n",
    "# Time deltas\n",
    "dt = comp_lap.Time.dt.total_seconds().diff()\n",
    "\n",
    "# Raw acceleration (m/s^2)\n",
    "a = v.diff() / dt\n",
    "\n",
    "# Convert to g (optional)\n",
    "a_g = a / 9.81\n",
    "\n",
    "# Smooth with Savitzky–Golay filter\n",
    "comp_lap['LA'] = savgol_filter(a_g.fillna(0), window_length=6, polyorder=2)"
   ]
  },
  {
   "cell_type": "code",
   "execution_count": null,
   "id": "08b3a141",
   "metadata": {},
   "outputs": [],
   "source": [
    "fig, ax = plt.subplots(figsize=(15,6))\n",
    "ax.plot(ref_lap['Distance'],ref_lap['LA'],color='#FF8000',linewidth=2)\n",
    "ax.plot(comp_lap['Distance'],comp_lap['LA'],color=\"#FF0000\",linewidth=2)\n",
    "\n",
    "\n",
    "v_min = ref_lap['LA'].min()\n",
    "v_max = ref_lap['LA'].max()\n",
    "ax.vlines(x=corners['Distance'], ymin=v_min-1, ymax=v_max+1,\n",
    "          linestyles='dotted', colors='grey')\n",
    "for _, corner in corners.iterrows():\n",
    "    txt = f\"{corner['Number']}{corner['Letter']}\"\n",
    "    ax.text(corner['Distance'], v_max+1, txt,\n",
    "            va='center_baseline', ha='center', size=15)\n",
    "\n",
    "\n",
    "ax.set_xlim(ref_dist[0],ref_dist[-1])\n",
    "ax.set_ylim(ref_lap['LA'].min() - 2, ref_lap['LA'].max() + 2)\n",
    "ax.grid(visible=False)"
   ]
  }
 ],
 "metadata": {
  "kernelspec": {
   "display_name": ".venv",
   "language": "python",
   "name": "python3"
  },
  "language_info": {
   "codemirror_mode": {
    "name": "ipython",
    "version": 3
   },
   "file_extension": ".py",
   "mimetype": "text/x-python",
   "name": "python",
   "nbconvert_exporter": "python",
   "pygments_lexer": "ipython3",
   "version": "3.13.5"
  }
 },
 "nbformat": 4,
 "nbformat_minor": 5
}

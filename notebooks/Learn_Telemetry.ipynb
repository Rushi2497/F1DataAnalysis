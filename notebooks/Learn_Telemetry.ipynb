{
 "cells": [
  {
   "cell_type": "code",
   "execution_count": null,
   "id": "0c91ed23",
   "metadata": {},
   "outputs": [],
   "source": [
    "import numpy as np\n",
    "import pandas as pd\n",
    "import fastf1\n",
    "from scipy.signal import savgol_filter\n",
    "from src.plotset import setup_plot, save_fig, plot_track_dominance\n",
    "\n",
    "from fastf1 import plotting\n",
    "import matplotlib.pyplot as plt\n",
    "\n",
    "setup_plot()"
   ]
  },
  {
   "cell_type": "code",
   "execution_count": null,
   "id": "faec77e1",
   "metadata": {},
   "outputs": [],
   "source": [
    "fastf1.Cache.enable_cache('./f1_cache')\n",
    "fastf1.Cache.get_cache_info()"
   ]
  },
  {
   "cell_type": "code",
   "execution_count": null,
   "id": "b2737075",
   "metadata": {},
   "outputs": [],
   "source": [
    "session = fastf1.get_session(2025,16,'Q')\n",
    "session.load()"
   ]
  },
  {
   "cell_type": "code",
   "execution_count": null,
   "id": "8c3b8ed5",
   "metadata": {},
   "outputs": [],
   "source": [
    "corners = session.get_circuit_info().corners\n",
    "rotation = session.get_circuit_info().rotation"
   ]
  },
  {
   "cell_type": "code",
   "execution_count": null,
   "metadata": {},
   "outputs": [],
   "source": [
    "ref_lap = session.laps.pick_drivers('NOR').pick_fastest().get_telemetry().copy()\n",
    "comp_lap = session.laps.pick_drivers('LEC').pick_fastest().get_telemetry().copy()"
   ]
  },
  {
   "cell_type": "code",
   "execution_count": null,
   "id": "40d9ee9c",
   "metadata": {},
   "outputs": [],
   "source": [
    "mult = ref_lap.Distance.iloc[-1]/comp_lap.Distance.iloc[-1]"
   ]
  },
  {
   "cell_type": "code",
   "execution_count": null,
   "id": "62b1095e",
   "metadata": {},
   "outputs": [],
   "source": [
    "ref_dist = ref_lap.Distance.to_numpy()\n",
    "ref_time = ref_lap.Time.dt.total_seconds().to_numpy()\n",
    "comp_dist = (comp_lap.Distance * mult).to_numpy()\n",
    "comp_time = comp_lap.Time.dt.total_seconds().to_numpy()"
   ]
  },
  {
   "cell_type": "code",
   "execution_count": null,
   "id": "63a4b830",
   "metadata": {},
   "outputs": [],
   "source": [
    "comp_time = np.interp(ref_dist, comp_dist, comp_time)"
   ]
  },
  {
   "cell_type": "code",
   "execution_count": null,
   "id": "31c3345c",
   "metadata": {},
   "outputs": [],
   "source": [
    "delta = comp_time - ref_time"
   ]
  },
  {
   "cell_type": "code",
   "execution_count": null,
   "id": "af95441c",
   "metadata": {},
   "outputs": [],
   "source": [
    "dominance = pd.Series(delta).diff().rolling(window=5,center=True).mean()"
   ]
  },
  {
   "cell_type": "code",
   "execution_count": null,
   "id": "20f883bd",
   "metadata": {},
   "outputs": [],
   "source": [
    "setup_plot(axeslabel=24, figtitle=28, legendfont=22)\n",
    "\n",
    "fig, ax = plt.subplots(2,1,figsize=(15,12),height_ratios=[0.7,0.3],sharex=True)\n",
    "ax[0].plot(ref_lap['Distance'],ref_lap['Speed'],color=\"#FF8000\",linewidth=3, label='NORRIS')\n",
    "ax[0].plot(comp_lap['Distance'],comp_lap['Speed'],color=\"#FF0000\",linewidth=3, label='LECLERC')\n",
    "\n",
    "ax[0].vlines(x=corners['Distance'], ymin=0, ymax=380,\n",
    "          linestyles='dotted', colors='grey')\n",
    "for _, corner in corners.iterrows():\n",
    "    txt = f\"{corner['Number']}{corner['Letter']}\"\n",
    "    ax[0].text(corner['Distance'], 390, txt,\n",
    "            va='center_baseline', ha='center', size=16, color=\"#00FF0D\")\n",
    "\n",
    "# ax[0].set_title('Speed Trace', pad=30)\n",
    "ax[0].set_xlim(ref_dist[0],ref_dist[-1])\n",
    "ax[0].set_ylim(0, 400)\n",
    "ax[0].set_ylabel('Speed (km/h)')\n",
    "ax[0].legend()\n",
    "ax[0].grid(visible=False)\n",
    "ax02 = ax[0].twinx()\n",
    "ax02.set_yticks([])\n",
    "ax02.set_ylabel('BK',color=\"#292929\",labelpad=30)\n",
    "\n",
    "ax[1].plot(ref_lap['Distance'],delta,ls='--',lw=3,color='w')\n",
    "ax[1].axhline(y=0,lw=1,ls='--',color=\"#FFFFFF\")\n",
    "\n",
    "ax[1].vlines(x=corners['Distance'], ymin=-0.5, ymax=0.5,\n",
    "          linestyles='dotted', colors='grey')\n",
    "\n",
    "ax[1].fill_between(x=(ref_dist[0],ref_dist[-1]),y1=0,y2=0.5,color='#FF8000',alpha=0.2)\n",
    "ax[1].fill_between(x=(ref_dist[0],ref_dist[-1]),y1=-0.5,y2=0,color='#FF0000',alpha=0.2)\n",
    "\n",
    "# ax[1].set_title('Lap Time Delta')\n",
    "ax[1].set_xlim(ref_dist[0],ref_dist[-1])\n",
    "ax[1].set_ylim(-0.4,0.4)\n",
    "ax[1].set_ylabel('Delta (sec)')\n",
    "ax[1].set_xlabel('Lap Distance (m)')\n",
    "ax[1].grid(visible=False)\n",
    "\n",
    "fig.align_labels(axs=ax)"
   ]
  },
  {
   "cell_type": "code",
   "execution_count": null,
   "id": "3a36f212",
   "metadata": {},
   "outputs": [],
   "source": [
    "fig.savefig(fname='./media/Post8/speed_trace.png',transparent=True,dpi=300)"
   ]
  },
  {
   "cell_type": "code",
   "execution_count": null,
   "id": "c57c397f",
   "metadata": {},
   "outputs": [],
   "source": [
    "setup_plot(axeslabel=20, figtitle=28, legendfont=22)\n",
    "\n",
    "fig, ax = plt.subplots(4,1,figsize=(15,12),sharex=True)\n",
    "\n",
    "# RPM\n",
    "ax[0].plot(ref_lap['Distance'],ref_lap['RPM'],color=\"#FF8000\",linewidth=3, label='NORRIS')\n",
    "ax[0].plot(comp_lap['Distance'],comp_lap['RPM'],color=\"#FF0000\",linewidth=3, label='LECLERC')\n",
    "\n",
    "ax[0].vlines(x=corners['Distance'], ymin=5000, ymax=13000,\n",
    "          linestyles='dotted', colors='grey')\n",
    "for _, corner in corners.iterrows():\n",
    "    txt = f\"{corner['Number']}{corner['Letter']}\"\n",
    "    ax[0].text(corner['Distance'], 13500, txt,\n",
    "            va='center_baseline', ha='center', size=16, color=\"#00FF0D\")\n",
    "\n",
    "ax[0].set_xlim(ref_dist[0],ref_dist[-1])\n",
    "ax[0].set_ylim(6000, 14000)\n",
    "ax[0].set_yticks([6000,8000,10000,12000,14000])\n",
    "ax[0].set_yticklabels(['6k','8k','10k','12k','14k'])\n",
    "ax[0].set_ylabel('RPM')\n",
    "ax[0].legend()\n",
    "ax[0].grid(visible=False)\n",
    "\n",
    "# Gear\n",
    "ax[1].plot(ref_lap['Distance'],ref_lap['nGear'],color=\"#FF8000\",linewidth=3, label='NORRIS')\n",
    "ax[1].plot(comp_lap['Distance'],comp_lap['nGear'],color=\"#FF0000\",linewidth=3, label='LECLERC')\n",
    "ax[1].set_ylim(1.5, 8.5)\n",
    "ax[1].set_ylabel('Gear')\n",
    "ax[1].vlines(x=corners['Distance'], ymin=1.5, ymax=8.5,\n",
    "          linestyles='dotted', colors='grey')\n",
    "ax[1].grid(visible=False)\n",
    "\n",
    "# Throttle\n",
    "ax[2].plot(ref_lap['Distance'],ref_lap['Throttle'],color=\"#FF8000\",linewidth=3, label='NORRIS')\n",
    "ax[2].plot(comp_lap['Distance'],comp_lap['Throttle'],color=\"#FF0000\",linewidth=3, label='LECLERC')\n",
    "ax[2].set_ylim(-2, 102)\n",
    "ax[2].set_ylabel('Throttle (%)')\n",
    "ax[2].vlines(x=corners['Distance'], ymin=-2, ymax=102,\n",
    "          linestyles='dotted', colors='grey')\n",
    "ax[2].grid(visible=False)\n",
    "\n",
    "# Brake\n",
    "ax[3].plot(ref_lap['Distance'],ref_lap['Brake'],color=\"#FF8000\",linewidth=3, label='NORRIS')\n",
    "ax[3].plot(comp_lap['Distance'],comp_lap['Brake'],color=\"#FF0000\",linewidth=3, label='LECLERC')\n",
    "ax[3].set_ylim([-0.2,1.2])\n",
    "ax[3].set_ylabel('Brakes')\n",
    "ax[3].set_yticks([0,1])\n",
    "ax[3].set_yticklabels(['OFF','ON'])\n",
    "ax[3].vlines(x=corners['Distance'], ymin=-0.1, ymax=1.2,\n",
    "          linestyles='dotted', colors='grey')\n",
    "for _, corner in corners.iterrows():\n",
    "    txt = f\"{corner['Number']}{corner['Letter']}\"\n",
    "    ax[3].text(corner['Distance'], -0.15, txt,\n",
    "            va='center_baseline', ha='center', size=16, color=\"#00FF0D\")\n",
    "ax[3].set_xlabel('Lap Distance (m)')\n",
    "ax[3].grid(visible=False)\n",
    "fig.align_labels(axs=ax)"
   ]
  },
  {
   "cell_type": "code",
   "execution_count": null,
   "id": "e1cde77d",
   "metadata": {},
   "outputs": [],
   "source": [
    "fig.savefig(fname='./media/Post8/other_tel.png',transparent=True,dpi=300)"
   ]
  },
  {
   "cell_type": "code",
   "execution_count": null,
   "id": "07bd7945",
   "metadata": {},
   "outputs": [],
   "source": [
    "def long_acc(lap, window=6, polyorder=2):\n",
    "\n",
    "    dv = (lap.Speed * (5/18)).diff()\n",
    "    dt = lap.Time.dt.total_seconds().diff()\n",
    "    a = dv / dt\n",
    "    a_g = a / 9.81\n",
    "\n",
    "    # Smooth with Savitzky–Golay filter\n",
    "    return savgol_filter(a_g.fillna(0), window_length=window, polyorder=polyorder)"
   ]
  },
  {
   "cell_type": "code",
   "execution_count": null,
   "id": "7e7095f3",
   "metadata": {},
   "outputs": [],
   "source": [
    "comp_lap['Distance'] = comp_dist\n",
    "\n",
    "ref_lap['long_acc'] = long_acc(ref_lap,window=11,polyorder=2)\n",
    "comp_lap['long_acc'] = long_acc(comp_lap,window=11,polyorder=2)"
   ]
  },
  {
   "cell_type": "code",
   "execution_count": null,
   "id": "40e78fea",
   "metadata": {},
   "outputs": [],
   "source": [
    "def compute_lateral_acc(df, window_length=21, polyorder=2, outlier_threshold=100, xy_window=21, xy_poly=2):\n",
    "\n",
    "    df = df.copy()\n",
    "\n",
    "    # --- Pre-filter X, Y, Distance ---\n",
    "    n = len(df)\n",
    "    w = min(xy_window, n if n % 2 == 1 else n-1)  # ensure odd, <= n\n",
    "    if w < 3:\n",
    "        w = 3\n",
    "\n",
    "    x = savgol_filter(df['X'].to_numpy(), w, xy_poly)\n",
    "    y = savgol_filter(df['Y'].to_numpy(), w, xy_poly)\n",
    "    s = savgol_filter(df['Distance'].to_numpy(), w, xy_poly)\n",
    "\n",
    "    # Step 1. Heading angle\n",
    "    delta_x = np.diff(x, prepend=x[0])\n",
    "    delta_y = np.diff(y, prepend=y[0])\n",
    "    heading = np.arctan2(delta_y, delta_x)\n",
    "\n",
    "    # Step 2. Heading change and distance delta\n",
    "    d_heading = np.diff(heading, prepend=heading[0])\n",
    "    ds = np.diff(s, prepend=s[0])\n",
    "\n",
    "    # Step 3. Radius of curvature\n",
    "    radius = np.divide(ds, d_heading, \n",
    "                       out=np.full_like(ds, np.nan, dtype=float), \n",
    "                       where=d_heading != 0)\n",
    "\n",
    "    # Step 4. Lateral acceleration (v²/R)\n",
    "    v = df['Speed'].to_numpy() / 3.6  # km/h → m/s\n",
    "    lat_acc = np.divide(v**2, radius, \n",
    "                        out=np.full_like(v, np.nan, dtype=float),\n",
    "                        where=~np.isnan(radius))\n",
    "\n",
    "    # Step 5. Remove unrealistic values\n",
    "    lat_acc[np.abs(lat_acc) > outlier_threshold] = np.nan\n",
    "\n",
    "    # Step 6. Smooth LatAcc and convert to g\n",
    "    lat_acc_filt = savgol_filter(np.nan_to_num(lat_acc), \n",
    "                                 window_length=window_length, \n",
    "                                 polyorder=polyorder)\n",
    "\n",
    "    return lat_acc_filt / 9.81  # in g"
   ]
  },
  {
   "cell_type": "code",
   "execution_count": null,
   "id": "2d6f37da",
   "metadata": {},
   "outputs": [],
   "source": [
    "ref_lap['lat_acc'] = compute_lateral_acc(ref_lap)\n",
    "comp_lap['lat_acc'] = compute_lateral_acc(comp_lap)"
   ]
  },
  {
   "cell_type": "code",
   "execution_count": null,
   "id": "08b3a141",
   "metadata": {},
   "outputs": [],
   "source": [
    "setup_plot(axeslabel=20, figtitle=28, legendfont=22)\n",
    "\n",
    "fig, ax = plt.subplots(2,1,figsize=(15,12))\n",
    "\n",
    "ax[0].plot(ref_lap['Distance'],ref_lap['long_acc'],color=\"#FF8000\",linewidth=3,label='NORRIS')\n",
    "ax[0].plot(comp_lap['Distance'],comp_lap['long_acc'],color=\"#FF0000\",linewidth=3,label='LECLERC')\n",
    "ax[0].set_xlim(ref_dist[0],ref_dist[-1])\n",
    "ax[0].set_ylim(-6, 2.5)\n",
    "ax[0].set_ylabel('Longitudinal Acceleration (g)')\n",
    "ax[0].legend()\n",
    "\n",
    "ax[0].vlines(x=corners['Distance'], ymin=-6, ymax=2,\n",
    "          linestyles='dotted', colors='grey')\n",
    "for _, corner in corners.iterrows():\n",
    "    txt = f\"{corner['Number']}{corner['Letter']}\"\n",
    "    ax[0].text(corner['Distance'], 2.2, txt,\n",
    "            va='center_baseline', ha='center', size=16, color='#00FF0D')\n",
    "    \n",
    "ax[0].grid(visible=False)\n",
    "    \n",
    "\n",
    "ax[1].plot(ref_lap['Distance'],ref_lap['lat_acc'],color=\"#FF8000\",linewidth=3)\n",
    "ax[1].plot(comp_lap['Distance'],comp_lap['lat_acc'],color=\"#FF0000\",linewidth=3)\n",
    "ax[1].set_xlim(ref_dist[0],ref_dist[-1])\n",
    "ax[1].set_ylim(-6, 4.5)\n",
    "ax[1].set_ylabel('Lateral Acceleration (g)')\n",
    "ax[1].set_xlabel('Lap Distance (m)')\n",
    "\n",
    "ax[1].vlines(x=corners['Distance'], ymin=-6, ymax=4.5,\n",
    "          linestyles='dotted', colors='grey')\n",
    "\n",
    "ax[1].grid(visible=False)"
   ]
  },
  {
   "cell_type": "code",
   "execution_count": null,
   "id": "ea7fc0a7",
   "metadata": {},
   "outputs": [],
   "source": [
    "fig.savefig(fname='./media/Post8/acc_tel.png',transparent=True,dpi=300)"
   ]
  }
 ],
 "metadata": {
  "kernelspec": {
   "display_name": ".venv",
   "language": "python",
   "name": "python3"
  },
  "language_info": {
   "codemirror_mode": {
    "name": "ipython",
    "version": 3
   },
   "file_extension": ".py",
   "mimetype": "text/x-python",
   "name": "python",
   "nbconvert_exporter": "python",
   "pygments_lexer": "ipython3",
   "version": "3.13.5"
  }
 },
 "nbformat": 4,
 "nbformat_minor": 5
}

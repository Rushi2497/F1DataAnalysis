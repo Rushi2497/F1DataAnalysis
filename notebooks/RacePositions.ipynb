{
 "cells": [
  {
   "cell_type": "code",
   "execution_count": null,
   "id": "0c91ed23",
   "metadata": {},
   "outputs": [],
   "source": [
    "import numpy as np\n",
    "import pandas as pd\n",
    "import matplotlib.pyplot as plt\n",
    "from matplotlib.animation import FuncAnimation\n",
    "from IPython.display import HTML\n",
    "import fastf1\n",
    "from src.plotset import setup_plot\n",
    "from fastf1 import plotting\n",
    "\n",
    "setup_plot()"
   ]
  },
  {
   "cell_type": "code",
   "execution_count": null,
   "id": "faec77e1",
   "metadata": {},
   "outputs": [],
   "source": [
    "fastf1.Cache.enable_cache('./f1_cache')\n",
    "fastf1.Cache.get_cache_info()"
   ]
  },
  {
   "cell_type": "code",
   "execution_count": null,
   "id": "180fafff",
   "metadata": {},
   "outputs": [],
   "source": [
    "session = fastf1.get_session(2025,2,'Sprint')\n",
    "session.load()"
   ]
  },
  {
   "cell_type": "code",
   "execution_count": null,
   "id": "492ed552",
   "metadata": {},
   "outputs": [],
   "source": [
    "drivers = session.drivers"
   ]
  },
  {
   "cell_type": "code",
   "execution_count": null,
   "id": "df8f41b1",
   "metadata": {},
   "outputs": [],
   "source": [
    "grid_pos = session.results.sort_values('GridPosition')\n",
    "grid_order = grid_pos['Abbreviation'].values\n",
    "starting_positions = {driver: i+1 for i, driver in enumerate(grid_order)}"
   ]
  },
  {
   "cell_type": "code",
   "execution_count": null,
   "id": "8396fc53",
   "metadata": {},
   "outputs": [],
   "source": [
    "start_row = pd.Series(starting_positions)"
   ]
  },
  {
   "cell_type": "code",
   "execution_count": null,
   "id": "2462e847",
   "metadata": {},
   "outputs": [],
   "source": [
    "pos_dict = {}\n",
    "for driver_number in drivers:\n",
    "    temp = session.laps.pick_drivers(driver_number)\n",
    "    pos_dict[temp.Driver.iloc[0]] = temp.Position.values\n",
    "\n",
    "pos_df = pd.DataFrame(pos_dict)"
   ]
  },
  {
   "cell_type": "code",
   "execution_count": null,
   "id": "ccc281c4",
   "metadata": {},
   "outputs": [],
   "source": [
    "pos_df = pd.concat([start_row.to_frame().T, pos_df], ignore_index=True)"
   ]
  },
  {
   "cell_type": "code",
   "execution_count": null,
   "id": "25421795",
   "metadata": {},
   "outputs": [],
   "source": [
    "pos_df"
   ]
  },
  {
   "cell_type": "code",
   "execution_count": null,
   "id": "7eeb4a55",
   "metadata": {},
   "outputs": [],
   "source": [
    "n_interp = 20  # number of subframes between laps\n",
    "\n",
    "# Create a new index for interpolation\n",
    "new_index = np.linspace(0, len(pos_df) - 1, (len(pos_df) - 1) * n_interp + 1)\n",
    "\n",
    "# Interpolate all drivers (columns)\n",
    "pos_df_interp = pos_df.reindex(new_index).interpolate(method='linear', axis=0).reset_index(drop=True)"
   ]
  },
  {
   "cell_type": "code",
   "execution_count": null,
   "id": "628193cb",
   "metadata": {},
   "outputs": [],
   "source": [
    "pos_df_interp"
   ]
  },
  {
   "cell_type": "code",
   "execution_count": null,
   "id": "aac7b7b4",
   "metadata": {},
   "outputs": [],
   "source": [
    "fig, ax = plt.subplots(figsize=(9, 9))\n",
    "drivers = pos_df.columns.tolist()\n",
    "\n",
    "# For each driver: keep line and head marker\n",
    "lines = {}\n",
    "heads = {}\n",
    "texts = {}\n",
    "\n",
    "for i, driver in enumerate(drivers):\n",
    "    color = plotting.get_driver_style(driver,style=['color'],session=session)['color']\n",
    "    (line,) = ax.plot([], [], color=color, lw=2, label=driver)\n",
    "    (head,) = ax.plot([], [], 'o', color=color, markersize=6)\n",
    "    txt = ax.text(0, 0, driver, fontsize=12, fontweight='bold', color=color, va='center', ha='left')\n",
    "    lines[driver] = line\n",
    "    heads[driver] = head\n",
    "    texts[driver] = txt\n",
    "\n",
    "ax.set_ylim(20.5, 0.5)  # Invert y-axis: P1 at top\n",
    "ax.set_xlim(0, 5)       # Initial lap window\n",
    "ax.set_yticks([i for i in range(1,21)])\n",
    "ax.set_xlabel(\"Lap\")\n",
    "ax.set_ylabel(\"Position on Track\")\n",
    "ax.set_title(\"Sprint Position Evolution\")\n",
    "ax.grid(visible=False)\n",
    "# legend = ax.legend(loc='upper right')\n",
    "\n",
    "def update(frame):\n",
    "    x = np.linspace(0, frame / n_interp, frame + 1)\n",
    "    \n",
    "    for driver in drivers:\n",
    "        y_data = pos_df_interp[driver].iloc[:frame + 1]\n",
    "        lines[driver].set_data(x, y_data)\n",
    "        heads[driver].set_data([x[-1]], [y_data.iloc[-1]])  # Head marker at last point\n",
    "        texts[driver].set_position((x[-1] + 0.1, y_data.iloc[-1])) # Text on the right side of markers\n",
    " \n",
    "    # Scroll window: show 5-lap window\n",
    "    current_lap = frame / n_interp\n",
    "    if current_lap > 2.5:\n",
    "        ax.set_xlim(current_lap - 2.5, current_lap + 2.5)\n",
    "    else:\n",
    "        ax.set_xlim(0, 5)\n",
    "\n",
    "    return list(lines.values()) + list(heads.values())\n",
    "\n",
    "n_frames = len(pos_df_interp)\n",
    "ani = FuncAnimation(fig, update, frames=n_frames, interval=1000/n_interp, blit=True, repeat=False)\n",
    "\n",
    "# To display:\n",
    "plt.tight_layout()\n",
    "HTML(ani.to_jshtml())"
   ]
  },
  {
   "cell_type": "code",
   "execution_count": null,
   "id": "d1de7498",
   "metadata": {},
   "outputs": [],
   "source": []
  }
 ],
 "metadata": {
  "kernelspec": {
   "display_name": ".venv",
   "language": "python",
   "name": "python3"
  },
  "language_info": {
   "codemirror_mode": {
    "name": "ipython",
    "version": 3
   },
   "file_extension": ".py",
   "mimetype": "text/x-python",
   "name": "python",
   "nbconvert_exporter": "python",
   "pygments_lexer": "ipython3",
   "version": "3.13.5"
  }
 },
 "nbformat": 4,
 "nbformat_minor": 5
}

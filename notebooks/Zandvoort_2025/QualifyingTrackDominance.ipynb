{
 "cells": [
  {
   "cell_type": "code",
   "execution_count": null,
   "id": "0c91ed23",
   "metadata": {},
   "outputs": [],
   "source": [
    "import numpy as np\n",
    "import pandas as pd\n",
    "import fastf1\n",
    "from src.utils import compute_track_dominance_multi, quali_track_evolution\n",
    "from src.plotset import setup_plot, save_fig, plot_track_dominance, plot_quali_track_evolution\n",
    "\n",
    "from fastf1 import plotting\n",
    "import matplotlib.pyplot as plt\n",
    "import seaborn as sns\n",
    "\n",
    "setup_plot()"
   ]
  },
  {
   "cell_type": "code",
   "execution_count": null,
   "id": "faec77e1",
   "metadata": {},
   "outputs": [],
   "source": [
    "fastf1.Cache.enable_cache('./f1_cache')\n",
    "fastf1.Cache.get_cache_info()"
   ]
  },
  {
   "cell_type": "code",
   "execution_count": null,
   "id": "63b581a0",
   "metadata": {},
   "outputs": [],
   "source": [
    "session = fastf1.get_session(2025,15,'Q')\n",
    "session.load()"
   ]
  },
  {
   "cell_type": "code",
   "execution_count": null,
   "id": "752177f7",
   "metadata": {},
   "outputs": [],
   "source": [
    "points, segments, colors = compute_track_dominance_multi(session=session,drivers=['PIA','NOR'],circuit_length=4259,\n",
    "                                                         colors_map={'PIA':'#FF8000','NOR':'#FFFFFF'},window_size=100)"
   ]
  },
  {
   "cell_type": "code",
   "execution_count": null,
   "id": "7236a740",
   "metadata": {},
   "outputs": [],
   "source": [
    "fig = plot_track_dominance(points=points, segments=segments, colors=colors,figsize=(12,11))"
   ]
  },
  {
   "cell_type": "code",
   "execution_count": null,
   "id": "0d26463d",
   "metadata": {},
   "outputs": [],
   "source": [
    "save_fig(fig=fig, name='track_dominance', loc='Reel14')"
   ]
  },
  {
   "cell_type": "code",
   "execution_count": null,
   "id": "e1d059de",
   "metadata": {},
   "outputs": [],
   "source": [
    "df = quali_track_evolution(session=session)"
   ]
  },
  {
   "cell_type": "code",
   "execution_count": null,
   "id": "8aea85f7",
   "metadata": {},
   "outputs": [],
   "source": [
    "round(df.Q2.mean() - df.Q1.mean(),1), round(df.Q3.mean() - df.Q2.mean(),1)"
   ]
  },
  {
   "cell_type": "code",
   "execution_count": null,
   "id": "81f4b23c",
   "metadata": {},
   "outputs": [],
   "source": [
    "setup_plot(xyticksize=22,axeslabel=24,figtitle=30)\n",
    "fig = plot_quali_track_evolution(df)"
   ]
  },
  {
   "cell_type": "code",
   "execution_count": null,
   "id": "e6b497ad",
   "metadata": {},
   "outputs": [],
   "source": [
    "save_fig(fig=fig, name='quali_evolution', loc='Reel14')"
   ]
  },
  {
   "cell_type": "code",
   "execution_count": null,
   "id": "4ba76286",
   "metadata": {},
   "outputs": [],
   "source": [
    "team_delta = pd.read_csv('q_delta.csv')"
   ]
  },
  {
   "cell_type": "code",
   "execution_count": null,
   "id": "57f0fdda",
   "metadata": {},
   "outputs": [],
   "source": [
    "team_delta['colors'] = [plotting.get_team_color(session=session,identifier=name) for name in team_delta.Team]"
   ]
  },
  {
   "cell_type": "code",
   "execution_count": null,
   "id": "90d5e479",
   "metadata": {},
   "outputs": [],
   "source": [
    "color_dict = {key: item for key, item in team_delta[['Team','colors']].values}"
   ]
  },
  {
   "cell_type": "code",
   "execution_count": null,
   "id": "ede89e07",
   "metadata": {},
   "outputs": [],
   "source": [
    "fig, ax = plt.subplots(figsize=(15,8))\n",
    "sns.barplot(data=team_delta,x='Team',y='delta',hue='Team',palette=color_dict)\n",
    "\n",
    "ax.set_ylim(-3,0.5)\n",
    "\n",
    "ax.set_xlabel('')\n",
    "ax.set_xticks([])\n",
    "ax.set_ylabel('Lap Time Delta (s)')\n",
    "ax.set_title('Lap Time Improvement vs 2024 (-ve is better)')"
   ]
  },
  {
   "cell_type": "code",
   "execution_count": null,
   "id": "287a239d",
   "metadata": {},
   "outputs": [],
   "source": [
    "save_fig(fig=fig, name='team_delta', loc='Reel14')"
   ]
  },
  {
   "cell_type": "code",
   "execution_count": null,
   "id": "9efcdcc1",
   "metadata": {},
   "outputs": [],
   "source": [
    "# Compute 2024 gap relative to fastest team (McLaren)\n",
    "team_delta['2024_gap'] = team_delta['2024'] - team_delta['2024'].min()\n",
    "\n",
    "# Sort by 2025 lap times (ascending = fastest to slowest)\n",
    "team_delta_sorted = team_delta.sort_values('2025')\n",
    "\n",
    "fig, ax = plt.subplots(figsize=(15,8))\n",
    "\n",
    "# Plot bars with baseline = 2024 gap, height = delta, team colors\n",
    "for i, row in team_delta_sorted.iterrows():\n",
    "    ax.bar(\n",
    "        row['Team'],\n",
    "        row['delta'],\n",
    "        bottom=row['2024_gap'],\n",
    "        color=color_dict.get(row['Team'], 'gray')\n",
    "    )\n",
    "    # Add delta text label below each bar\n",
    "    ax.text(\n",
    "        row['Team'],\n",
    "        row['2024_gap'] + row['delta'] - 0.1,   # slightly below bar end\n",
    "        f\"{row['delta']:.2f}s\",\n",
    "        ha='center',\n",
    "        va='top',\n",
    "        color='white',\n",
    "        fontsize=20,\n",
    "        fontweight='bold'\n",
    "    )\n",
    "\n",
    "ax.set_ylim(-2,3)\n",
    "\n",
    "# ax.set_ylabel('Lap Time (s)')\n",
    "ax.set_xlabel('')\n",
    "ax.set_xticks([])\n",
    "ax.set_yticks([])\n",
    "ax.set_title('Lap Time Improvement w.r.t 2024')\n",
    "\n",
    "plt.show()"
   ]
  },
  {
   "cell_type": "code",
   "execution_count": null,
   "id": "3e59cc33",
   "metadata": {},
   "outputs": [],
   "source": [
    "save_fig(fig=fig, name='team_delta', loc='Reel14')"
   ]
  }
 ],
 "metadata": {
  "kernelspec": {
   "display_name": ".venv",
   "language": "python",
   "name": "python3"
  },
  "language_info": {
   "codemirror_mode": {
    "name": "ipython",
    "version": 3
   },
   "file_extension": ".py",
   "mimetype": "text/x-python",
   "name": "python",
   "nbconvert_exporter": "python",
   "pygments_lexer": "ipython3",
   "version": "3.13.5"
  }
 },
 "nbformat": 4,
 "nbformat_minor": 5
}

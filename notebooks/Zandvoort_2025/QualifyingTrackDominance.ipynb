{
 "cells": [
  {
   "cell_type": "code",
   "execution_count": null,
   "id": "0c91ed23",
   "metadata": {},
   "outputs": [],
   "source": [
    "import numpy as np\n",
    "import pandas as pd\n",
    "import fastf1\n",
    "from src.utils import compare_car_speeds, compute_track_dominance_multi, quali_track_evolution\n",
    "from src.plotset import setup_plot, save_fig, plot_track_dominance, plot_quali_track_evolution\n",
    "\n",
    "from fastf1 import plotting\n",
    "import matplotlib.pyplot as plt\n",
    "import seaborn as sns\n",
    "\n",
    "setup_plot()"
   ]
  },
  {
   "cell_type": "code",
   "execution_count": null,
   "id": "faec77e1",
   "metadata": {},
   "outputs": [],
   "source": [
    "fastf1.Cache.enable_cache('./f1_cache')\n",
    "fastf1.Cache.get_cache_info()"
   ]
  },
  {
   "cell_type": "code",
   "execution_count": null,
   "id": "63b581a0",
   "metadata": {},
   "outputs": [],
   "source": [
    "session = fastf1.get_session(2024,15,'Q')\n",
    "session.load()"
   ]
  },
  {
   "cell_type": "code",
   "execution_count": null,
   "id": "752177f7",
   "metadata": {},
   "outputs": [],
   "source": [
    "points, segments, colors = compute_track_dominance_multi(session=session,drivers=['NOR','PIA'],circuit_length=4259,colors_map={'NOR':'#FF8000','PIA':'#FFFFFF'},window_size=100)"
   ]
  },
  {
   "cell_type": "code",
   "execution_count": null,
   "id": "7236a740",
   "metadata": {},
   "outputs": [],
   "source": [
    "fig = plot_track_dominance(points=points, segments=segments, colors=colors,figsize=(12,11))"
   ]
  },
  {
   "cell_type": "code",
   "execution_count": null,
   "id": "0d26463d",
   "metadata": {},
   "outputs": [],
   "source": [
    "save_fig(fig=fig, name='track_dominance', loc='Reel14')"
   ]
  },
  {
   "cell_type": "code",
   "execution_count": null,
   "id": "e1d059de",
   "metadata": {},
   "outputs": [],
   "source": [
    "df = quali_track_evolution(session=session)"
   ]
  },
  {
   "cell_type": "code",
   "execution_count": null,
   "id": "8aea85f7",
   "metadata": {},
   "outputs": [],
   "source": [
    "round(df.Q2.mean() - df.Q1.mean(),1), round(df.Q3.mean() - df.Q2.mean(),1)"
   ]
  },
  {
   "cell_type": "code",
   "execution_count": null,
   "id": "81f4b23c",
   "metadata": {},
   "outputs": [],
   "source": [
    "setup_plot(xyticksize=22,axeslabel=24,figtitle=30)\n",
    "fig = plot_quali_track_evolution(df)"
   ]
  },
  {
   "cell_type": "code",
   "execution_count": null,
   "id": "e6b497ad",
   "metadata": {},
   "outputs": [],
   "source": [
    "save_fig(fig=fig, name='quali_evolution', loc='Reel14')"
   ]
  },
  {
   "cell_type": "code",
   "execution_count": null,
   "id": "fe8cd8f3",
   "metadata": {},
   "outputs": [],
   "source": [
    "corner_inputs = {'low':[12],\n",
    "                 'med':[8],\n",
    "                 'high':[7]}\n",
    "\n",
    "car_perf = compare_car_speeds(session=session, drivers=['NOR','PIA'],corner_inputs=corner_inputs,delta=10)\n",
    "car_perf"
   ]
  },
  {
   "cell_type": "code",
   "execution_count": null,
   "id": "d6d3c133",
   "metadata": {},
   "outputs": [],
   "source": [
    "q2024 = session.results[['Q1','Q2','Q3']].min(axis=1).dt.total_seconds()\n",
    "q2025 = q2024 + pd.Series(np.random.randn(20),index=q2024.index)"
   ]
  },
  {
   "cell_type": "code",
   "execution_count": null,
   "id": "e6ca75ea",
   "metadata": {},
   "outputs": [],
   "source": [
    "q_delta = pd.concat([q2024,q2025],axis=1)"
   ]
  },
  {
   "cell_type": "code",
   "execution_count": null,
   "id": "3e013061",
   "metadata": {},
   "outputs": [],
   "source": [
    "q_delta"
   ]
  },
  {
   "cell_type": "code",
   "execution_count": null,
   "id": "db574e8b",
   "metadata": {},
   "outputs": [],
   "source": [
    "dabb = [session.get_driver(i).Abbreviation for i in q2024.index]\n",
    "\n",
    "q_delta.index = dabb\n",
    "q_delta.columns = ['2024','2025']"
   ]
  },
  {
   "cell_type": "code",
   "execution_count": null,
   "id": "8ba9f499",
   "metadata": {},
   "outputs": [],
   "source": [
    "q_delta"
   ]
  },
  {
   "cell_type": "code",
   "execution_count": null,
   "id": "5aed1ea2",
   "metadata": {},
   "outputs": [],
   "source": [
    "q_delta['delta'] = q_delta['2025'] - q_delta['2024']"
   ]
  },
  {
   "cell_type": "code",
   "execution_count": null,
   "id": "12fb3de1",
   "metadata": {},
   "outputs": [],
   "source": [
    "team_delta = pd.Series([])"
   ]
  },
  {
   "cell_type": "code",
   "execution_count": null,
   "id": "ede89e07",
   "metadata": {},
   "outputs": [],
   "source": [
    "fig, ax = plt.subplots(figsize=(15,8))\n",
    "sns.barplot(data=q_delta,x=q_delta.index,y='delta',hue=q_delta.index,palette=plotting.get_driver_color_mapping(session=session))\n",
    "\n",
    "ax.set_xlabel('')\n",
    "ax.set_ylabel('Lap Time Delta (s)')\n",
    "ax.set_title('Lap Time Improvement vs 2024 (-ve is better)')"
   ]
  }
 ],
 "metadata": {
  "kernelspec": {
   "display_name": ".venv",
   "language": "python",
   "name": "python3"
  },
  "language_info": {
   "codemirror_mode": {
    "name": "ipython",
    "version": 3
   },
   "file_extension": ".py",
   "mimetype": "text/x-python",
   "name": "python",
   "nbconvert_exporter": "python",
   "pygments_lexer": "ipython3",
   "version": "3.13.5"
  }
 },
 "nbformat": 4,
 "nbformat_minor": 5
}

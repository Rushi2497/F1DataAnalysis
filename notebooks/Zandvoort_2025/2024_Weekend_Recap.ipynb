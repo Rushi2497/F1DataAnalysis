{
 "cells": [
  {
   "cell_type": "code",
   "execution_count": null,
   "id": "0c91ed23",
   "metadata": {},
   "outputs": [],
   "source": [
    "import numpy as np\n",
    "import pandas as pd\n",
    "import fastf1\n",
    "from src.utils import get_acc_df, compare_car_speeds\n",
    "from src.plotset import setup_plot\n",
    "\n",
    "from fastf1 import plotting\n",
    "import matplotlib.pyplot as plt\n",
    "import seaborn as sns\n",
    "\n",
    "setup_plot()"
   ]
  },
  {
   "cell_type": "code",
   "execution_count": null,
   "id": "faec77e1",
   "metadata": {},
   "outputs": [],
   "source": [
    "fastf1.Cache.enable_cache('./f1_cache')\n",
    "fastf1.Cache.get_cache_info()"
   ]
  },
  {
   "cell_type": "code",
   "execution_count": null,
   "id": "bfe73e36",
   "metadata": {},
   "outputs": [],
   "source": [
    "session = fastf1.get_session(2024,'Dutch','Q')\n",
    "session.load()"
   ]
  },
  {
   "cell_type": "code",
   "execution_count": null,
   "id": "d1844ad9",
   "metadata": {},
   "outputs": [],
   "source": [
    "low = [9,10,11,12]\n",
    "medium = [1,2,3,4,8,13]\n",
    "high = [5,6,7,14]"
   ]
  },
  {
   "cell_type": "code",
   "execution_count": null,
   "id": "b3126756",
   "metadata": {},
   "outputs": [],
   "source": [
    "drivers = [session.get_driver(i).Abbreviation for i in session.drivers]\n",
    "drivers.remove('ALB')\n",
    "drivers.remove('SAR')"
   ]
  },
  {
   "cell_type": "code",
   "execution_count": null,
   "id": "0d888106",
   "metadata": {},
   "outputs": [],
   "source": [
    "cars_perf =compare_car_speeds(session=session,drivers=drivers,corner_inputs={'low':low,'medium':medium,'high':high})"
   ]
  },
  {
   "cell_type": "code",
   "execution_count": null,
   "id": "aa66d4b6",
   "metadata": {},
   "outputs": [],
   "source": [
    "cars_perf"
   ]
  },
  {
   "cell_type": "code",
   "execution_count": null,
   "id": "efb71e18",
   "metadata": {},
   "outputs": [],
   "source": [
    "from sklearn.preprocessing import MinMaxScaler\n",
    "\n",
    "mms = MinMaxScaler()\n",
    "rel_cars_perf = pd.DataFrame(mms.fit_transform(cars_perf),index=cars_perf.index,columns=cars_perf.columns)"
   ]
  },
  {
   "cell_type": "code",
   "execution_count": null,
   "id": "390de857",
   "metadata": {},
   "outputs": [],
   "source": [
    "rel_cars_perf"
   ]
  },
  {
   "cell_type": "code",
   "execution_count": null,
   "id": "bbbb6151",
   "metadata": {},
   "outputs": [],
   "source": [
    "session = fastf1.get_session(2024,'Dutch','R')\n",
    "session.load()"
   ]
  },
  {
   "cell_type": "code",
   "execution_count": null,
   "id": "b5aa153a",
   "metadata": {},
   "outputs": [],
   "source": [
    "get_acc_df(session=session)"
   ]
  },
  {
   "cell_type": "code",
   "execution_count": null,
   "id": "60481b44",
   "metadata": {},
   "outputs": [],
   "source": [
    "df1 = session.laps.pick_drivers(['NOR']).pick_quicklaps()[['Driver','LapTime','LapNumber','Stint','Compound']]\n",
    "df1['LapTime'] = df1['LapTime'].dt.total_seconds()\n",
    "df1[df1.Compound == 'MEDIUM'].LapTime.mean(), df1[df1.Compound == 'HARD'].LapTime.mean()"
   ]
  },
  {
   "cell_type": "code",
   "execution_count": null,
   "id": "5e13f068",
   "metadata": {},
   "outputs": [],
   "source": [
    "df2 = session.laps.pick_drivers(['VER']).pick_quicklaps()[['Driver','LapTime','LapNumber','Stint','Compound']]\n",
    "df2['LapTime'] = df2['LapTime'].dt.total_seconds()\n",
    "df2[df2.Compound == 'MEDIUM'].LapTime.mean(), df2[df2.Compound == 'HARD'].LapTime.mean()"
   ]
  },
  {
   "cell_type": "code",
   "execution_count": null,
   "id": "2db75420",
   "metadata": {},
   "outputs": [],
   "source": [
    "df1[df1.Compound == 'MEDIUM'].LapTime.mean() - df2[df2.Compound == 'MEDIUM'].LapTime.mean()"
   ]
  },
  {
   "cell_type": "code",
   "execution_count": null,
   "id": "39bc5c08",
   "metadata": {},
   "outputs": [],
   "source": [
    "df1[df1.Compound == 'HARD'].LapTime.mean() - df2[df2.Compound == 'HARD'].LapTime.mean()"
   ]
  },
  {
   "cell_type": "code",
   "execution_count": null,
   "id": "ded30440",
   "metadata": {},
   "outputs": [],
   "source": [
    "setup_plot(xyticksize=24,axeslabel=30)\n",
    "\n",
    "fig, ax = plt.subplots(figsize=(15,7))\n",
    "\n",
    "# ax.set_axis_off()\n",
    "\n",
    "sns.violinplot(df1,x='Driver',y='LapTime',hue='Compound',palette=['#ff8000','#ff8000'],\n",
    "               inner=None,linecolor='w',order=['NOR','VER'],legend=False)\n",
    "sns.stripplot(df1,x='Driver',y='LapTime',hue='Compound',palette=plotting.get_compound_mapping(session)\n",
    "              ,linewidth=1,size=15,edgecolor='k',dodge=True,legend=False)\n",
    "\n",
    "sns.violinplot(df2,x='Driver',y='LapTime',hue='Compound',palette=['#0600ef','#0600ef'],\n",
    "               inner=None,linecolor='w',order=['NOR','VER'],legend=False)\n",
    "sns.stripplot(df2,x='Driver',y='LapTime',hue='Compound',palette=plotting.get_compound_mapping(session)\n",
    "              ,linewidth=1,size=15,edgecolor='k',dodge=True,legend=False)\n",
    "\n",
    "\n",
    "ax.set_ylim(73,78)\n",
    "ax.set_ylabel(\"Lap Time (sec)\")\n",
    "ax.set_xlabel(\"\")\n",
    "\n",
    "ax.grid(visible=False)"
   ]
  },
  {
   "cell_type": "code",
   "execution_count": null,
   "id": "f2937ea6",
   "metadata": {},
   "outputs": [],
   "source": [
    "laps = session.laps\n",
    "drivers = session.drivers\n",
    "drivers = [session.get_driver(i).Abbreviation for i in session.drivers]"
   ]
  },
  {
   "cell_type": "code",
   "execution_count": null,
   "id": "f745b8d2",
   "metadata": {},
   "outputs": [],
   "source": [
    "stints = laps[[\"Driver\", \"Stint\", \"Compound\", \"LapNumber\"]]\n",
    "stints = stints.groupby([\"Driver\", \"Stint\", \"Compound\"])\n",
    "stints = stints.count().reset_index()\n",
    "stints = stints.rename(columns={\"LapNumber\": \"StintLength\"})"
   ]
  },
  {
   "cell_type": "code",
   "execution_count": null,
   "id": "f0403df7",
   "metadata": {},
   "outputs": [],
   "source": [
    "fig, ax = plt.subplots(figsize=(8, 9))\n",
    "\n",
    "for driver in drivers:\n",
    "    driver_stints = stints.loc[stints[\"Driver\"] == driver]\n",
    "\n",
    "    previous_stint_end = 0\n",
    "    for idx, row in driver_stints.iterrows():\n",
    "        # each row contains the compound name and stint length\n",
    "        # we can use these information to draw horizontal bars\n",
    "        compound_color = fastf1.plotting.get_compound_color(row[\"Compound\"],\n",
    "                                                            session=session)\n",
    "        plt.barh(\n",
    "            y=driver,\n",
    "            width=row[\"StintLength\"],\n",
    "            left=previous_stint_end,\n",
    "            color=compound_color,\n",
    "            edgecolor=\"black\",\n",
    "            fill=True\n",
    "        )\n",
    "\n",
    "        previous_stint_end += row[\"StintLength\"]\n",
    "\n",
    "\n",
    "# plt.title(\"2024 Dutch Grand Prix Tire Strategies\")\n",
    "plt.xlabel(\"Lap Number\")\n",
    "plt.grid(False)\n",
    "# invert the y-axis so drivers that finish higher are closer to the top\n",
    "ax.invert_yaxis()\n",
    "\n",
    "ax.spines['top'].set_visible(False)\n",
    "ax.spines['right'].set_visible(False)\n",
    "ax.spines['left'].set_visible(False)\n",
    "\n",
    "plt.tight_layout()\n",
    "plt.show()"
   ]
  }
 ],
 "metadata": {
  "kernelspec": {
   "display_name": ".venv",
   "language": "python",
   "name": "python3"
  },
  "language_info": {
   "codemirror_mode": {
    "name": "ipython",
    "version": 3
   },
   "file_extension": ".py",
   "mimetype": "text/x-python",
   "name": "python",
   "nbconvert_exporter": "python",
   "pygments_lexer": "ipython3",
   "version": "3.13.5"
  }
 },
 "nbformat": 4,
 "nbformat_minor": 5
}

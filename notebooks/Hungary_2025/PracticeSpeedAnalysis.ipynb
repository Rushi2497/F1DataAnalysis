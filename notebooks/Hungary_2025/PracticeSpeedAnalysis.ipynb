{
 "cells": [
  {
   "cell_type": "code",
   "execution_count": null,
   "id": "0c91ed23",
   "metadata": {},
   "outputs": [],
   "source": [
    "import numpy as np\n",
    "import pandas as pd\n",
    "import matplotlib.pyplot as plt\n",
    "import matplotlib as mpl\n",
    "from matplotlib.animation import FuncAnimation\n",
    "from IPython.display import HTML\n",
    "import seaborn as sns\n",
    "import fastf1\n",
    "from src.plotset import setup_plot\n",
    "from fastf1 import plotting\n",
    "import statsmodels.api as sm\n",
    "\n",
    "setup_plot()"
   ]
  },
  {
   "cell_type": "code",
   "execution_count": null,
   "id": "faec77e1",
   "metadata": {},
   "outputs": [],
   "source": [
    "fastf1.Cache.enable_cache('./f1_cache')\n",
    "fastf1.Cache.get_cache_info()"
   ]
  },
  {
   "cell_type": "code",
   "execution_count": null,
   "id": "195fdb12",
   "metadata": {},
   "outputs": [],
   "source": [
    "session = fastf1.get_session(2025,13,'FP1')\n",
    "session.load()"
   ]
  },
  {
   "cell_type": "code",
   "execution_count": null,
   "id": "c343d343",
   "metadata": {},
   "outputs": [],
   "source": [
    "df = session.laps"
   ]
  },
  {
   "cell_type": "code",
   "execution_count": null,
   "id": "d40b06d5",
   "metadata": {},
   "outputs": [],
   "source": [
    "drivers = session.drivers"
   ]
  },
  {
   "cell_type": "code",
   "execution_count": null,
   "id": "2d40c844",
   "metadata": {},
   "outputs": [],
   "source": [
    "speed_dict = {}\n",
    "\n",
    "for driver in drivers:\n",
    "    dabb = session.get_driver(driver).Abbreviation\n",
    "    color = plotting.get_driver_color(identifier=dabb,session=session)\n",
    "    df = session.laps.pick_drivers(dabb).pick_quicklaps()\n",
    "    min_speed, max_speed = [], []\n",
    "    for i, lap in df.iterlaps():\n",
    "        min_speed.append(lap.get_car_data().Speed.min())\n",
    "        max_speed.append(lap.get_car_data().Speed.max())   \n",
    "    speed_dict[session.get_driver(dabb).Abbreviation] = [max(min_speed), max(max_speed), color]"
   ]
  },
  {
   "cell_type": "code",
   "execution_count": null,
   "id": "c980074c",
   "metadata": {},
   "outputs": [],
   "source": [
    "speed_df = pd.DataFrame(speed_dict).T.set_axis(['min_speed','max_speed','color'],axis=1)"
   ]
  },
  {
   "cell_type": "code",
   "execution_count": null,
   "id": "ce8e89c7",
   "metadata": {},
   "outputs": [],
   "source": [
    "# fig, ax = plt.subplots(figsize=(12,6))\n",
    "# sns.scatterplot(data=speed_df, x='min_speed', y='max_speed',hue=speed_df.index,palette=speed_df.color.to_list(),legend=False,s=1000,ax=ax)"
   ]
  },
  {
   "cell_type": "code",
   "execution_count": null,
   "id": "bd5dc313",
   "metadata": {},
   "outputs": [],
   "source": [
    "# --- 1️⃣ Define ceilings (fastest driver speeds) ---\n",
    "min_speed_ceiling = speed_df['min_speed'].max()\n",
    "max_speed_ceiling = speed_df['max_speed'].max()\n",
    "\n",
    "# --- 2️⃣ Calculate negative gaps (driver deficit) ---\n",
    "speed_df['min_gap'] = speed_df['min_speed'] - min_speed_ceiling  # ≤ 0\n",
    "speed_df['max_gap'] = speed_df['max_speed'] - max_speed_ceiling  # ≤ 0\n",
    "\n",
    "# --- 3️⃣ Sort dataframe based on gaps (best performer first) ---\n",
    "speed_df_sorted = speed_df.sort_values(by='min_gap', ascending=False)\n",
    "\n",
    "# ----4️⃣ Sort again for max_gap (might differ from min_gap order) ----\n",
    "speed_df_sorted2 = speed_df.sort_values(by='max_gap', ascending=False)"
   ]
  },
  {
   "cell_type": "code",
   "execution_count": null,
   "id": "525cb9ed",
   "metadata": {},
   "outputs": [],
   "source": [
    "# --- Plotting ---\n",
    "fig, axes = plt.subplots(2, 1, figsize=(15, 10))\n",
    "\n",
    "# ---- Plot 1: Slow corner speed gaps ----\n",
    "axes[0].bar(speed_df_sorted.index,\n",
    "            speed_df_sorted['min_gap'],\n",
    "            color=speed_df_sorted['color'])\n",
    "axes[0].set_ylabel('Δ Speed (km/h)')\n",
    "axes[0].set_title('Gap to Best Slow Corner Speed')\n",
    "axes[0].axhline(-0.05, color='black', linewidth=5)\n",
    "\n",
    "# ---- Plot 2: Straight-line speed gaps ----\n",
    "axes[1].bar(speed_df_sorted2.index,\n",
    "            speed_df_sorted2['max_gap'],\n",
    "            color=speed_df_sorted2['color'])\n",
    "axes[1].set_ylabel('Δ Speed (km/h)')\n",
    "axes[1].set_title('Gap to Best Straight-line Speed')\n",
    "axes[1].axhline(-0.1, color='black', linewidth=5)\n",
    "\n",
    "axes[0].set_xlim(-0.5, len(speed_df_sorted) - 0.5)\n",
    "axes[1].set_xlim(-0.5, len(speed_df_sorted2) - 0.5)\n",
    "\n",
    "plt.tight_layout()\n",
    "plt.show()"
   ]
  }
 ],
 "metadata": {
  "kernelspec": {
   "display_name": ".venv",
   "language": "python",
   "name": "python3"
  },
  "language_info": {
   "codemirror_mode": {
    "name": "ipython",
    "version": 3
   },
   "file_extension": ".py",
   "mimetype": "text/x-python",
   "name": "python",
   "nbconvert_exporter": "python",
   "pygments_lexer": "ipython3",
   "version": "3.13.5"
  }
 },
 "nbformat": 4,
 "nbformat_minor": 5
}

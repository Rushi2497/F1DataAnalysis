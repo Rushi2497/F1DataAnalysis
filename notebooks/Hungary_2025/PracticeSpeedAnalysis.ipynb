{
 "cells": [
  {
   "cell_type": "code",
   "execution_count": null,
   "id": "0c91ed23",
   "metadata": {},
   "outputs": [],
   "source": [
    "import numpy as np\n",
    "import pandas as pd\n",
    "import matplotlib.pyplot as plt\n",
    "import seaborn as sns\n",
    "import fastf1\n",
    "from src.plotset import setup_plot\n",
    "from fastf1 import plotting\n",
    "import matplotlib as mpl\n",
    "from matplotlib.collections import LineCollection\n",
    "\n",
    "setup_plot()"
   ]
  },
  {
   "cell_type": "code",
   "execution_count": null,
   "id": "faec77e1",
   "metadata": {},
   "outputs": [],
   "source": [
    "fastf1.Cache.enable_cache('./f1_cache')\n",
    "fastf1.Cache.get_cache_info()"
   ]
  },
  {
   "cell_type": "code",
   "execution_count": null,
   "id": "195fdb12",
   "metadata": {},
   "outputs": [],
   "source": [
    "session = fastf1.get_session(2025,14,'FP2')\n",
    "session.load()"
   ]
  },
  {
   "cell_type": "code",
   "execution_count": null,
   "id": "d40b06d5",
   "metadata": {},
   "outputs": [],
   "source": [
    "drivers = session.drivers"
   ]
  },
  {
   "cell_type": "code",
   "execution_count": null,
   "id": "f0b7c6ad",
   "metadata": {},
   "outputs": [],
   "source": [
    "tire = 'SOFT'\n",
    "drivers = session.laps.pick_compounds(tire).Driver.unique()"
   ]
  },
  {
   "cell_type": "code",
   "execution_count": null,
   "id": "2d40c844",
   "metadata": {},
   "outputs": [],
   "source": [
    "speed_dict = {}\n",
    "\n",
    "for driver in drivers:\n",
    "    dabb = session.get_driver(driver).Abbreviation\n",
    "    color = plotting.get_driver_color(identifier=dabb,session=session)\n",
    "    df = session.laps.pick_drivers(dabb).pick_quicklaps().pick_compounds(tire)\n",
    "    min_speed, max_speed = [], []\n",
    "    for i, lap in df.iterlaps():\n",
    "        min_speed.append(lap.get_car_data().Speed.min())\n",
    "        max_speed.append(lap.get_car_data().Speed.max())   \n",
    "    speed_dict[session.get_driver(dabb).Abbreviation] = [max(min_speed), max(max_speed), color]"
   ]
  },
  {
   "cell_type": "code",
   "execution_count": null,
   "id": "c980074c",
   "metadata": {},
   "outputs": [],
   "source": [
    "speed_df = pd.DataFrame(speed_dict).T.set_axis(['min_speed','max_speed','color'],axis=1)"
   ]
  },
  {
   "cell_type": "code",
   "execution_count": null,
   "id": "bd5dc313",
   "metadata": {},
   "outputs": [],
   "source": [
    "# --- 1️⃣ Define ceilings (fastest driver speeds) ---\n",
    "min_speed_ceiling = speed_df['min_speed'].max()\n",
    "max_speed_ceiling = speed_df['max_speed'].max()\n",
    "\n",
    "# --- 2️⃣ Calculate negative gaps (driver deficit) ---\n",
    "speed_df['min_gap'] = speed_df['min_speed'] - min_speed_ceiling  # ≤ 0\n",
    "speed_df['max_gap'] = speed_df['max_speed'] - max_speed_ceiling  # ≤ 0\n",
    "\n",
    "# --- 3️⃣ Sort dataframe based on gaps (best performer first) ---\n",
    "speed_df_sorted = speed_df.sort_values(by='min_gap', ascending=False)\n",
    "\n",
    "# ----4️⃣ Sort again for max_gap (might differ from min_gap order) ----\n",
    "speed_df_sorted2 = speed_df.sort_values(by='max_gap', ascending=False)\n",
    "\n",
    "# Top driver in slow speeds\n",
    "best_driver = speed_df_sorted.index[0]\n",
    "best_speed = speed_df_sorted['min_speed'].iloc[0]\n",
    "best_color = speed_df_sorted['color'].iloc[0]\n",
    "\n",
    "# Top driver in straights\n",
    "best_driver2 = speed_df_sorted2.index[0]\n",
    "best_speed2 = speed_df_sorted2['max_speed'].iloc[0]\n",
    "best_color2 = speed_df_sorted2['color'].iloc[0]"
   ]
  },
  {
   "cell_type": "code",
   "execution_count": null,
   "id": "525cb9ed",
   "metadata": {},
   "outputs": [],
   "source": [
    "# --- Plotting ---\n",
    "\n",
    "setup_plot(xyticksize=20,axeslabel=20)\n",
    "\n",
    "fig, axes = plt.subplots(2, 1, figsize=(16, 10))\n",
    "\n",
    "# ---- Plot 1: Slow corner speed gaps ----\n",
    "axes[0].bar(speed_df_sorted.index,\n",
    "            speed_df_sorted['min_gap'],\n",
    "            color=speed_df_sorted['color'])\n",
    "axes[0].set_ylabel('Δ Speed (km/h)')\n",
    "axes[0].set_title('Slow Corner Speed Deficit (compared to Best)')\n",
    "axes[0].axhline(0, color='black', linewidth=10)\n",
    "\n",
    "# ---- Plot 2: Straight-line speed gaps ----\n",
    "axes[1].bar(speed_df_sorted2.index,\n",
    "            speed_df_sorted2['max_gap'],\n",
    "            color=speed_df_sorted2['color'])\n",
    "axes[1].set_ylabel('Δ Speed (km/h)')\n",
    "axes[1].set_title('Straight-line Speed Deficit (compared to Best)')\n",
    "axes[1].axhline(0, color='black', linewidth=10)\n",
    "\n",
    "axes[0].set_xlim(-0.5, len(speed_df_sorted) - 0.5)\n",
    "axes[1].set_xlim(-0.5, len(speed_df_sorted2) - 0.5)\n",
    "\n",
    "axes[0].text(\n",
    "    x=0, y=-0.8,                           # position (x = bar index, y = just below axhline)\n",
    "    s=f\"{best_speed:.0f}\",           # text to display\n",
    "    color=best_color, fontsize=20,\n",
    "    ha='center', va='bottom', fontweight='bold'\n",
    ")\n",
    "\n",
    "axes[1].text(\n",
    "    x=0, y=-1.1,                           # position (x = bar index, y = just below axhline)\n",
    "    s=f\"{best_speed2:.0f}\",           # text to display\n",
    "    color=best_color2, fontsize=20,\n",
    "    ha='center', va='bottom', fontweight='bold'\n",
    ")\n",
    "\n",
    "plt.tight_layout()\n",
    "plt.show()"
   ]
  },
  {
   "cell_type": "code",
   "execution_count": null,
   "id": "31bb2fb9",
   "metadata": {},
   "outputs": [],
   "source": [
    "fig.savefig('speed_analysis.png',dpi=300, bbox_inches='tight')"
   ]
  },
  {
   "cell_type": "code",
   "execution_count": null,
   "id": "09a49a62",
   "metadata": {},
   "outputs": [],
   "source": [
    "lap = session.laps.pick_fastest()"
   ]
  },
  {
   "cell_type": "code",
   "execution_count": null,
   "id": "f30dacfa",
   "metadata": {},
   "outputs": [],
   "source": [
    "x = lap.telemetry['X']\n",
    "y = lap.telemetry['Y']\n",
    "color = lap.telemetry['Speed']"
   ]
  },
  {
   "cell_type": "code",
   "execution_count": null,
   "id": "7776c7e4",
   "metadata": {},
   "outputs": [],
   "source": [
    "import numpy as np\n",
    "\n",
    "theta = np.deg2rad(39.5)  # Convert 45° to radians\n",
    "x_rot = x * np.cos(theta) - y * np.sin(theta)\n",
    "y_rot = x * np.sin(theta) + y * np.cos(theta)"
   ]
  },
  {
   "cell_type": "code",
   "execution_count": null,
   "id": "71b53527",
   "metadata": {},
   "outputs": [],
   "source": [
    "points = np.array([x_rot, y_rot]).T.reshape(-1,1,2)\n",
    "segments = np.concatenate([points[:-1], points[1:]], axis=1)"
   ]
  },
  {
   "cell_type": "code",
   "execution_count": null,
   "id": "818f4f07",
   "metadata": {},
   "outputs": [],
   "source": [
    "fig, ax = plt.subplots(figsize=(12, 10))\n",
    "fig.set_facecolor('#000000')\n",
    "ax.axis('off')\n",
    "ax.plot(x_rot, y_rot,\n",
    "        color='#000000', linestyle='-', linewidth=16, zorder=0)\n",
    "\n",
    "norm = plt.Normalize(color.min(), color.max())\n",
    "colormap = mpl.cm.plasma\n",
    "lc = LineCollection(segments, cmap=colormap, norm=norm,\n",
    "                    linestyle='-', linewidth=10)\n",
    "\n",
    "lc.set_array(color)\n",
    "\n",
    "line = ax.add_collection(lc)\n",
    "\n",
    "cbaxes = fig.add_axes([0.38, 0.5, 0.5, 0.05])\n",
    "normlegend = mpl.colors.Normalize(vmin=color.min(), vmax=color.max())\n",
    "legend = mpl.colorbar.ColorbarBase(cbaxes, norm=normlegend, cmap=colormap,\n",
    "                                   orientation=\"horizontal\")\n",
    "\n",
    "for label in legend.ax.get_xticklabels():\n",
    "    label.set_fontsize(16)\n",
    "    label.set_fontweight('bold')\n",
    "    label.set_color('w')\n",
    "\n",
    "legend.ax.set_title('Speed (kmph)',color='w',fontdict=dict(fontsize=18,fontweight='bold'))\n",
    "plt.tight_layout()\n",
    "plt.show()"
   ]
  }
 ],
 "metadata": {
  "kernelspec": {
   "display_name": ".venv",
   "language": "python",
   "name": "python3"
  },
  "language_info": {
   "codemirror_mode": {
    "name": "ipython",
    "version": 3
   },
   "file_extension": ".py",
   "mimetype": "text/x-python",
   "name": "python",
   "nbconvert_exporter": "python",
   "pygments_lexer": "ipython3",
   "version": "3.13.5"
  }
 },
 "nbformat": 4,
 "nbformat_minor": 5
}

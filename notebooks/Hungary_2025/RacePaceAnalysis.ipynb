{
 "cells": [
  {
   "cell_type": "code",
   "execution_count": null,
   "id": "0c91ed23",
   "metadata": {},
   "outputs": [],
   "source": [
    "import matplotlib.pyplot as plt\n",
    "import seaborn as sns\n",
    "import fastf1\n",
    "from src.plotset import setup_plot\n",
    "from fastf1 import plotting\n",
    "\n",
    "setup_plot()"
   ]
  },
  {
   "cell_type": "code",
   "execution_count": null,
   "id": "faec77e1",
   "metadata": {},
   "outputs": [],
   "source": [
    "fastf1.Cache.enable_cache('./f1_cache')\n",
    "fastf1.Cache.get_cache_info()"
   ]
  },
  {
   "cell_type": "code",
   "execution_count": null,
   "id": "94905e92",
   "metadata": {},
   "outputs": [],
   "source": [
    "session = fastf1.get_session(2025,14,'Race')\n",
    "session.load()"
   ]
  },
  {
   "cell_type": "code",
   "execution_count": null,
   "id": "6263e5fd",
   "metadata": {},
   "outputs": [],
   "source": [
    "drivers = session.results.Abbreviation.values[:5]"
   ]
  },
  {
   "cell_type": "code",
   "execution_count": null,
   "id": "d85634ed",
   "metadata": {},
   "outputs": [],
   "source": [
    "df = session.laps.pick_drivers(drivers).pick_quicklaps()[['Driver','LapTime','LapNumber','Stint','Compound']]\n",
    "df['LapTime'] = df['LapTime'].dt.total_seconds()"
   ]
  },
  {
   "cell_type": "code",
   "execution_count": null,
   "id": "2b446392",
   "metadata": {},
   "outputs": [],
   "source": [
    "plotting.get_team_color('Aston Martin',session)"
   ]
  },
  {
   "cell_type": "code",
   "execution_count": null,
   "id": "99cf01ad",
   "metadata": {},
   "outputs": [],
   "source": [
    "fig, ax = plt.subplots(figsize=(15,8))\n",
    "ax.set_axis_off()\n",
    "sns.boxplot(df,x='Driver',y='LapTime',hue='Driver',palette=plotting.get_driver_color_mapping(session)\n",
    "               ,linecolor='w',order=drivers,legend=False)\n",
    "sns.stripplot(df,x='Driver',y='LapTime',hue='Compound',palette=plotting.get_compound_mapping(session)\n",
    "              ,linewidth=1,size=10,edgecolor='k',dodge=True,legend=False)\n",
    "ax.set_ylim(78,86)\n",
    "ax.grid(visible=False)"
   ]
  },
  {
   "cell_type": "code",
   "execution_count": null,
   "id": "4e8f3ebb",
   "metadata": {},
   "outputs": [],
   "source": [
    "fig.savefig('race_pace_5.png',dpi=300, bbox_inches='tight')"
   ]
  },
  {
   "cell_type": "code",
   "execution_count": null,
   "id": "cb02f2b9",
   "metadata": {},
   "outputs": [],
   "source": []
  }
 ],
 "metadata": {
  "kernelspec": {
   "display_name": ".venv",
   "language": "python",
   "name": "python3"
  },
  "language_info": {
   "codemirror_mode": {
    "name": "ipython",
    "version": 3
   },
   "file_extension": ".py",
   "mimetype": "text/x-python",
   "name": "python",
   "nbconvert_exporter": "python",
   "pygments_lexer": "ipython3",
   "version": "3.13.5"
  }
 },
 "nbformat": 4,
 "nbformat_minor": 5
}

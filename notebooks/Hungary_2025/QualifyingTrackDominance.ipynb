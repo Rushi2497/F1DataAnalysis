{
 "cells": [
  {
   "cell_type": "code",
   "execution_count": null,
   "id": "0c91ed23",
   "metadata": {},
   "outputs": [],
   "source": [
    "import numpy as np\n",
    "import pandas as pd\n",
    "import matplotlib.pyplot as plt\n",
    "from matplotlib.collections import LineCollection\n",
    "import seaborn as sns\n",
    "import fastf1\n",
    "from src.plotset import setup_plot\n",
    "from fastf1 import plotting\n",
    "\n",
    "setup_plot()"
   ]
  },
  {
   "cell_type": "code",
   "execution_count": null,
   "id": "faec77e1",
   "metadata": {},
   "outputs": [],
   "source": [
    "fastf1.Cache.enable_cache('./f1_cache')\n",
    "fastf1.Cache.get_cache_info()"
   ]
  },
  {
   "cell_type": "code",
   "execution_count": null,
   "id": "46f4fa64",
   "metadata": {},
   "outputs": [],
   "source": [
    "session = fastf1.get_session(2025,14,'Q')\n",
    "session.load()"
   ]
  },
  {
   "cell_type": "code",
   "execution_count": null,
   "id": "c2d38f02",
   "metadata": {},
   "outputs": [],
   "source": [
    "q1, q2, q3 = session.laps.split_qualifying_sessions()"
   ]
  },
  {
   "cell_type": "code",
   "execution_count": null,
   "id": "185569f0",
   "metadata": {},
   "outputs": [],
   "source": [
    "df = session.results.iloc[:10][['Q1','Q2','Q3']].copy()\n",
    "df['Q1'] = df['Q1'].dt.total_seconds()\n",
    "df['Q2'] = df['Q2'].dt.total_seconds()\n",
    "df['Q3'] = df['Q3'].dt.total_seconds()"
   ]
  },
  {
   "cell_type": "code",
   "execution_count": null,
   "id": "0d97b097",
   "metadata": {},
   "outputs": [],
   "source": [
    "# df = pd.DataFrame({'Q1':q1.pick_quicklaps().LapTime.dt.total_seconds(),\n",
    "#                    'Q2':q2.pick_quicklaps().LapTime.dt.total_seconds(),\n",
    "#                    'Q3':q3.pick_quicklaps().LapTime.dt.total_seconds()})"
   ]
  },
  {
   "cell_type": "code",
   "execution_count": null,
   "id": "453d9cc9",
   "metadata": {},
   "outputs": [],
   "source": [
    "setup_plot(xyticksize=20,axeslabel=22,figtitle=24,)\n",
    "fig, ax = plt.subplots(figsize=(15,8))\n",
    "sns.violinplot(data=df,inner=None,palette='Set1',width=0.5,ax=ax)\n",
    "sns.swarmplot(data=df,size=20,linewidth=3,edgecolor='k',palette='Set1',ax=ax)\n",
    "\n",
    "ax.set_title('(Top 10) Lap Time Evolution: Q1 --> Q3')\n",
    "ax.set_ylabel('Lap Times (sec)')\n",
    "ax.set_ylim(74.5, 76.25)"
   ]
  },
  {
   "cell_type": "code",
   "execution_count": null,
   "id": "ab3f8945",
   "metadata": {},
   "outputs": [],
   "source": [
    "df.Q1.mean(), df.Q2.mean(),df.Q3.mean()"
   ]
  },
  {
   "cell_type": "code",
   "execution_count": null,
   "id": "046eaa0b",
   "metadata": {},
   "outputs": [],
   "source": [
    "fig.savefig('track_evolution.png',dpi=300, bbox_inches='tight')"
   ]
  },
  {
   "cell_type": "code",
   "execution_count": null,
   "id": "9a322e8c",
   "metadata": {},
   "outputs": [],
   "source": [
    "lec_color = plotting.get_driver_color(session=session,identifier='LEC')\n",
    "pia_color = plotting.get_driver_color(session=session,identifier='PIA')"
   ]
  },
  {
   "cell_type": "code",
   "execution_count": null,
   "id": "44f682d9",
   "metadata": {},
   "outputs": [],
   "source": [
    "lec_df = session.laps.pick_drivers('LEC').pick_fastest().telemetry[['Time','Distance','X','Y','Speed']].copy()\n",
    "pia_df = session.laps.pick_drivers('PIA').pick_fastest().telemetry[['Time','Distance','X','Y','Speed']].copy()"
   ]
  },
  {
   "cell_type": "code",
   "execution_count": null,
   "id": "049f71be",
   "metadata": {},
   "outputs": [],
   "source": [
    "lec_df['Seconds'] = lec_df['Time'].dt.total_seconds()\n",
    "pia_df['Seconds'] = pia_df['Time'].dt.total_seconds()"
   ]
  },
  {
   "cell_type": "code",
   "execution_count": null,
   "id": "f8e561ed",
   "metadata": {},
   "outputs": [],
   "source": [
    "min_dist = max(pia_df['Distance'].min(), lec_df['Distance'].min())\n",
    "max_dist = min(pia_df['Distance'].max(), lec_df['Distance'].max())\n",
    "\n",
    "distance_grid = np.linspace(min_dist, max_dist, num=1000)"
   ]
  },
  {
   "cell_type": "code",
   "execution_count": null,
   "id": "ac21a433",
   "metadata": {},
   "outputs": [],
   "source": [
    "# Interpolated cumulative time\n",
    "lec_time = np.interp(distance_grid, lec_df['Distance'], lec_df['Seconds'])\n",
    "pia_time = np.interp(distance_grid, pia_df['Distance'], pia_df['Seconds'])\n",
    "\n",
    "# X, Y positions\n",
    "lec_x = np.interp(distance_grid, lec_df['Distance'], lec_df['X'])\n",
    "lec_y = np.interp(distance_grid, lec_df['Distance'], lec_df['Y'])\n",
    "pia_x = np.interp(distance_grid, pia_df['Distance'], pia_df['X'])\n",
    "pia_y = np.interp(distance_grid, pia_df['Distance'], pia_df['Y'])\n",
    "\n",
    "# Speed\n",
    "lec_speed = np.interp(distance_grid, lec_df['Distance'], lec_df['Speed'])\n",
    "pia_speed = np.interp(distance_grid, pia_df['Distance'], pia_df['Speed'])"
   ]
  },
  {
   "cell_type": "code",
   "execution_count": null,
   "id": "e3c2e29d",
   "metadata": {},
   "outputs": [],
   "source": [
    "delta = pia_speed - lec_speed  # Negative -> Piastri faster\n",
    "\n",
    "# Assign colors\n",
    "colors = np.where(delta > 0, pia_color, lec_color)"
   ]
  },
  {
   "cell_type": "code",
   "execution_count": null,
   "id": "6e4510dd",
   "metadata": {},
   "outputs": [],
   "source": [
    "# Interpolated positions\n",
    "x = (lec_x + pia_x) / 2\n",
    "y = (lec_y + pia_y) / 2\n",
    "\n",
    "theta = np.deg2rad(39.5)  # Convert 45° to radians\n",
    "x_rot = x * np.cos(theta) - y * np.sin(theta)\n",
    "y_rot = x * np.sin(theta) + y * np.cos(theta)"
   ]
  },
  {
   "cell_type": "code",
   "execution_count": null,
   "id": "8a7d6452",
   "metadata": {},
   "outputs": [],
   "source": [
    "points = np.array([x_rot, y_rot]).T.reshape(-1,1,2)\n",
    "segments = np.concatenate([points[:-1], points[1:]], axis=1)"
   ]
  },
  {
   "cell_type": "code",
   "execution_count": null,
   "id": "8ea2832c",
   "metadata": {},
   "outputs": [],
   "source": [
    "import matplotlib.patches as mpatches\n",
    "\n",
    "# Create legend handles manually\n",
    "pia_patch = mpatches.Patch(color=pia_color, label='Piastri faster')\n",
    "lec_patch = mpatches.Patch(color=lec_color, label='Leclerc faster')"
   ]
  },
  {
   "cell_type": "code",
   "execution_count": null,
   "id": "5d1c87b9",
   "metadata": {},
   "outputs": [],
   "source": [
    "fig, ax = plt.subplots(figsize=(12, 10))\n",
    "fig.set_facecolor('#000000')\n",
    "ax.axis('off')\n",
    "\n",
    "# Color per segment (drop last color to match segments length)\n",
    "lc = LineCollection(segments, colors=colors[:-1], linewidth=16)\n",
    "\n",
    "ax.add_collection(lc)\n",
    "ax.autoscale()\n",
    "\n",
    "# Add legend to your axes\n",
    "ax.legend(handles=[lec_patch, pia_patch],\n",
    "          loc='best',  # or any location you prefer\n",
    "          bbox_to_anchor=(1,1),\n",
    "          frameon=True,\n",
    "          facecolor='k',\n",
    "          fontsize=20,\n",
    "          labelcolor='white')\n",
    "\n",
    "plt.tight_layout()\n",
    "plt.show()"
   ]
  },
  {
   "cell_type": "code",
   "execution_count": null,
   "id": "4282c206",
   "metadata": {},
   "outputs": [],
   "source": [
    "fig.savefig('track_dominance.png',dpi=300, bbox_inches='tight')"
   ]
  }
 ],
 "metadata": {
  "kernelspec": {
   "display_name": ".venv",
   "language": "python",
   "name": "python3"
  },
  "language_info": {
   "codemirror_mode": {
    "name": "ipython",
    "version": 3
   },
   "file_extension": ".py",
   "mimetype": "text/x-python",
   "name": "python",
   "nbconvert_exporter": "python",
   "pygments_lexer": "ipython3",
   "version": "3.13.5"
  }
 },
 "nbformat": 4,
 "nbformat_minor": 5
}

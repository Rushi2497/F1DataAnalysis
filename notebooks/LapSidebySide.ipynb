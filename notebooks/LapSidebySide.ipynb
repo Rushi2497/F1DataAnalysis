{
 "cells": [
  {
   "cell_type": "code",
   "execution_count": null,
   "id": "0c91ed23",
   "metadata": {},
   "outputs": [],
   "source": [
    "import numpy as np\n",
    "import pandas as pd\n",
    "import matplotlib.pyplot as plt\n",
    "import fastf1\n",
    "from fastf1 import plotting\n",
    "from matplotlib.animation import FuncAnimation\n",
    "from IPython.display import HTML\n",
    "from matplotlib import rcParams"
   ]
  },
  {
   "cell_type": "code",
   "execution_count": null,
   "id": "faec77e1",
   "metadata": {},
   "outputs": [],
   "source": [
    "fastf1.Cache.enable_cache('./f1_cache')\n",
    "fastf1.Cache.get_cache_info()"
   ]
  },
  {
   "cell_type": "code",
   "execution_count": null,
   "id": "191b88ed",
   "metadata": {},
   "outputs": [],
   "source": [
    "session = fastf1.get_session(2025, 13, 'Qualifying')\n",
    "session.load()"
   ]
  },
  {
   "cell_type": "code",
   "execution_count": null,
   "id": "35b3924b",
   "metadata": {},
   "outputs": [],
   "source": [
    "pia_color = plotting.get_driver_color(session=session,identifier='PIA')\n",
    "nor_color = 'yellow'"
   ]
  },
  {
   "cell_type": "code",
   "execution_count": null,
   "id": "cf982a1d",
   "metadata": {},
   "outputs": [],
   "source": [
    "nor_df = pd.DataFrame(session.laps.pick_drivers('NOR').pick_fastest().telemetry[['Time','Distance','X','Y','Speed','nGear','Throttle','Brake']]).copy()\n",
    "pia_df = pd.DataFrame(session.laps.pick_drivers('PIA').pick_fastest().telemetry[['Time','Distance','X','Y','Speed','nGear','Throttle','Brake']]).copy()"
   ]
  },
  {
   "cell_type": "code",
   "execution_count": null,
   "id": "8efea528",
   "metadata": {},
   "outputs": [],
   "source": [
    "nor_df['RelTime'] = nor_df['Time'].dt.total_seconds()\n",
    "nor_df.drop('Time',axis=1,inplace=True)\n",
    "nor_df['Brake'] = nor_df['Brake'].apply(lambda x: 1 if x else 0)\n",
    "pia_df['RelTime'] = pia_df['Time'].dt.total_seconds()\n",
    "pia_df.drop('Time',axis=1,inplace=True)\n",
    "pia_df['Brake'] = pia_df['Brake'].apply(lambda x: 1 if x else 0)"
   ]
  },
  {
   "cell_type": "code",
   "execution_count": null,
   "id": "1d23ea45",
   "metadata": {},
   "outputs": [],
   "source": [
    "# Create common distance base\n",
    "common_distance = np.linspace(\n",
    "    0,\n",
    "    min(nor_df['Distance'].max(), pia_df['Distance'].max()),\n",
    "    7000\n",
    ")"
   ]
  },
  {
   "cell_type": "code",
   "execution_count": null,
   "id": "d335c556",
   "metadata": {},
   "outputs": [],
   "source": [
    "def interpolate_on_distance(df, common_distance):\n",
    "    df = df.copy()\n",
    "\n",
    "    # Prepare output\n",
    "    interp_df = pd.DataFrame({'Distance': common_distance})\n",
    "\n",
    "    # Interpolate each column\n",
    "    for col in ['X', 'Y', 'Speed', 'RelTime', 'nGear', 'Throttle', 'Brake']:\n",
    "        interp_df[col] = np.interp(\n",
    "            common_distance,\n",
    "            df['Distance'],\n",
    "            pd.to_numeric(df[col])\n",
    "        )\n",
    "\n",
    "    return interp_df"
   ]
  },
  {
   "cell_type": "code",
   "execution_count": null,
   "id": "9439de96",
   "metadata": {},
   "outputs": [],
   "source": [
    "nor_interp_dist = interpolate_on_distance(nor_df,common_distance)\n",
    "pia_interp_dist = interpolate_on_distance(pia_df,common_distance)"
   ]
  },
  {
   "cell_type": "code",
   "execution_count": null,
   "id": "44ee45f6",
   "metadata": {},
   "outputs": [],
   "source": [
    "nor_interp_dist['X'] = (nor_interp_dist['X'] + pia_interp_dist['X'])/2\n",
    "pia_interp_dist['X'] = (nor_interp_dist['X'] + pia_interp_dist['X'])/2\n",
    "\n",
    "nor_interp_dist['Y'] = (nor_interp_dist['Y'] + pia_interp_dist['Y'])/2\n",
    "pia_interp_dist['Y'] = (nor_interp_dist['Y'] + pia_interp_dist['Y'])/2"
   ]
  },
  {
   "cell_type": "code",
   "execution_count": null,
   "id": "fda4f9ee",
   "metadata": {},
   "outputs": [],
   "source": [
    "# Create common time base\n",
    "common_time = np.linspace(\n",
    "    0,\n",
    "    min(nor_df['RelTime'].max(), pia_df['RelTime'].max()),\n",
    "    7000\n",
    ")"
   ]
  },
  {
   "cell_type": "code",
   "execution_count": null,
   "id": "93e0febe",
   "metadata": {},
   "outputs": [],
   "source": [
    "def interpolate_on_time(df, common_time):\n",
    "    df = df.copy()\n",
    "\n",
    "    # Prepare output\n",
    "    interp_df = pd.DataFrame({'RelTime': common_time})\n",
    "\n",
    "    # Interpolate each column\n",
    "    for col in ['X', 'Y', 'Speed', 'Distance', 'nGear', 'Throttle', 'Brake']:\n",
    "        interp_df[col] = np.interp(\n",
    "            common_time,\n",
    "            df['RelTime'],\n",
    "            pd.to_numeric(df[col])\n",
    "        )\n",
    "\n",
    "    return interp_df"
   ]
  },
  {
   "cell_type": "code",
   "execution_count": null,
   "id": "28676ab7",
   "metadata": {},
   "outputs": [],
   "source": [
    "nor_interp_time = interpolate_on_time(nor_interp_dist,common_time)\n",
    "pia_interp_time = interpolate_on_time(pia_interp_dist,common_time)"
   ]
  },
  {
   "cell_type": "code",
   "execution_count": null,
   "id": "e981c0a4",
   "metadata": {},
   "outputs": [],
   "source": [
    "def smooth_relative_to_anchor(anchor_df, target_df, window=5):\n",
    "    \"\"\"\n",
    "    Smooth target_df's X and Y coordinates relative to anchor_df's position.\n",
    "    \n",
    "    Parameters:\n",
    "        anchor_df: DataFrame with 'X', 'Y' columns (anchor car)\n",
    "        target_df: DataFrame with 'X', 'Y' columns (car to smooth)\n",
    "        window: Window size for rolling average\n",
    "    \n",
    "    Returns:\n",
    "        target_smoothed_df: DataFrame with smoothed 'X', 'Y'\n",
    "    \"\"\"\n",
    "    # Ensure alignment by index\n",
    "    assert len(anchor_df) == len(target_df), \"DataFrames must have same length\"\n",
    "\n",
    "    # Step 1: Compute deltas\n",
    "    delta_x = target_df['X'] - anchor_df['X']\n",
    "    delta_y = target_df['Y'] - anchor_df['Y']\n",
    "\n",
    "    # Step 2: Smooth deltas\n",
    "    delta_x_smooth = delta_x.rolling(window, center=True, min_periods=1).mean()\n",
    "    delta_y_smooth = delta_y.rolling(window, center=True, min_periods=1).mean()\n",
    "\n",
    "    # Step 3: Add back to anchor\n",
    "    target_smoothed = target_df.copy()\n",
    "    target_smoothed['X'] = anchor_df['X'] + delta_x_smooth\n",
    "    target_smoothed['Y'] = anchor_df['Y'] + delta_y_smooth\n",
    "\n",
    "    return target_smoothed"
   ]
  },
  {
   "cell_type": "code",
   "execution_count": null,
   "id": "4b14f526",
   "metadata": {},
   "outputs": [],
   "source": [
    "nor_interp_time = smooth_relative_to_anchor(pia_interp_time,nor_interp_time,window=150)"
   ]
  },
  {
   "cell_type": "code",
   "execution_count": null,
   "id": "81542be1",
   "metadata": {},
   "outputs": [],
   "source": [
    "# Set animation size limit\n",
    "rcParams['animation.embed_limit'] = 500"
   ]
  },
  {
   "cell_type": "code",
   "execution_count": null,
   "id": "da3b1b53",
   "metadata": {},
   "outputs": [],
   "source": [
    "# --- Set Up Plot ---\n",
    "fig, ax = plt.subplots(figsize=(10, 8))\n",
    "fig.set_facecolor('#333333')\n",
    "ax.set_title('Qualifying Lap Comparison (VER vs PIA)', fontsize=14)\n",
    "ax.set_xlabel('X')\n",
    "ax.set_ylabel('Y')\n",
    "ax.axis('off')\n",
    "\n",
    "# Base track\n",
    "ax.plot(nor_interp_dist['X'], nor_interp_dist['Y'], 'k', linewidth=18, zorder=0)\n",
    "\n",
    "# Moving markers and trails\n",
    "nor_marker, = ax.plot([], [], marker='o', color=nor_color, ms=10, label='NOR')\n",
    "pia_marker, = ax.plot([], [], marker='o', color=pia_color, ms=10, label='PIA')\n",
    "nor_trail, = ax.plot([], [], color=nor_color, lw=1)\n",
    "pia_trail, = ax.plot([], [], color=pia_color, lw=1)\n",
    "\n",
    "# # Text box for metrics\n",
    "# text_box = ax.text(\n",
    "#     0.05, 0.95, '', transform=ax.transAxes,\n",
    "#     fontsize=11, verticalalignment='top',\n",
    "#     bbox=dict(facecolor='white', alpha=0.8)\n",
    "# )\n",
    "\n",
    "# --- Animation Function ---\n",
    "def animate(i):\n",
    "    nor_seg = nor_interp_time.iloc[:i+1]\n",
    "    pia_seg = pia_interp_time.iloc[:i+1]\n",
    "\n",
    "    # Marker positions\n",
    "    nor_marker.set_data([nor_seg['X'].iloc[-1]], [nor_seg['Y'].iloc[-1]])\n",
    "    pia_marker.set_data([pia_seg['X'].iloc[-1]], [pia_seg['Y'].iloc[-1]])\n",
    "\n",
    "    # Get latest positions\n",
    "    pia_x = pia_seg['X'].iloc[-1]\n",
    "    pia_y = pia_seg['Y'].iloc[-1]\n",
    "\n",
    "    # Compute center and margin\n",
    "    center_x = pia_x\n",
    "    center_y = pia_y\n",
    "\n",
    "    # Dynamic margin (meters)\n",
    "    margin = 2500  # Adjust based on your track scale\n",
    "\n",
    "    # Set axis limits\n",
    "    ax.set_xlim(center_x - margin, center_x + margin)\n",
    "    ax.set_ylim(center_y - margin, center_y + margin)\n",
    "\n",
    "    # Trails\n",
    "    trail_len = 500  # or 100\n",
    "    nor_trail.set_data(nor_seg['X'].iloc[-trail_len:], nor_seg['Y'].iloc[-trail_len:])\n",
    "    pia_trail.set_data(pia_seg['X'].iloc[-trail_len:], pia_seg['Y'].iloc[-trail_len:])\n",
    "\n",
    "    # # Distances\n",
    "    # ver_seg_dist = ver_seg['Distance'].diff().fillna(0)\n",
    "    # pia_seg_dist = pia_seg['Distance'].diff().fillna(0)\n",
    "\n",
    "    # ver_total_dist = ver_seg['Distance'].iloc[-1]\n",
    "    # pia_total_dist = pia_seg['Distance'].iloc[-1]\n",
    "\n",
    "    # # % Full Throttle\n",
    "    # ver_throttle_dist = ver_seg_dist[ver_seg['Throttle'] == 100].sum()\n",
    "    # pia_throttle_dist = pia_seg_dist[pia_seg['Throttle'] == 100].sum()\n",
    "    # ver_throttle_pct = (ver_throttle_dist / ver_total_dist) * 100 if ver_total_dist else 0\n",
    "    # pia_throttle_pct = (pia_throttle_dist / pia_total_dist) * 100 if pia_total_dist else 0\n",
    "\n",
    "    # # % Brake\n",
    "    # ver_brake_dist = ver_seg_dist[ver_seg['Brake'] == True].sum()\n",
    "    # pia_brake_dist = pia_seg_dist[pia_seg['Brake'] == True].sum()\n",
    "    # ver_brake_pct = (ver_brake_dist / ver_total_dist) * 100 if ver_total_dist else 0\n",
    "    # pia_brake_pct = (pia_brake_dist / pia_total_dist) * 100 if pia_total_dist else 0\n",
    "\n",
    "    # # Gearshifts\n",
    "    # ver_gearshifts = ver_seg['nGear'].diff().fillna(0).ne(0).sum()\n",
    "    # pia_gearshifts = pia_seg['nGear'].diff().fillna(0).ne(0).sum()\n",
    "\n",
    "    # # Speeds\n",
    "    # ver_speed = ver_seg['Speed'].iloc[-1]\n",
    "    # pia_speed = pia_seg['Speed'].iloc[-1]\n",
    "\n",
    "    # # Update text\n",
    "    # text_box.set_text(\n",
    "    #     f\"VER  | Throttle: {ver_throttle_pct:.1f}% | Brake: {ver_brake_pct:.1f}% | Gearshifts: {ver_gearshifts} | Speed: {ver_speed:.1f} km/h\\n\"\n",
    "    #     f\"PIA  | Throttle: {pia_throttle_pct:.1f}% | Brake: {pia_brake_pct:.1f}% | Gearshifts: {pia_gearshifts} | Speed: {pia_speed:.1f} km/h\"\n",
    "    # )\n",
    "\n",
    "    return nor_marker, pia_marker, nor_trail, pia_trail #, text_box\n",
    "\n",
    "# --- Run Animation ---\n",
    "ani = FuncAnimation(fig, animate, frames=len(common_time), interval=20, blit=True, repeat=False)\n",
    "\n",
    "# Optional: save\n",
    "# ani.save(\"qualifying_comparison.mp4\", fps=30, dpi=200)\n",
    "\n",
    "plt.legend()\n",
    "plt.tight_layout()\n",
    "HTML(ani.to_jshtml())"
   ]
  },
  {
   "cell_type": "code",
   "execution_count": null,
   "id": "c312b210",
   "metadata": {},
   "outputs": [],
   "source": []
  }
 ],
 "metadata": {
  "kernelspec": {
   "display_name": ".venv",
   "language": "python",
   "name": "python3"
  },
  "language_info": {
   "codemirror_mode": {
    "name": "ipython",
    "version": 3
   },
   "file_extension": ".py",
   "mimetype": "text/x-python",
   "name": "python",
   "nbconvert_exporter": "python",
   "pygments_lexer": "ipython3",
   "version": "3.13.5"
  }
 },
 "nbformat": 4,
 "nbformat_minor": 5
}

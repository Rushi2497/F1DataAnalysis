{
 "cells": [
  {
   "cell_type": "code",
   "execution_count": null,
   "id": "0c91ed23",
   "metadata": {},
   "outputs": [],
   "source": [
    "import numpy as np\n",
    "import pandas as pd\n",
    "import fastf1\n",
    "from src.utils import compute_track_dominance_multi\n",
    "from src.plotset import setup_plot, save_fig, plot_track_dominance\n",
    "\n",
    "from fastf1 import plotting\n",
    "import matplotlib.pyplot as plt\n",
    "\n",
    "setup_plot()"
   ]
  },
  {
   "cell_type": "code",
   "execution_count": null,
   "id": "faec77e1",
   "metadata": {},
   "outputs": [],
   "source": [
    "fastf1.Cache.enable_cache('./f1_cache')\n",
    "fastf1.Cache.get_cache_info()"
   ]
  },
  {
   "cell_type": "code",
   "execution_count": null,
   "id": "09e5979c",
   "metadata": {},
   "outputs": [],
   "source": [
    "session = fastf1.get_session(2025,17,'Q')\n",
    "session.load()"
   ]
  },
  {
   "cell_type": "code",
   "execution_count": null,
   "id": "870a5b48",
   "metadata": {},
   "outputs": [],
   "source": [
    "points, segments, colors = compute_track_dominance_multi(session=session,drivers=['VER','SAI'],circuit_length=6003,window_size=600)"
   ]
  },
  {
   "cell_type": "code",
   "execution_count": null,
   "id": "9353e2af",
   "metadata": {},
   "outputs": [],
   "source": [
    "fig = plot_track_dominance(points,segments,colors, figsize=(12,8))"
   ]
  },
  {
   "cell_type": "code",
   "execution_count": null,
   "id": "7a98ddbd",
   "metadata": {},
   "outputs": [],
   "source": [
    "save_fig(fig=fig,name='track_dominance',loc='Reel21')"
   ]
  },
  {
   "cell_type": "code",
   "execution_count": null,
   "id": "5ed382d8",
   "metadata": {},
   "outputs": [],
   "source": [
    "corners = session.get_circuit_info().corners\n",
    "rotation = session.get_circuit_info().rotation"
   ]
  },
  {
   "cell_type": "code",
   "execution_count": null,
   "id": "2de29ca7",
   "metadata": {},
   "outputs": [],
   "source": [
    "corners.loc[19,'Distance'] = 4800"
   ]
  },
  {
   "cell_type": "code",
   "execution_count": null,
   "id": "6de83cae",
   "metadata": {},
   "outputs": [],
   "source": [
    "ref_lap = session.laps.pick_drivers('VER').pick_fastest().get_telemetry().copy()\n",
    "comp_lap = session.laps.pick_drivers('SAI').pick_fastest().get_telemetry().copy()"
   ]
  },
  {
   "cell_type": "code",
   "execution_count": null,
   "id": "a9f9eed5",
   "metadata": {},
   "outputs": [],
   "source": [
    "mult = ref_lap.Distance.iloc[-1]/comp_lap.Distance.iloc[-1]"
   ]
  },
  {
   "cell_type": "code",
   "execution_count": null,
   "id": "e97d77cc",
   "metadata": {},
   "outputs": [],
   "source": [
    "ref_dist = ref_lap.Distance.to_numpy()\n",
    "ref_time = ref_lap.Time.dt.total_seconds().to_numpy()\n",
    "comp_dist = (comp_lap.Distance * mult).to_numpy()\n",
    "comp_time = comp_lap.Time.dt.total_seconds().to_numpy()"
   ]
  },
  {
   "cell_type": "code",
   "execution_count": null,
   "id": "3aaa8887",
   "metadata": {},
   "outputs": [],
   "source": [
    "comp_time = np.interp(ref_dist, comp_dist, comp_time)"
   ]
  },
  {
   "cell_type": "code",
   "execution_count": null,
   "id": "0db73b7c",
   "metadata": {},
   "outputs": [],
   "source": [
    "delta = comp_time - ref_time"
   ]
  },
  {
   "cell_type": "code",
   "execution_count": null,
   "id": "c7255f20",
   "metadata": {},
   "outputs": [],
   "source": [
    "setup_plot(axeslabel=24, figtitle=28, legendfont=22)\n",
    "\n",
    "fig, ax = plt.subplots(2,1,figsize=(15,12),height_ratios=[0.7,0.3],sharex=True)\n",
    "ax[0].plot(ref_lap['Distance'],ref_lap['Speed'],color=\"#0004FF\",linewidth=3, label='VERSTAPPEN')\n",
    "ax[0].plot(comp_lap['Distance'],comp_lap['Speed'],color=\"#008CFF\",linewidth=3, label='SAINZ')\n",
    "\n",
    "ax[0].vlines(x=corners['Distance'], ymin=0, ymax=380,\n",
    "          linestyles='dotted', colors='grey')\n",
    "for _, corner in corners.iterrows():\n",
    "    txt = f\"{corner['Number']}{corner['Letter']}\"\n",
    "    ax[0].text(corner['Distance'], 390, txt,\n",
    "            va='center_baseline', ha='center', size=12, color=\"#00FF0D\")\n",
    "\n",
    "# ax[0].set_title('Speed Trace', pad=30)\n",
    "ax[0].set_xlim(ref_dist[0],ref_dist[-1])\n",
    "ax[0].set_ylim(0, 400)\n",
    "ax[0].set_ylabel('Speed (km/h)')\n",
    "ax[0].legend()\n",
    "ax[0].grid(visible=False)\n",
    "ax02 = ax[0].twinx()\n",
    "ax02.set_yticks([])\n",
    "ax02.set_ylabel('BK',color=\"#292929\",labelpad=30)\n",
    "\n",
    "ax[1].plot(ref_lap['Distance'],delta,ls='--',lw=3,color='w')\n",
    "ax[1].axhline(y=0,lw=1,ls='--',color=\"#FFFFFF\")\n",
    "\n",
    "ax[1].vlines(x=corners['Distance'], ymin=-0.6, ymax=0.6,\n",
    "          linestyles='dotted', colors='grey')\n",
    "\n",
    "ax[1].fill_between(x=(ref_dist[0],ref_dist[-1]),y1=0,y2=0.6,color='#0004FF',alpha=0.2)\n",
    "ax[1].fill_between(x=(ref_dist[0],ref_dist[-1]),y1=-0.6,y2=0,color='#008CFF',alpha=0.2)\n",
    "\n",
    "# ax[1].set_title('Lap Time Delta')\n",
    "ax[1].set_xlim(ref_dist[0],ref_dist[-1])\n",
    "ax[1].set_ylim(-0.6,0.6)\n",
    "ax[1].set_ylabel('Delta (sec)')\n",
    "ax[1].set_xlabel('Lap Distance (m)')\n",
    "ax[1].grid(visible=False)\n",
    "\n",
    "fig.align_labels(axs=ax)"
   ]
  },
  {
   "cell_type": "code",
   "execution_count": null,
   "id": "2b981b2a",
   "metadata": {},
   "outputs": [],
   "source": [
    "save_fig(fig=fig,name='telemetry',loc='Reel21')"
   ]
  },
  {
   "cell_type": "code",
   "execution_count": null,
   "id": "423e109a",
   "metadata": {},
   "outputs": [],
   "source": [
    "setup_plot(axeslabel=24, figtitle=28, legendfont=22)\n",
    "\n",
    "fig, ax = plt.subplots(figsize=(15,8))\n",
    "\n",
    "ax.vlines(x=corners['Distance'], ymin=-0.6, ymax=0.55,\n",
    "          linestyles='dotted', colors='grey')\n",
    "\n",
    "ax.plot(ref_lap['Distance'],delta,ls='--',lw=3,color='w')\n",
    "ax.axhline(y=0,lw=1,ls='--',color=\"#FFFFFF\")\n",
    "\n",
    "ax.fill_between(x=(ref_dist[0],ref_dist[-1]),y1=0,y2=0.6,color='#0004FF',alpha=0.2)\n",
    "ax.fill_between(x=(ref_dist[0],ref_dist[-1]),y1=-0.6,y2=0,color='#008CFF',alpha=0.2)\n",
    "\n",
    "# ax.set_title('Lap Time Delta')\n",
    "ax.set_xlim(ref_dist[0],ref_dist[-1])\n",
    "ax.set_ylim(-0.6,0.6)\n",
    "ax.set_ylabel('Delta (sec)')\n",
    "ax.set_xlabel('Lap Distance (m)')\n",
    "ax.grid(visible=False)\n",
    "\n",
    "fig.align_labels(axs=ax)"
   ]
  },
  {
   "cell_type": "code",
   "execution_count": null,
   "id": "f25bbdb8",
   "metadata": {},
   "outputs": [],
   "source": [
    "save_fig(fig=fig,name='delta',loc='Reel21')"
   ]
  }
 ],
 "metadata": {
  "kernelspec": {
   "display_name": ".venv",
   "language": "python",
   "name": "python3"
  },
  "language_info": {
   "codemirror_mode": {
    "name": "ipython",
    "version": 3
   },
   "file_extension": ".py",
   "mimetype": "text/x-python",
   "name": "python",
   "nbconvert_exporter": "python",
   "pygments_lexer": "ipython3",
   "version": "3.13.5"
  }
 },
 "nbformat": 4,
 "nbformat_minor": 5
}

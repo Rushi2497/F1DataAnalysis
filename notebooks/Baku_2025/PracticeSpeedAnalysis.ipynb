{
 "cells": [
  {
   "cell_type": "code",
   "execution_count": null,
   "id": "0c91ed23",
   "metadata": {},
   "outputs": [],
   "source": [
    "import numpy as np\n",
    "import pandas as pd\n",
    "import fastf1\n",
    "from src.utils import compare_car_speeds\n",
    "from src.plotset import setup_plot, save_fig\n",
    "\n",
    "from fastf1 import plotting\n",
    "import matplotlib.pyplot as plt\n",
    "from matplotlib.collections import LineCollection\n",
    "\n",
    "setup_plot()"
   ]
  },
  {
   "cell_type": "code",
   "execution_count": null,
   "id": "faec77e1",
   "metadata": {},
   "outputs": [],
   "source": [
    "fastf1.Cache.enable_cache('./f1_cache')\n",
    "fastf1.Cache.get_cache_info()"
   ]
  },
  {
   "cell_type": "code",
   "execution_count": null,
   "id": "698119f5",
   "metadata": {},
   "outputs": [],
   "source": [
    "session = fastf1.get_session(2025,17,'FP2')\n",
    "session.load()"
   ]
  },
  {
   "cell_type": "code",
   "execution_count": null,
   "id": "33276830",
   "metadata": {},
   "outputs": [],
   "source": [
    "drivers = session.drivers\n",
    "drivers = [session.get_driver(drv).Abbreviation for drv in drivers]"
   ]
  },
  {
   "cell_type": "code",
   "execution_count": null,
   "id": "6bf75d2b",
   "metadata": {},
   "outputs": [],
   "source": [
    "corner_inputs = {'low':[7,15],\n",
    "                 'med':[8,9,10,11],\n",
    "                 'high':[]}\n",
    "car_perf = compare_car_speeds(session=session,drivers=drivers,corner_inputs=corner_inputs,delta=20)"
   ]
  },
  {
   "cell_type": "code",
   "execution_count": null,
   "id": "ff50fc94",
   "metadata": {},
   "outputs": [],
   "source": [
    "car_perf"
   ]
  },
  {
   "cell_type": "code",
   "execution_count": null,
   "id": "7c73001d",
   "metadata": {},
   "outputs": [],
   "source": [
    "car_perf['color'] = car_perf.index.to_series().apply(lambda x: plotting.get_driver_color(identifier=x,session=session))"
   ]
  },
  {
   "cell_type": "code",
   "execution_count": null,
   "id": "d17f29ce",
   "metadata": {},
   "outputs": [],
   "source": [
    "# --- 1️⃣ Define ceilings (fastest driver speeds) ---\n",
    "min_speed_ceiling = car_perf['MedSpeedAvg'].max()\n",
    "max_speed_ceiling = car_perf['TopSpeed'].max()\n",
    "\n",
    "# --- 2️⃣ Calculate negative gaps (driver deficit) ---\n",
    "car_perf['min_gap'] = car_perf['MedSpeedAvg'] - min_speed_ceiling  # ≤ 0\n",
    "car_perf['max_gap'] = car_perf['TopSpeed'] - max_speed_ceiling  # ≤ 0\n",
    "\n",
    "# --- 3️⃣ Sort dataframe based on gaps (best performer first) ---\n",
    "car_perf_sorted = car_perf.sort_values(by='min_gap', ascending=False)\n",
    "\n",
    "# ----4️⃣ Sort again for max_gap (might differ from min_gap order) ----\n",
    "car_perf_sorted2 = car_perf.sort_values(by='max_gap', ascending=False)\n",
    "\n",
    "# Top driver in slow speeds\n",
    "best_driver = car_perf_sorted.index[0]\n",
    "best_speed = car_perf_sorted['MedSpeedAvg'].iloc[0]\n",
    "best_color = car_perf_sorted['color'].iloc[0]\n",
    "\n",
    "# Top driver in straights\n",
    "best_driver2 = car_perf_sorted2.index[0]\n",
    "best_speed2 = car_perf_sorted2['TopSpeed'].iloc[0]\n",
    "best_color2 = car_perf_sorted2['color'].iloc[0]"
   ]
  },
  {
   "cell_type": "code",
   "execution_count": null,
   "id": "d029a3d9",
   "metadata": {},
   "outputs": [],
   "source": [
    "# --- Plotting ---\n",
    "\n",
    "setup_plot(xyticksize=20,axeslabel=24,figtitle=30)\n",
    "\n",
    "fig, axes = plt.subplots(2, 1, figsize=(16, 10))\n",
    "\n",
    "# ---- Plot 1: Slow corner speed gaps ----\n",
    "axes[0].bar(car_perf_sorted.index,\n",
    "            car_perf_sorted['min_gap'],\n",
    "            color=car_perf_sorted['color'])\n",
    "axes[0].set_ylabel('Δ Speed (km/h)')\n",
    "axes[0].set_title(f'Castle Section Speed Deficit (compared to Best, {int(car_perf_sorted['MedSpeedAvg'].values[0])} km/h)')\n",
    "axes[0].axhline(0, color='w', linewidth=6)\n",
    "\n",
    "# ---- Plot 2: Straight-line speed gaps ----\n",
    "axes[1].bar(car_perf_sorted2.index,\n",
    "            car_perf_sorted2['max_gap'],\n",
    "            color=car_perf_sorted2['color'])\n",
    "axes[1].set_ylabel('Δ Speed (km/h)')\n",
    "axes[1].set_title(f'Top Speed Deficit (compared to Best, {int(car_perf_sorted2['TopSpeed'].values[0])} km/h)')\n",
    "axes[1].axhline(0, color='w', linewidth=6)\n",
    "\n",
    "axes[0].set_xlim(-0.5, len(car_perf_sorted) - 0.5)\n",
    "axes[1].set_xlim(-0.5, len(car_perf_sorted2) - 0.5)\n",
    "\n",
    "axes[0].text(\n",
    "    x=0, y=-2,                     # position (x = bar index, y = just below axhline)\n",
    "    s=f\"{best_speed:.0f}\",           # text to display\n",
    "    color=best_color, fontsize=24,\n",
    "    ha='center', va='bottom', fontweight='bold'\n",
    ")\n",
    "\n",
    "axes[1].text(\n",
    "    x=0, y=-2.1,                      # position (x = bar index, y = just below axhline)\n",
    "    s=f\"{best_speed2:.0f}\",           # text to display\n",
    "    color=best_color2, fontsize=24,\n",
    "    ha='center', va='bottom', fontweight='bold'\n",
    ")\n",
    "\n",
    "axes[0].grid(visible=False)\n",
    "axes[1].grid(visible=False)\n",
    "\n",
    "plt.show()"
   ]
  },
  {
   "cell_type": "code",
   "execution_count": null,
   "id": "f5491bec",
   "metadata": {},
   "outputs": [],
   "source": [
    "save_fig(fig=fig,name='speed_comp',loc='Reel20')"
   ]
  },
  {
   "cell_type": "code",
   "execution_count": null,
   "id": "08521fc6",
   "metadata": {},
   "outputs": [],
   "source": [
    "lap = session.laps.pick_fastest()"
   ]
  },
  {
   "cell_type": "code",
   "execution_count": null,
   "id": "df2607ec",
   "metadata": {},
   "outputs": [],
   "source": [
    "x = lap.telemetry['X']\n",
    "y = lap.telemetry['Y']\n",
    "color = lap.telemetry['Speed']"
   ]
  },
  {
   "cell_type": "code",
   "execution_count": null,
   "id": "a318ff5c",
   "metadata": {},
   "outputs": [],
   "source": [
    "theta = np.deg2rad(session.get_circuit_info().rotation)\n",
    "x_rot = x * np.cos(theta) - y * np.sin(theta)\n",
    "y_rot = x * np.sin(theta) + y * np.cos(theta)"
   ]
  },
  {
   "cell_type": "code",
   "execution_count": null,
   "id": "757eda12",
   "metadata": {},
   "outputs": [],
   "source": [
    "points = np.array([x_rot, y_rot]).T.reshape(-1,1,2)\n",
    "segments = np.concatenate([points[:-1], points[1:]], axis=1)"
   ]
  },
  {
   "cell_type": "code",
   "execution_count": null,
   "id": "49e0fce0",
   "metadata": {},
   "outputs": [],
   "source": [
    "fig, ax = plt.subplots(figsize=(12, 8))\n",
    "fig.set_facecolor('#000000')\n",
    "ax.axis('off')\n",
    "ax.plot(x_rot, y_rot,color='#000000', linestyle='-', linewidth=16, zorder=0)\n",
    "\n",
    "norm = plt.Normalize(color.min(), color.max())\n",
    "colormap = mpl.cm.plasma\n",
    "lc = LineCollection(segments, cmap=colormap, norm=norm,\n",
    "                    linestyle='-', linewidth=10)\n",
    "\n",
    "lc.set_array(color)\n",
    "\n",
    "line = ax.add_collection(lc)\n",
    "\n",
    "cbaxes = fig.add_axes([0.35, 0.2, 0.5, 0.05])\n",
    "normlegend = mpl.colors.Normalize(vmin=color.min(), vmax=color.max())\n",
    "legend = mpl.colorbar.ColorbarBase(cbaxes, norm=normlegend, cmap=colormap,\n",
    "                                   orientation=\"horizontal\")\n",
    "\n",
    "for label in legend.ax.get_xticklabels():\n",
    "    label.set_fontsize(16)\n",
    "    label.set_fontweight('bold')\n",
    "    label.set_color('w')\n",
    "\n",
    "legend.ax.set_title('Speed (kmph)',color='w',fontdict=dict(fontsize=18,fontweight='bold'))\n",
    "# plt.tight_layout()\n",
    "plt.show()"
   ]
  },
  {
   "cell_type": "code",
   "execution_count": null,
   "id": "1db03b74",
   "metadata": {},
   "outputs": [],
   "source": [
    "save_fig(fig=fig,name='speed_map',loc='Reel20')"
   ]
  }
 ],
 "metadata": {
  "kernelspec": {
   "display_name": ".venv",
   "language": "python",
   "name": "python3"
  },
  "language_info": {
   "codemirror_mode": {
    "name": "ipython",
    "version": 3
   },
   "file_extension": ".py",
   "mimetype": "text/x-python",
   "name": "python",
   "nbconvert_exporter": "python",
   "pygments_lexer": "ipython3",
   "version": "3.13.5"
  }
 },
 "nbformat": 4,
 "nbformat_minor": 5
}
